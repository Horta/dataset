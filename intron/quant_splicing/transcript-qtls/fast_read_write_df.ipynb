{
 "cells": [
  {
   "cell_type": "markdown",
   "metadata": {},
   "source": [
    "# Super fast Pandas DataFrame IO/Usage"
   ]
  },
  {
   "cell_type": "code",
   "execution_count": 1,
   "metadata": {},
   "outputs": [],
   "source": [
    "from __future__ import division\n",
    "import bokeh as bk\n",
    "%matplotlib inline\n",
    "import matplotlib\n",
    "matplotlib.style.use('ggplot')\n",
    "import pandas as pd\n",
    "import msgpack\n",
    "import toolz\n",
    "import scipy.stats as st\n",
    "import matplotlib.pylab as plt\n",
    "import numpy as np\n",
    "from multiprocessing import Pool\n",
    "from tqdm import tqdm\n",
    "import blosc\n",
    "import cPickle as pkl"
   ]
  },
  {
   "cell_type": "code",
   "execution_count": 2,
   "metadata": {},
   "outputs": [],
   "source": [
    "def get_genes():\n",
    "    with open('genes.msg', 'rb') as f:\n",
    "        return set(msgpack.unpackb(f.read()))\n",
    "\n",
    "def get_gene_map_intron():\n",
    "    with open('gene_map_intron.msg', 'rb') as f:\n",
    "        return dict(msgpack.unpackb(f.read()))\n",
    "\n",
    "def read_gene(gene):\n",
    "    df = pd.read_hdf('intron_events.h5', 'df', where=\"(gene == '%s')\" % (gene,))\n",
    "    df['nsuc'] = df['nread0']\n",
    "    df['ntri'] = df['nread0'] + df['nread1']\n",
    "    del df['nread0']\n",
    "    del df['nread1']\n",
    "    df = df.reset_index()\n",
    "    del df['gene']\n",
    "    del df['assay']\n",
    "    df.name = gene\n",
    "    return df\n",
    "\n",
    "def read_gene_intron(gene_intron):\n",
    "    gene, intron = gene_intron\n",
    "    df = pd.read_hdf('intron_events.h5', 'df',\n",
    "                     where=\"(gene == '%s') & (intron == %d)\" % (gene, intron))\n",
    "    df['nsuc'] = df['nread0']\n",
    "    df['ntri'] = df['nread0'] + df['nread1']\n",
    "    del df['nread0']\n",
    "    del df['nread1']\n",
    "    df = df.reset_index()\n",
    "    del df['gene']\n",
    "    del df['assay']\n",
    "    df.name = gene\n",
    "    return df\n",
    "\n",
    "def load_entire_file():\n",
    "    with open('intron_events.pkl.blp', 'rb') as f:\n",
    "        return pkl.loads(blosc.decompress(f.read()))\n",
    "\n",
    "def save_pickle():\n",
    "    with open('intron_events.pkl.blp', 'wb') as f:\n",
    "        f.write(blosc.compress(pkl.dumps(df, -1)))"
   ]
  },
  {
   "cell_type": "code",
   "execution_count": 3,
   "metadata": {},
   "outputs": [
    {
     "name": "stdout",
     "output_type": "stream",
     "text": [
      "CPU times: user 265 ms, sys: 82.3 ms, total: 347 ms\n",
      "Wall time: 355 ms\n"
     ]
    }
   ],
   "source": [
    "%%time\n",
    "genes = get_genes()\n",
    "gene_map_intron = get_gene_map_intron()"
   ]
  },
  {
   "cell_type": "markdown",
   "metadata": {},
   "source": [
    "Get all pair of gene-intron in a generator."
   ]
  },
  {
   "cell_type": "code",
   "execution_count": 4,
   "metadata": {},
   "outputs": [
    {
     "name": "stdout",
     "output_type": "stream",
     "text": [
      "CPU times: user 1.03 ms, sys: 0 ns, total: 1.03 ms\n",
      "Wall time: 1.03 ms\n"
     ]
    }
   ],
   "source": [
    "%%time\n",
    "gi = gene_map_intron\n",
    "gene_intron = ((k, v) for k in gi.keys() for v in gi[k])"
   ]
  },
  {
   "cell_type": "code",
   "execution_count": 5,
   "metadata": {},
   "outputs": [
    {
     "name": "stdout",
     "output_type": "stream",
     "text": [
      "CPU times: user 1.4 s, sys: 938 ms, total: 2.34 s\n",
      "Wall time: 1.57 s\n"
     ]
    }
   ],
   "source": [
    "%%time\n",
    "df = load_entire_file()"
   ]
  },
  {
   "cell_type": "code",
   "execution_count": 6,
   "metadata": {},
   "outputs": [],
   "source": [
    "gene0 = toolz.first(genes)"
   ]
  },
  {
   "cell_type": "code",
   "execution_count": 7,
   "metadata": {},
   "outputs": [
    {
     "name": "stdout",
     "output_type": "stream",
     "text": [
      "CPU times: user 2.81 s, sys: 3.14 s, total: 5.95 s\n",
      "Wall time: 5.96 s\n"
     ]
    },
    {
     "data": {
      "text/html": [
       "<div>\n",
       "<table border=\"1\" class=\"dataframe\">\n",
       "  <thead>\n",
       "    <tr style=\"text-align: right;\">\n",
       "      <th></th>\n",
       "      <th></th>\n",
       "      <th>assay</th>\n",
       "      <th>nread0</th>\n",
       "      <th>nread1</th>\n",
       "    </tr>\n",
       "    <tr>\n",
       "      <th>gene</th>\n",
       "      <th>intron</th>\n",
       "      <th></th>\n",
       "      <th></th>\n",
       "      <th></th>\n",
       "    </tr>\n",
       "  </thead>\n",
       "  <tbody>\n",
       "    <tr>\n",
       "      <th rowspan=\"5\" valign=\"top\">ENSG00000110514</th>\n",
       "      <th>30</th>\n",
       "      <td>HG00096.1.M_111124_6</td>\n",
       "      <td>6</td>\n",
       "      <td>107</td>\n",
       "    </tr>\n",
       "    <tr>\n",
       "      <th>30</th>\n",
       "      <td>HG00097.7.M_120219_2</td>\n",
       "      <td>8</td>\n",
       "      <td>188</td>\n",
       "    </tr>\n",
       "    <tr>\n",
       "      <th>30</th>\n",
       "      <td>HG00099.1.M_120209_6</td>\n",
       "      <td>3</td>\n",
       "      <td>142</td>\n",
       "    </tr>\n",
       "    <tr>\n",
       "      <th>30</th>\n",
       "      <td>HG00099.5.M_120131_3</td>\n",
       "      <td>0</td>\n",
       "      <td>141</td>\n",
       "    </tr>\n",
       "    <tr>\n",
       "      <th>30</th>\n",
       "      <td>HG00100.2.M_111215_8</td>\n",
       "      <td>4</td>\n",
       "      <td>118</td>\n",
       "    </tr>\n",
       "  </tbody>\n",
       "</table>\n",
       "</div>"
      ],
      "text/plain": [
       "                                       assay  nread0  nread1\n",
       "gene            intron                                      \n",
       "ENSG00000110514 30      HG00096.1.M_111124_6       6     107\n",
       "                30      HG00097.7.M_120219_2       8     188\n",
       "                30      HG00099.1.M_120209_6       3     142\n",
       "                30      HG00099.5.M_120131_3       0     141\n",
       "                30      HG00100.2.M_111215_8       4     118"
      ]
     },
     "execution_count": 7,
     "metadata": {},
     "output_type": "execute_result"
    }
   ],
   "source": [
    "%%time\n",
    "df.loc[gene0, 30].head()"
   ]
  }
 ],
 "metadata": {
  "kernelspec": {
   "display_name": "Python [conda env:new27]",
   "language": "python",
   "name": "conda-env-new27-py"
  },
  "language_info": {
   "codemirror_mode": {
    "name": "ipython",
    "version": 2
   },
   "file_extension": ".py",
   "mimetype": "text/x-python",
   "name": "python",
   "nbconvert_exporter": "python",
   "pygments_lexer": "ipython2",
   "version": "2.7.12"
  }
 },
 "nbformat": 4,
 "nbformat_minor": 1
}
