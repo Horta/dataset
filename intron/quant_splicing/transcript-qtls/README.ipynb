{
 "cells": [
  {
   "cell_type": "markdown",
   "metadata": {},
   "source": [
    "Folder **counts/intron_events** cotains the raw dataset,\n",
    "and filenames can be understood by the following image:"
   ]
  },
  {
   "cell_type": "code",
   "execution_count": 192,
   "metadata": {},
   "outputs": [],
   "source": [
    "from __future__ import division\n",
    "import bokeh as bk\n",
    "%matplotlib inline\n",
    "import matplotlib\n",
    "matplotlib.style.use('ggplot')\n",
    "import pandas as pd\n",
    "import msgpack\n",
    "import toolz\n",
    "import scipy.stats as st\n",
    "import matplotlib.pylab as plt\n",
    "import numpy as np\n",
    "from multiprocessing import Pool"
   ]
  },
  {
   "cell_type": "code",
   "execution_count": 2,
   "metadata": {},
   "outputs": [],
   "source": [
    "def get_genes():\n",
    "    with open('genes.msg', 'rb') as f:\n",
    "        return set(msgpack.unpackb(f.read()))"
   ]
  },
  {
   "cell_type": "code",
   "execution_count": 3,
   "metadata": {},
   "outputs": [
    {
     "name": "stdout",
     "output_type": "stream",
     "text": [
      "CPU times: user 6.12 ms, sys: 2.36 ms, total: 8.48 ms\n",
      "Wall time: 8.31 ms\n"
     ]
    }
   ],
   "source": [
    "%%time\n",
    "genes = get_genes()"
   ]
  },
  {
   "cell_type": "code",
   "execution_count": 4,
   "metadata": {},
   "outputs": [],
   "source": [
    "def get_gene_map_intron():\n",
    "    with open('gene_map_intron.msg', 'rb') as f:\n",
    "        return dict(msgpack.unpackb(f.read()))"
   ]
  },
  {
   "cell_type": "code",
   "execution_count": 5,
   "metadata": {},
   "outputs": [
    {
     "name": "stdout",
     "output_type": "stream",
     "text": [
      "CPU times: user 296 ms, sys: 103 ms, total: 399 ms\n",
      "Wall time: 398 ms\n"
     ]
    }
   ],
   "source": [
    "%%time\n",
    "gene_map_intron = get_gene_map_intron()"
   ]
  },
  {
   "cell_type": "code",
   "execution_count": 189,
   "metadata": {},
   "outputs": [],
   "source": [
    "def read_gene(gene):\n",
    "    df = pd.read_hdf('introns_events_3.h5', 'df', where=\"(gene == '%s')\" % (gene,))\n",
    "    df['nsuc'] = df['nread0']\n",
    "    df['ntri'] = df['nread0'] + df['nread1']\n",
    "    del df['nread0']\n",
    "    del df['nread1']\n",
    "    df = df.reset_index()\n",
    "    del df['gene']\n",
    "    del df['assay']\n",
    "    df.name = gene\n",
    "    return df\n",
    "\n",
    "def frequency_data(df):\n",
    "    return df.groupby(['intron', 'ntri']).size().unstack(level=0)\n",
    "\n",
    "def valid_ones(x):\n",
    "    x = np.asarray(x)\n",
    "    return x[np.isfinite(x)]"
   ]
  },
  {
   "cell_type": "code",
   "execution_count": 193,
   "metadata": {},
   "outputs": [],
   "source": [
    "def compute_ntri_freq_skew(gene):\n",
    "    df = read_gene(gene)\n",
    "    data = frequency_data(df)\n",
    "    return data.apply(lambda x: st.skew(valid_ones(x))).mean()\n",
    "\n",
    "p = Pool(20)\n",
    "ntri_freq_skew = p.map(compute_ntri_freq_skew, genes)"
   ]
  },
  {
   "cell_type": "code",
   "execution_count": 199,
   "metadata": {},
   "outputs": [],
   "source": [
    "imin, imax = np.argmin(ntri_freq_skew), np.argmax(ntri_freq_skew)"
   ]
  },
  {
   "cell_type": "code",
   "execution_count": 236,
   "metadata": {},
   "outputs": [],
   "source": [
    "def get_freq_data(gene):\n",
    "    df = read_gene(gene)\n",
    "    return df.groupby(['intron', 'ntri']).size().unstack(level=0)\n",
    "\n",
    "def plot_frequencies(gene):\n",
    "    def get_extremes(x):\n",
    "        x = np.asarray(x).ravel()\n",
    "        x = x[~np.isnan(x)]\n",
    "\n",
    "        return np.min(x), np.percentile(x, 99.5), np.max(x)\n",
    "\n",
    "\n",
    "    \n",
    "    f, ((ax00, ax01), (ax10, ax11)) = plt.subplots(2, 2, facecolor='w',\n",
    "                                                  sharex='col', sharey='row',\n",
    "                                                  figsize=(10,5))\n",
    "    data = get_freq_data(gene)\n",
    "\n",
    "    ax00 = data.plot(ax=ax00, legend=False, title=None)\n",
    "    ax01 = data.plot(ax=ax01, legend=False, title=None)\n",
    "\n",
    "    ax10 = data.plot(ax=ax10, legend=False, title=None)\n",
    "    ax11 = data.plot(ax=ax11, legend=False, title=None)\n",
    "\n",
    "    x0, x1, x2 = get_extremes(df['ntri'])\n",
    "    y0, y1, y2 = get_extremes(data)\n",
    "\n",
    "    ax00.set_ylim(y1, y2)\n",
    "    ax00.set_xlim(x0, x1)\n",
    "\n",
    "    ax01.set_ylim(y1, y2)\n",
    "    ax01.set_xlim(x1, x2)\n",
    "\n",
    "    ax10.set_ylim(y0, y1)\n",
    "    ax10.set_xlim(x0, x1)\n",
    "\n",
    "    ax11.set_ylim(y0, y1)\n",
    "    ax11.set_xlim(x1, x2)\n",
    "\n",
    "    ax00.set_ylabel('Frequency');\n",
    "    ax10.set_ylabel('Frequency');\n",
    "\n",
    "    return f.suptitle(gene0, fontsize=16)"
   ]
  },
  {
   "cell_type": "code",
   "execution_count": 237,
   "metadata": {},
   "outputs": [],
   "source": [
    "gene_min, gene_max = list(genes)[imin], list(genes)[imax]"
   ]
  },
  {
   "cell_type": "code",
   "execution_count": 251,
   "metadata": {},
   "outputs": [
    {
     "name": "stdout",
     "output_type": "stream",
     "text": [
      "GENE: ENSG00000225815\n"
     ]
    },
    {
     "data": {
      "text/html": [
       "<div>\n",
       "<table border=\"1\" class=\"dataframe\">\n",
       "  <thead>\n",
       "    <tr style=\"text-align: right;\">\n",
       "      <th>intron</th>\n",
       "      <th>1</th>\n",
       "    </tr>\n",
       "    <tr>\n",
       "      <th>ntri</th>\n",
       "      <th></th>\n",
       "    </tr>\n",
       "  </thead>\n",
       "  <tbody>\n",
       "    <tr>\n",
       "      <th>0</th>\n",
       "      <td>569</td>\n",
       "    </tr>\n",
       "    <tr>\n",
       "      <th>2</th>\n",
       "      <td>2</td>\n",
       "    </tr>\n",
       "  </tbody>\n",
       "</table>\n",
       "</div>"
      ],
      "text/plain": [
       "intron    1\n",
       "ntri       \n",
       "0       569\n",
       "2         2"
      ]
     },
     "execution_count": 251,
     "metadata": {},
     "output_type": "execute_result"
    }
   ],
   "source": [
    "print(\"GENE: %s\" % gene_min)\n",
    "get_freq_data(gene_min)"
   ]
  },
  {
   "cell_type": "code",
   "execution_count": 252,
   "metadata": {},
   "outputs": [
    {
     "name": "stdout",
     "output_type": "stream",
     "text": [
      "GENE: ENSG00000166710\n"
     ]
    },
    {
     "data": {
      "text/html": [
       "<div>\n",
       "<table border=\"1\" class=\"dataframe\">\n",
       "  <thead>\n",
       "    <tr style=\"text-align: right;\">\n",
       "      <th>intron</th>\n",
       "      <th>1</th>\n",
       "      <th>2</th>\n",
       "    </tr>\n",
       "    <tr>\n",
       "      <th>ntri</th>\n",
       "      <th></th>\n",
       "      <th></th>\n",
       "    </tr>\n",
       "  </thead>\n",
       "  <tbody>\n",
       "    <tr>\n",
       "      <th>1646</th>\n",
       "      <td>1.0</td>\n",
       "      <td>NaN</td>\n",
       "    </tr>\n",
       "    <tr>\n",
       "      <th>2128</th>\n",
       "      <td>NaN</td>\n",
       "      <td>1.0</td>\n",
       "    </tr>\n",
       "    <tr>\n",
       "      <th>27525</th>\n",
       "      <td>1.0</td>\n",
       "      <td>NaN</td>\n",
       "    </tr>\n",
       "    <tr>\n",
       "      <th>28008</th>\n",
       "      <td>1.0</td>\n",
       "      <td>NaN</td>\n",
       "    </tr>\n",
       "    <tr>\n",
       "      <th>28026</th>\n",
       "      <td>1.0</td>\n",
       "      <td>NaN</td>\n",
       "    </tr>\n",
       "  </tbody>\n",
       "</table>\n",
       "</div>"
      ],
      "text/plain": [
       "intron    1    2\n",
       "ntri            \n",
       "1646    1.0  NaN\n",
       "2128    NaN  1.0\n",
       "27525   1.0  NaN\n",
       "28008   1.0  NaN\n",
       "28026   1.0  NaN"
      ]
     },
     "execution_count": 252,
     "metadata": {},
     "output_type": "execute_result"
    }
   ],
   "source": [
    "print(\"GENE: %s\" % gene_max)\n",
    "get_freq_data(gene_max).sort_index().head()"
   ]
  },
  {
   "cell_type": "code",
   "execution_count": 253,
   "metadata": {},
   "outputs": [
    {
     "data": {
      "text/html": [
       "<div>\n",
       "<table border=\"1\" class=\"dataframe\">\n",
       "  <thead>\n",
       "    <tr style=\"text-align: right;\">\n",
       "      <th>intron</th>\n",
       "      <th>1</th>\n",
       "      <th>2</th>\n",
       "    </tr>\n",
       "    <tr>\n",
       "      <th>ntri</th>\n",
       "      <th></th>\n",
       "      <th></th>\n",
       "    </tr>\n",
       "  </thead>\n",
       "  <tbody>\n",
       "    <tr>\n",
       "      <th>441784</th>\n",
       "      <td>NaN</td>\n",
       "      <td>1.0</td>\n",
       "    </tr>\n",
       "    <tr>\n",
       "      <th>449537</th>\n",
       "      <td>NaN</td>\n",
       "      <td>1.0</td>\n",
       "    </tr>\n",
       "    <tr>\n",
       "      <th>470593</th>\n",
       "      <td>NaN</td>\n",
       "      <td>1.0</td>\n",
       "    </tr>\n",
       "    <tr>\n",
       "      <th>474911</th>\n",
       "      <td>NaN</td>\n",
       "      <td>1.0</td>\n",
       "    </tr>\n",
       "    <tr>\n",
       "      <th>587359</th>\n",
       "      <td>NaN</td>\n",
       "      <td>1.0</td>\n",
       "    </tr>\n",
       "  </tbody>\n",
       "</table>\n",
       "</div>"
      ],
      "text/plain": [
       "intron   1    2\n",
       "ntri           \n",
       "441784 NaN  1.0\n",
       "449537 NaN  1.0\n",
       "470593 NaN  1.0\n",
       "474911 NaN  1.0\n",
       "587359 NaN  1.0"
      ]
     },
     "execution_count": 253,
     "metadata": {},
     "output_type": "execute_result"
    }
   ],
   "source": [
    "get_freq_data(gene_max).sort_index().tail()"
   ]
  },
  {
   "cell_type": "code",
   "execution_count": null,
   "metadata": {},
   "outputs": [],
   "source": []
  },
  {
   "cell_type": "code",
   "execution_count": null,
   "metadata": {},
   "outputs": [],
   "source": []
  },
  {
   "cell_type": "code",
   "execution_count": null,
   "metadata": {},
   "outputs": [],
   "source": []
  },
  {
   "cell_type": "code",
   "execution_count": null,
   "metadata": {},
   "outputs": [],
   "source": []
  },
  {
   "cell_type": "code",
   "execution_count": null,
   "metadata": {},
   "outputs": [],
   "source": []
  },
  {
   "cell_type": "code",
   "execution_count": null,
   "metadata": {},
   "outputs": [],
   "source": []
  },
  {
   "cell_type": "code",
   "execution_count": 207,
   "metadata": {},
   "outputs": [
    {
     "name": "stderr",
     "output_type": "stream",
     "text": [
      "/nfs/software/stegle/users/horta/conda-envs/data27/lib/python2.7/site-packages/matplotlib/axes/_base.py:2782: UserWarning: Attempting to set identical left==right results\n",
      "in singular transformations; automatically expanding.\n",
      "left=0, right=0.0\n",
      "  'left=%s, right=%s') % (left, right))\n"
     ]
    },
    {
     "data": {
      "image/png": "[encoded data removed]",
      "text/plain": [
       "<matplotlib.figure.Figure at 0x7f87ba8f8d50>"
      ]
     },
     "metadata": {},
     "output_type": "display_data"
    }
   ],
   "source": [
    "plot_frequencies(gene_min);"
   ]
  },
  {
   "cell_type": "code",
   "execution_count": 208,
   "metadata": {},
   "outputs": [
    {
     "name": "stderr",
     "output_type": "stream",
     "text": [
      "/nfs/software/stegle/users/horta/conda-envs/data27/lib/python2.7/site-packages/matplotlib/axes/_base.py:3040: UserWarning: Attempting to set identical bottom==top results\n",
      "in singular transformations; automatically expanding.\n",
      "bottom=1.0, top=1.0\n",
      "  'bottom=%s, top=%s') % (bottom, top))\n"
     ]
    },
    {
     "data": {
      "image/png": "[encoded data removed]",
      "text/plain": [
       "<matplotlib.figure.Figure at 0x7f87ba1b5cd0>"
      ]
     },
     "metadata": {},
     "output_type": "display_data"
    }
   ],
   "source": [
    "plot_frequencies(gene_max);"
   ]
  },
  {
   "cell_type": "code",
   "execution_count": null,
   "metadata": {},
   "outputs": [],
   "source": []
  },
  {
   "cell_type": "code",
   "execution_count": null,
   "metadata": {},
   "outputs": [],
   "source": []
  },
  {
   "cell_type": "markdown",
   "metadata": {},
   "source": [
    "Each line of the above figure is a different intron of the corresponding gene."
   ]
  },
  {
   "cell_type": "code",
   "execution_count": null,
   "metadata": {},
   "outputs": [],
   "source": []
  },
  {
   "cell_type": "code",
   "execution_count": null,
   "metadata": {},
   "outputs": [],
   "source": []
  },
  {
   "cell_type": "code",
   "execution_count": null,
   "metadata": {},
   "outputs": [],
   "source": []
  },
  {
   "cell_type": "code",
   "execution_count": null,
   "metadata": {},
   "outputs": [],
   "source": []
  },
  {
   "cell_type": "code",
   "execution_count": null,
   "metadata": {},
   "outputs": [],
   "source": []
  },
  {
   "cell_type": "code",
   "execution_count": null,
   "metadata": {},
   "outputs": [],
   "source": []
  },
  {
   "cell_type": "code",
   "execution_count": null,
   "metadata": {},
   "outputs": [],
   "source": []
  },
  {
   "cell_type": "code",
   "execution_count": null,
   "metadata": {},
   "outputs": [],
   "source": []
  },
  {
   "cell_type": "code",
   "execution_count": null,
   "metadata": {},
   "outputs": [],
   "source": []
  },
  {
   "cell_type": "code",
   "execution_count": null,
   "metadata": {},
   "outputs": [],
   "source": []
  },
  {
   "cell_type": "code",
   "execution_count": 13,
   "metadata": {},
   "outputs": [],
   "source": [
    "table = pd.read_hdf('introns_events_3.h5', 'df', where=\"(gene == '%s') & (intron == %d)\" % (gene_id, intron_id))"
   ]
  },
  {
   "cell_type": "code",
   "execution_count": 14,
   "metadata": {},
   "outputs": [
    {
     "data": {
      "text/html": [
       "<div>\n",
       "<table border=\"1\" class=\"dataframe\">\n",
       "  <thead>\n",
       "    <tr style=\"text-align: right;\">\n",
       "      <th></th>\n",
       "      <th></th>\n",
       "      <th>assay</th>\n",
       "      <th>nread0</th>\n",
       "      <th>nread1</th>\n",
       "    </tr>\n",
       "    <tr>\n",
       "      <th>gene</th>\n",
       "      <th>intron</th>\n",
       "      <th></th>\n",
       "      <th></th>\n",
       "      <th></th>\n",
       "    </tr>\n",
       "  </thead>\n",
       "  <tbody>\n",
       "    <tr>\n",
       "      <th rowspan=\"5\" valign=\"top\">ENSG00000110514</th>\n",
       "      <th>1</th>\n",
       "      <td>HG00096.1.M_111124_6</td>\n",
       "      <td>1</td>\n",
       "      <td>2</td>\n",
       "    </tr>\n",
       "    <tr>\n",
       "      <th>1</th>\n",
       "      <td>HG00097.7.M_120219_2</td>\n",
       "      <td>0</td>\n",
       "      <td>3</td>\n",
       "    </tr>\n",
       "    <tr>\n",
       "      <th>1</th>\n",
       "      <td>HG00099.1.M_120209_6</td>\n",
       "      <td>0</td>\n",
       "      <td>4</td>\n",
       "    </tr>\n",
       "    <tr>\n",
       "      <th>1</th>\n",
       "      <td>HG00099.5.M_120131_3</td>\n",
       "      <td>0</td>\n",
       "      <td>3</td>\n",
       "    </tr>\n",
       "    <tr>\n",
       "      <th>1</th>\n",
       "      <td>HG00100.2.M_111215_8</td>\n",
       "      <td>0</td>\n",
       "      <td>2</td>\n",
       "    </tr>\n",
       "  </tbody>\n",
       "</table>\n",
       "</div>"
      ],
      "text/plain": [
       "                                       assay  nread0  nread1\n",
       "gene            intron                                      \n",
       "ENSG00000110514 1       HG00096.1.M_111124_6       1       2\n",
       "                1       HG00097.7.M_120219_2       0       3\n",
       "                1       HG00099.1.M_120209_6       0       4\n",
       "                1       HG00099.5.M_120131_3       0       3\n",
       "                1       HG00100.2.M_111215_8       0       2"
      ]
     },
     "execution_count": 14,
     "metadata": {},
     "output_type": "execute_result"
    }
   ],
   "source": [
    "table.head()"
   ]
  },
  {
   "cell_type": "code",
   "execution_count": 15,
   "metadata": {},
   "outputs": [
    {
     "data": {
      "text/plain": [
       "(571, 3)"
      ]
     },
     "execution_count": 15,
     "metadata": {},
     "output_type": "execute_result"
    }
   ],
   "source": [
    "table.shape"
   ]
  },
  {
   "cell_type": "code",
   "execution_count": 95,
   "metadata": {},
   "outputs": [],
   "source": [
    "df0 = pd.DataFrame(dict(nsuccesses=table['nread0'],\n",
    "                        ntrials=table['nread0'] + table['nread1']))\n",
    "df1 = pd.concat([df0.groupby('ntrials').count().rename(columns={'nsuccesses':'frequency'}),\n",
    "      100*df0.groupby('ntrials').mean().rename(columns={'nsuccesses':'%avg. nsuc'})], axis=1)"
   ]
  },
  {
   "cell_type": "code",
   "execution_count": 96,
   "metadata": {},
   "outputs": [
    {
     "data": {
      "text/plain": [
       "<matplotlib.axes._subplots.AxesSubplot at 0x7fe8f4b597d0>"
      ]
     },
     "execution_count": 96,
     "metadata": {},
     "output_type": "execute_result"
    },
    {
     "data": {
      "image/png": "[encoded data removed]",
      "text/plain": [
       "<matplotlib.figure.Figure at 0x7fe8f4b64150>"
      ]
     },
     "metadata": {},
     "output_type": "display_data"
    }
   ],
   "source": [
    "df1.plot()"
   ]
  },
  {
   "cell_type": "code",
   "execution_count": 97,
   "metadata": {},
   "outputs": [],
   "source": []
  },
  {
   "cell_type": "code",
   "execution_count": 100,
   "metadata": {},
   "outputs": [
    {
     "data": {
      "text/plain": [
       "0.9738562378422959"
      ]
     },
     "execution_count": 100,
     "metadata": {},
     "output_type": "execute_result"
    }
   ],
   "source": [
    "st.skew(df1['frequency'])"
   ]
  },
  {
   "cell_type": "code",
   "execution_count": 52,
   "metadata": {},
   "outputs": [
    {
     "data": {
      "text/plain": [
       "<matplotlib.axes._subplots.AxesSubplot at 0x7fe8f528fe10>"
      ]
     },
     "execution_count": 52,
     "metadata": {},
     "output_type": "execute_result"
    },
    {
     "data": {
      "image/png": "[encoded data removed]",
      "text/plain": [
       "<matplotlib.figure.Figure at 0x7fe8f5615a10>"
      ]
     },
     "metadata": {},
     "output_type": "display_data"
    }
   ],
   "source": [
    "sdf.plot.hist(stacked=True, alpha=0.5, bins=10)"
   ]
  },
  {
   "cell_type": "code",
   "execution_count": 58,
   "metadata": {},
   "outputs": [
    {
     "data": {
      "text/html": [
       "<div>\n",
       "<table border=\"1\" class=\"dataframe\">\n",
       "  <thead>\n",
       "    <tr style=\"text-align: right;\">\n",
       "      <th></th>\n",
       "      <th>count</th>\n",
       "    </tr>\n",
       "    <tr>\n",
       "      <th>ntrials</th>\n",
       "      <th></th>\n",
       "    </tr>\n",
       "  </thead>\n",
       "  <tbody>\n",
       "    <tr>\n",
       "      <th>0</th>\n",
       "      <td>56</td>\n",
       "    </tr>\n",
       "    <tr>\n",
       "      <th>1</th>\n",
       "      <td>70</td>\n",
       "    </tr>\n",
       "    <tr>\n",
       "      <th>2</th>\n",
       "      <td>85</td>\n",
       "    </tr>\n",
       "    <tr>\n",
       "      <th>3</th>\n",
       "      <td>92</td>\n",
       "    </tr>\n",
       "    <tr>\n",
       "      <th>4</th>\n",
       "      <td>60</td>\n",
       "    </tr>\n",
       "    <tr>\n",
       "      <th>5</th>\n",
       "      <td>48</td>\n",
       "    </tr>\n",
       "    <tr>\n",
       "      <th>6</th>\n",
       "      <td>39</td>\n",
       "    </tr>\n",
       "    <tr>\n",
       "      <th>7</th>\n",
       "      <td>30</td>\n",
       "    </tr>\n",
       "    <tr>\n",
       "      <th>8</th>\n",
       "      <td>28</td>\n",
       "    </tr>\n",
       "    <tr>\n",
       "      <th>9</th>\n",
       "      <td>14</td>\n",
       "    </tr>\n",
       "    <tr>\n",
       "      <th>10</th>\n",
       "      <td>9</td>\n",
       "    </tr>\n",
       "    <tr>\n",
       "      <th>11</th>\n",
       "      <td>9</td>\n",
       "    </tr>\n",
       "    <tr>\n",
       "      <th>12</th>\n",
       "      <td>8</td>\n",
       "    </tr>\n",
       "    <tr>\n",
       "      <th>13</th>\n",
       "      <td>5</td>\n",
       "    </tr>\n",
       "    <tr>\n",
       "      <th>14</th>\n",
       "      <td>3</td>\n",
       "    </tr>\n",
       "    <tr>\n",
       "      <th>15</th>\n",
       "      <td>7</td>\n",
       "    </tr>\n",
       "    <tr>\n",
       "      <th>16</th>\n",
       "      <td>3</td>\n",
       "    </tr>\n",
       "    <tr>\n",
       "      <th>17</th>\n",
       "      <td>1</td>\n",
       "    </tr>\n",
       "    <tr>\n",
       "      <th>18</th>\n",
       "      <td>1</td>\n",
       "    </tr>\n",
       "    <tr>\n",
       "      <th>20</th>\n",
       "      <td>1</td>\n",
       "    </tr>\n",
       "    <tr>\n",
       "      <th>21</th>\n",
       "      <td>1</td>\n",
       "    </tr>\n",
       "    <tr>\n",
       "      <th>22</th>\n",
       "      <td>1</td>\n",
       "    </tr>\n",
       "  </tbody>\n",
       "</table>\n",
       "</div>"
      ],
      "text/plain": [
       "         count\n",
       "ntrials       \n",
       "0           56\n",
       "1           70\n",
       "2           85\n",
       "3           92\n",
       "4           60\n",
       "5           48\n",
       "6           39\n",
       "7           30\n",
       "8           28\n",
       "9           14\n",
       "10           9\n",
       "11           9\n",
       "12           8\n",
       "13           5\n",
       "14           3\n",
       "15           7\n",
       "16           3\n",
       "17           1\n",
       "18           1\n",
       "20           1\n",
       "21           1\n",
       "22           1"
      ]
     },
     "execution_count": 58,
     "metadata": {},
     "output_type": "execute_result"
    }
   ],
   "source": []
  },
  {
   "cell_type": "code",
   "execution_count": 42,
   "metadata": {},
   "outputs": [],
   "source": [
    "import numpy as np\n",
    "\n",
    "ratio = table['nread0']/(table['nread0'] + table['nread1'])\n",
    "ratio -= ratio.mean()\n",
    "ratio /= ratio.std()\n",
    "sdf = pd.DataFrame(dict(ratio=ratio))"
   ]
  },
  {
   "cell_type": "code",
   "execution_count": 44,
   "metadata": {},
   "outputs": [
    {
     "data": {
      "text/plain": [
       "1.5"
      ]
     },
     "execution_count": 44,
     "metadata": {},
     "output_type": "execute_result"
    }
   ],
   "source": [
    "3/2"
   ]
  },
  {
   "cell_type": "code",
   "execution_count": 43,
   "metadata": {},
   "outputs": [
    {
     "data": {
      "image/png": "[encoded data removed]",
      "text/plain": [
       "<matplotlib.figure.Figure at 0x7fe8f572c510>"
      ]
     },
     "metadata": {},
     "output_type": "display_data"
    }
   ],
   "source": [
    "sdf.plot.box();"
   ]
  },
  {
   "cell_type": "code",
   "execution_count": 3,
   "metadata": {},
   "outputs": [
    {
     "data": {
      "text/html": [
       "<div>\n",
       "<table border=\"1\" class=\"dataframe\">\n",
       "  <thead>\n",
       "    <tr style=\"text-align: right;\">\n",
       "      <th></th>\n",
       "      <th></th>\n",
       "      <th>assay</th>\n",
       "      <th>nread0</th>\n",
       "      <th>nread1</th>\n",
       "    </tr>\n",
       "    <tr>\n",
       "      <th>gene</th>\n",
       "      <th>intron</th>\n",
       "      <th></th>\n",
       "      <th></th>\n",
       "      <th></th>\n",
       "    </tr>\n",
       "  </thead>\n",
       "  <tbody>\n",
       "    <tr>\n",
       "      <th rowspan=\"5\" valign=\"top\">ENSG00000000003</th>\n",
       "      <th>1</th>\n",
       "      <td>HG00096.1.M_111124_6</td>\n",
       "      <td>0</td>\n",
       "      <td>2</td>\n",
       "    </tr>\n",
       "    <tr>\n",
       "      <th>2</th>\n",
       "      <td>HG00096.1.M_111124_6</td>\n",
       "      <td>0</td>\n",
       "      <td>1</td>\n",
       "    </tr>\n",
       "    <tr>\n",
       "      <th>3</th>\n",
       "      <td>HG00096.1.M_111124_6</td>\n",
       "      <td>0</td>\n",
       "      <td>0</td>\n",
       "    </tr>\n",
       "    <tr>\n",
       "      <th>4</th>\n",
       "      <td>HG00096.1.M_111124_6</td>\n",
       "      <td>0</td>\n",
       "      <td>2</td>\n",
       "    </tr>\n",
       "    <tr>\n",
       "      <th>5</th>\n",
       "      <td>HG00096.1.M_111124_6</td>\n",
       "      <td>0</td>\n",
       "      <td>3</td>\n",
       "    </tr>\n",
       "  </tbody>\n",
       "</table>\n",
       "</div>"
      ],
      "text/plain": [
       "                                       assay  nread0  nread1\n",
       "gene            intron                                      \n",
       "ENSG00000000003 1       HG00096.1.M_111124_6       0       2\n",
       "                2       HG00096.1.M_111124_6       0       1\n",
       "                3       HG00096.1.M_111124_6       0       0\n",
       "                4       HG00096.1.M_111124_6       0       2\n",
       "                5       HG00096.1.M_111124_6       0       3"
      ]
     },
     "execution_count": 3,
     "metadata": {},
     "output_type": "execute_result"
    }
   ],
   "source": [
    "df.head()"
   ]
  },
  {
   "cell_type": "code",
   "execution_count": 4,
   "metadata": {},
   "outputs": [],
   "source": [
    "df.to_hdf('intro_events_1.h5', 'df', mode='w', complib='blosc', format='table')"
   ]
  },
  {
   "cell_type": "code",
   "execution_count": 6,
   "metadata": {},
   "outputs": [],
   "source": [
    "hdf = pd.HDFStore('intro_events_1.h5', mode='r')"
   ]
  },
  {
   "cell_type": "code",
   "execution_count": 8,
   "metadata": {},
   "outputs": [
    {
     "data": {
      "text/plain": [
       "frame_table  (typ->appendable_multi,nrows->128811890,ncols->5,indexers->[index],dc->[intron,gene])"
      ]
     },
     "execution_count": 8,
     "metadata": {},
     "output_type": "execute_result"
    }
   ],
   "source": [
    "s = hdf.get_storer('df')\n",
    "s"
   ]
  },
  {
   "cell_type": "code",
   "execution_count": 14,
   "metadata": {},
   "outputs": [],
   "source": [
    "hdf.close()"
   ]
  },
  {
   "cell_type": "code",
   "execution_count": 15,
   "metadata": {},
   "outputs": [],
   "source": [
    "hdf = pd.HDFStore('intro_events_1.h5')"
   ]
  },
  {
   "cell_type": "code",
   "execution_count": 19,
   "metadata": {},
   "outputs": [],
   "source": [
    "gene_set = set(list(hdf.root.df.table.col('gene')))"
   ]
  },
  {
   "cell_type": "code",
   "execution_count": 23,
   "metadata": {},
   "outputs": [],
   "source": [
    "hdf.put('gene_set', pd.Series(list(gene_set)))"
   ]
  },
  {
   "cell_type": "code",
   "execution_count": 24,
   "metadata": {},
   "outputs": [],
   "source": [
    "hdf.close()"
   ]
  },
  {
   "cell_type": "code",
   "execution_count": 25,
   "metadata": {},
   "outputs": [],
   "source": [
    "hdf = pd.HDFStore('intro_events_1.h5')"
   ]
  },
  {
   "cell_type": "code",
   "execution_count": 29,
   "metadata": {},
   "outputs": [],
   "source": [
    "gs = hdf.get_storer('gene_set')"
   ]
  },
  {
   "cell_type": "code",
   "execution_count": 38,
   "metadata": {},
   "outputs": [],
   "source": [
    "gene_set = hdf['gene_set']"
   ]
  },
  {
   "cell_type": "code",
   "execution_count": 50,
   "metadata": {},
   "outputs": [],
   "source": [
    "hdf.put('gene_set', gene_set, encoding='ascii')"
   ]
  },
  {
   "cell_type": "code",
   "execution_count": 51,
   "metadata": {},
   "outputs": [],
   "source": [
    "hdf.close()"
   ]
  },
  {
   "cell_type": "code",
   "execution_count": 52,
   "metadata": {},
   "outputs": [],
   "source": [
    "hdf = pd.HDFStore('intro_events_1.h5')"
   ]
  },
  {
   "cell_type": "code",
   "execution_count": 58,
   "metadata": {},
   "outputs": [],
   "source": [
    "q = hdf.select('df', columns=['gene', 'intron'])"
   ]
  },
  {
   "cell_type": "code",
   "execution_count": 74,
   "metadata": {},
   "outputs": [
    {
     "data": {
      "text/html": [
       "<div>\n",
       "<table border=\"1\" class=\"dataframe\">\n",
       "  <thead>\n",
       "    <tr style=\"text-align: right;\">\n",
       "      <th></th>\n",
       "      <th></th>\n",
       "    </tr>\n",
       "    <tr>\n",
       "      <th>gene</th>\n",
       "      <th>intron</th>\n",
       "    </tr>\n",
       "  </thead>\n",
       "  <tbody>\n",
       "    <tr>\n",
       "      <th rowspan=\"5\" valign=\"top\">ENSG00000000003</th>\n",
       "      <th>1</th>\n",
       "    </tr>\n",
       "    <tr>\n",
       "      <th>2</th>\n",
       "    </tr>\n",
       "    <tr>\n",
       "      <th>3</th>\n",
       "    </tr>\n",
       "    <tr>\n",
       "      <th>4</th>\n",
       "    </tr>\n",
       "    <tr>\n",
       "      <th>5</th>\n",
       "    </tr>\n",
       "  </tbody>\n",
       "</table>\n",
       "</div>"
      ],
      "text/plain": [
       "Empty DataFrame\n",
       "Columns: []\n",
       "Index: [(ENSG00000000003, 1), (ENSG00000000003, 2), (ENSG00000000003, 3), (ENSG00000000003, 4), (ENSG00000000003, 5)]"
      ]
     },
     "execution_count": 74,
     "metadata": {},
     "output_type": "execute_result"
    }
   ],
   "source": [
    "q.head()\n",
    "df.index.levels[1]"
   ]
  },
  {
   "cell_type": "code",
   "execution_count": 79,
   "metadata": {},
   "outputs": [
    {
     "data": {
      "text/html": [
       "<div>\n",
       "<table border=\"1\" class=\"dataframe\">\n",
       "  <thead>\n",
       "    <tr style=\"text-align: right;\">\n",
       "      <th></th>\n",
       "      <th>gene</th>\n",
       "      <th>intron</th>\n",
       "    </tr>\n",
       "  </thead>\n",
       "  <tbody>\n",
       "    <tr>\n",
       "      <th>0</th>\n",
       "      <td>ENSG00000000003</td>\n",
       "      <td>1</td>\n",
       "    </tr>\n",
       "    <tr>\n",
       "      <th>1</th>\n",
       "      <td>ENSG00000000003</td>\n",
       "      <td>2</td>\n",
       "    </tr>\n",
       "    <tr>\n",
       "      <th>2</th>\n",
       "      <td>ENSG00000000003</td>\n",
       "      <td>3</td>\n",
       "    </tr>\n",
       "    <tr>\n",
       "      <th>3</th>\n",
       "      <td>ENSG00000000003</td>\n",
       "      <td>4</td>\n",
       "    </tr>\n",
       "    <tr>\n",
       "      <th>4</th>\n",
       "      <td>ENSG00000000003</td>\n",
       "      <td>5</td>\n",
       "    </tr>\n",
       "    <tr>\n",
       "      <th>5</th>\n",
       "      <td>ENSG00000000003</td>\n",
       "      <td>6</td>\n",
       "    </tr>\n",
       "    <tr>\n",
       "      <th>6</th>\n",
       "      <td>ENSG00000000003</td>\n",
       "      <td>7</td>\n",
       "    </tr>\n",
       "    <tr>\n",
       "      <th>7</th>\n",
       "      <td>ENSG00000000005</td>\n",
       "      <td>1</td>\n",
       "    </tr>\n",
       "    <tr>\n",
       "      <th>8</th>\n",
       "      <td>ENSG00000000005</td>\n",
       "      <td>2</td>\n",
       "    </tr>\n",
       "    <tr>\n",
       "      <th>9</th>\n",
       "      <td>ENSG00000000005</td>\n",
       "      <td>3</td>\n",
       "    </tr>\n",
       "    <tr>\n",
       "      <th>10</th>\n",
       "      <td>ENSG00000000005</td>\n",
       "      <td>4</td>\n",
       "    </tr>\n",
       "    <tr>\n",
       "      <th>11</th>\n",
       "      <td>ENSG00000000005</td>\n",
       "      <td>5</td>\n",
       "    </tr>\n",
       "    <tr>\n",
       "      <th>12</th>\n",
       "      <td>ENSG00000000005</td>\n",
       "      <td>6</td>\n",
       "    </tr>\n",
       "    <tr>\n",
       "      <th>13</th>\n",
       "      <td>ENSG00000001561</td>\n",
       "      <td>1</td>\n",
       "    </tr>\n",
       "    <tr>\n",
       "      <th>14</th>\n",
       "      <td>ENSG00000001561</td>\n",
       "      <td>2</td>\n",
       "    </tr>\n",
       "    <tr>\n",
       "      <th>15</th>\n",
       "      <td>ENSG00000001561</td>\n",
       "      <td>3</td>\n",
       "    </tr>\n",
       "    <tr>\n",
       "      <th>16</th>\n",
       "      <td>ENSG00000001629</td>\n",
       "      <td>1</td>\n",
       "    </tr>\n",
       "    <tr>\n",
       "      <th>17</th>\n",
       "      <td>ENSG00000001629</td>\n",
       "      <td>2</td>\n",
       "    </tr>\n",
       "    <tr>\n",
       "      <th>18</th>\n",
       "      <td>ENSG00000001629</td>\n",
       "      <td>3</td>\n",
       "    </tr>\n",
       "    <tr>\n",
       "      <th>19</th>\n",
       "      <td>ENSG00000001629</td>\n",
       "      <td>4</td>\n",
       "    </tr>\n",
       "    <tr>\n",
       "      <th>20</th>\n",
       "      <td>ENSG00000001629</td>\n",
       "      <td>5</td>\n",
       "    </tr>\n",
       "    <tr>\n",
       "      <th>21</th>\n",
       "      <td>ENSG00000001629</td>\n",
       "      <td>6</td>\n",
       "    </tr>\n",
       "    <tr>\n",
       "      <th>22</th>\n",
       "      <td>ENSG00000001629</td>\n",
       "      <td>7</td>\n",
       "    </tr>\n",
       "    <tr>\n",
       "      <th>23</th>\n",
       "      <td>ENSG00000001629</td>\n",
       "      <td>8</td>\n",
       "    </tr>\n",
       "    <tr>\n",
       "      <th>24</th>\n",
       "      <td>ENSG00000001629</td>\n",
       "      <td>9</td>\n",
       "    </tr>\n",
       "    <tr>\n",
       "      <th>25</th>\n",
       "      <td>ENSG00000001629</td>\n",
       "      <td>10</td>\n",
       "    </tr>\n",
       "    <tr>\n",
       "      <th>26</th>\n",
       "      <td>ENSG00000001629</td>\n",
       "      <td>11</td>\n",
       "    </tr>\n",
       "    <tr>\n",
       "      <th>27</th>\n",
       "      <td>ENSG00000001629</td>\n",
       "      <td>12</td>\n",
       "    </tr>\n",
       "    <tr>\n",
       "      <th>28</th>\n",
       "      <td>ENSG00000001629</td>\n",
       "      <td>13</td>\n",
       "    </tr>\n",
       "    <tr>\n",
       "      <th>29</th>\n",
       "      <td>ENSG00000001629</td>\n",
       "      <td>14</td>\n",
       "    </tr>\n",
       "    <tr>\n",
       "      <th>...</th>\n",
       "      <td>...</td>\n",
       "      <td>...</td>\n",
       "    </tr>\n",
       "    <tr>\n",
       "      <th>128811860</th>\n",
       "      <td>ENSG00000272782</td>\n",
       "      <td>1</td>\n",
       "    </tr>\n",
       "    <tr>\n",
       "      <th>128811861</th>\n",
       "      <td>ENSG00000272870</td>\n",
       "      <td>1</td>\n",
       "    </tr>\n",
       "    <tr>\n",
       "      <th>128811862</th>\n",
       "      <td>ENSG00000272870</td>\n",
       "      <td>2</td>\n",
       "    </tr>\n",
       "    <tr>\n",
       "      <th>128811863</th>\n",
       "      <td>ENSG00000272968</td>\n",
       "      <td>1</td>\n",
       "    </tr>\n",
       "    <tr>\n",
       "      <th>128811864</th>\n",
       "      <td>ENSG00000272968</td>\n",
       "      <td>2</td>\n",
       "    </tr>\n",
       "    <tr>\n",
       "      <th>128811865</th>\n",
       "      <td>ENSG00000272968</td>\n",
       "      <td>3</td>\n",
       "    </tr>\n",
       "    <tr>\n",
       "      <th>128811866</th>\n",
       "      <td>ENSG00000272968</td>\n",
       "      <td>4</td>\n",
       "    </tr>\n",
       "    <tr>\n",
       "      <th>128811867</th>\n",
       "      <td>ENSG00000272968</td>\n",
       "      <td>5</td>\n",
       "    </tr>\n",
       "    <tr>\n",
       "      <th>128811868</th>\n",
       "      <td>ENSG00000272968</td>\n",
       "      <td>6</td>\n",
       "    </tr>\n",
       "    <tr>\n",
       "      <th>128811869</th>\n",
       "      <td>ENSG00000272968</td>\n",
       "      <td>7</td>\n",
       "    </tr>\n",
       "    <tr>\n",
       "      <th>128811870</th>\n",
       "      <td>ENSG00000272968</td>\n",
       "      <td>8</td>\n",
       "    </tr>\n",
       "    <tr>\n",
       "      <th>128811871</th>\n",
       "      <td>ENSG00000273045</td>\n",
       "      <td>1</td>\n",
       "    </tr>\n",
       "    <tr>\n",
       "      <th>128811872</th>\n",
       "      <td>ENSG00000273045</td>\n",
       "      <td>2</td>\n",
       "    </tr>\n",
       "    <tr>\n",
       "      <th>128811873</th>\n",
       "      <td>ENSG00000273045</td>\n",
       "      <td>3</td>\n",
       "    </tr>\n",
       "    <tr>\n",
       "      <th>128811874</th>\n",
       "      <td>ENSG00000273045</td>\n",
       "      <td>4</td>\n",
       "    </tr>\n",
       "    <tr>\n",
       "      <th>128811875</th>\n",
       "      <td>ENSG00000273173</td>\n",
       "      <td>1</td>\n",
       "    </tr>\n",
       "    <tr>\n",
       "      <th>128811876</th>\n",
       "      <td>ENSG00000273173</td>\n",
       "      <td>2</td>\n",
       "    </tr>\n",
       "    <tr>\n",
       "      <th>128811877</th>\n",
       "      <td>ENSG00000273173</td>\n",
       "      <td>3</td>\n",
       "    </tr>\n",
       "    <tr>\n",
       "      <th>128811878</th>\n",
       "      <td>ENSG00000273173</td>\n",
       "      <td>4</td>\n",
       "    </tr>\n",
       "    <tr>\n",
       "      <th>128811879</th>\n",
       "      <td>ENSG00000273173</td>\n",
       "      <td>5</td>\n",
       "    </tr>\n",
       "    <tr>\n",
       "      <th>128811880</th>\n",
       "      <td>ENSG00000273173</td>\n",
       "      <td>6</td>\n",
       "    </tr>\n",
       "    <tr>\n",
       "      <th>128811881</th>\n",
       "      <td>ENSG00000273173</td>\n",
       "      <td>7</td>\n",
       "    </tr>\n",
       "    <tr>\n",
       "      <th>128811882</th>\n",
       "      <td>ENSG00000273173</td>\n",
       "      <td>8</td>\n",
       "    </tr>\n",
       "    <tr>\n",
       "      <th>128811883</th>\n",
       "      <td>ENSG00000273173</td>\n",
       "      <td>9</td>\n",
       "    </tr>\n",
       "    <tr>\n",
       "      <th>128811884</th>\n",
       "      <td>ENSG00000273173</td>\n",
       "      <td>10</td>\n",
       "    </tr>\n",
       "    <tr>\n",
       "      <th>128811885</th>\n",
       "      <td>ENSG00000273247</td>\n",
       "      <td>1</td>\n",
       "    </tr>\n",
       "    <tr>\n",
       "      <th>128811886</th>\n",
       "      <td>ENSG00000273247</td>\n",
       "      <td>2</td>\n",
       "    </tr>\n",
       "    <tr>\n",
       "      <th>128811887</th>\n",
       "      <td>ENSG00000273247</td>\n",
       "      <td>3</td>\n",
       "    </tr>\n",
       "    <tr>\n",
       "      <th>128811888</th>\n",
       "      <td>ENSG00000273249</td>\n",
       "      <td>1</td>\n",
       "    </tr>\n",
       "    <tr>\n",
       "      <th>128811889</th>\n",
       "      <td>ENSG00000273249</td>\n",
       "      <td>2</td>\n",
       "    </tr>\n",
       "  </tbody>\n",
       "</table>\n",
       "<p>128811890 rows × 2 columns</p>\n",
       "</div>"
      ],
      "text/plain": [
       "                      gene  intron\n",
       "0          ENSG00000000003       1\n",
       "1          ENSG00000000003       2\n",
       "2          ENSG00000000003       3\n",
       "3          ENSG00000000003       4\n",
       "4          ENSG00000000003       5\n",
       "5          ENSG00000000003       6\n",
       "6          ENSG00000000003       7\n",
       "7          ENSG00000000005       1\n",
       "8          ENSG00000000005       2\n",
       "9          ENSG00000000005       3\n",
       "10         ENSG00000000005       4\n",
       "11         ENSG00000000005       5\n",
       "12         ENSG00000000005       6\n",
       "13         ENSG00000001561       1\n",
       "14         ENSG00000001561       2\n",
       "15         ENSG00000001561       3\n",
       "16         ENSG00000001629       1\n",
       "17         ENSG00000001629       2\n",
       "18         ENSG00000001629       3\n",
       "19         ENSG00000001629       4\n",
       "20         ENSG00000001629       5\n",
       "21         ENSG00000001629       6\n",
       "22         ENSG00000001629       7\n",
       "23         ENSG00000001629       8\n",
       "24         ENSG00000001629       9\n",
       "25         ENSG00000001629      10\n",
       "26         ENSG00000001629      11\n",
       "27         ENSG00000001629      12\n",
       "28         ENSG00000001629      13\n",
       "29         ENSG00000001629      14\n",
       "...                    ...     ...\n",
       "128811860  ENSG00000272782       1\n",
       "128811861  ENSG00000272870       1\n",
       "128811862  ENSG00000272870       2\n",
       "128811863  ENSG00000272968       1\n",
       "128811864  ENSG00000272968       2\n",
       "128811865  ENSG00000272968       3\n",
       "128811866  ENSG00000272968       4\n",
       "128811867  ENSG00000272968       5\n",
       "128811868  ENSG00000272968       6\n",
       "128811869  ENSG00000272968       7\n",
       "128811870  ENSG00000272968       8\n",
       "128811871  ENSG00000273045       1\n",
       "128811872  ENSG00000273045       2\n",
       "128811873  ENSG00000273045       3\n",
       "128811874  ENSG00000273045       4\n",
       "128811875  ENSG00000273173       1\n",
       "128811876  ENSG00000273173       2\n",
       "128811877  ENSG00000273173       3\n",
       "128811878  ENSG00000273173       4\n",
       "128811879  ENSG00000273173       5\n",
       "128811880  ENSG00000273173       6\n",
       "128811881  ENSG00000273173       7\n",
       "128811882  ENSG00000273173       8\n",
       "128811883  ENSG00000273173       9\n",
       "128811884  ENSG00000273173      10\n",
       "128811885  ENSG00000273247       1\n",
       "128811886  ENSG00000273247       2\n",
       "128811887  ENSG00000273247       3\n",
       "128811888  ENSG00000273249       1\n",
       "128811889  ENSG00000273249       2\n",
       "\n",
       "[128811890 rows x 2 columns]"
      ]
     },
     "execution_count": 79,
     "metadata": {},
     "output_type": "execute_result"
    }
   ],
   "source": [
    "q.reset_index()\n",
    "# q.set_index(['gene'], inplace=True)\n",
    "# q.set_index(['gene'], inplace=True).sort_index(inplace=True)"
   ]
  },
  {
   "cell_type": "code",
   "execution_count": 71,
   "metadata": {},
   "outputs": [
    {
     "data": {
      "text/plain": [
       "\u001b[0;31mSignature:\u001b[0m \u001b[0mq\u001b[0m\u001b[0;34m.\u001b[0m\u001b[0mto_dict\u001b[0m\u001b[0;34m(\u001b[0m\u001b[0morient\u001b[0m\u001b[0;34m=\u001b[0m\u001b[0;34m'dict'\u001b[0m\u001b[0;34m)\u001b[0m\u001b[0;34m\u001b[0m\u001b[0m\n",
       "\u001b[0;31mDocstring:\u001b[0m\n",
       "Convert DataFrame to dictionary.\n",
       "\n",
       "Parameters\n",
       "----------\n",
       "orient : str {'dict', 'list', 'series', 'split', 'records', 'index'}\n",
       "    Determines the type of the values of the dictionary.\n",
       "\n",
       "    - dict (default) : dict like {column -> {index -> value}}\n",
       "    - list : dict like {column -> [values]}\n",
       "    - series : dict like {column -> Series(values)}\n",
       "    - split : dict like\n",
       "      {index -> [index], columns -> [columns], data -> [values]}\n",
       "    - records : list like\n",
       "      [{column -> value}, ... , {column -> value}]\n",
       "    - index : dict like {index -> {column -> value}}\n",
       "\n",
       "      .. versionadded:: 0.17.0\n",
       "\n",
       "    Abbreviations are allowed. `s` indicates `series` and `sp`\n",
       "    indicates `split`.\n",
       "\n",
       "Returns\n",
       "-------\n",
       "result : dict like {column -> {index -> value}}\n",
       "\u001b[0;31mFile:\u001b[0m      /nfs/software/stegle/users/horta/conda-envs/data27/lib/python2.7/site-packages/pandas/core/frame.py\n",
       "\u001b[0;31mType:\u001b[0m      instancemethod\n"
      ]
     },
     "metadata": {},
     "output_type": "display_data"
    }
   ],
   "source": [
    "q.head()"
   ]
  },
  {
   "cell_type": "code",
   "execution_count": null,
   "metadata": {},
   "outputs": [],
   "source": []
  },
  {
   "cell_type": "code",
   "execution_count": null,
   "metadata": {},
   "outputs": [],
   "source": []
  },
  {
   "cell_type": "code",
   "execution_count": null,
   "metadata": {},
   "outputs": [],
   "source": []
  },
  {
   "cell_type": "code",
   "execution_count": null,
   "metadata": {},
   "outputs": [],
   "source": []
  },
  {
   "cell_type": "code",
   "execution_count": null,
   "metadata": {},
   "outputs": [],
   "source": []
  },
  {
   "cell_type": "code",
   "execution_count": null,
   "metadata": {},
   "outputs": [],
   "source": []
  },
  {
   "cell_type": "code",
   "execution_count": null,
   "metadata": {},
   "outputs": [],
   "source": []
  },
  {
   "cell_type": "code",
   "execution_count": null,
   "metadata": {},
   "outputs": [],
   "source": []
  },
  {
   "cell_type": "code",
   "execution_count": null,
   "metadata": {},
   "outputs": [],
   "source": []
  },
  {
   "cell_type": "code",
   "execution_count": null,
   "metadata": {},
   "outputs": [],
   "source": []
  },
  {
   "cell_type": "code",
   "execution_count": null,
   "metadata": {},
   "outputs": [],
   "source": []
  },
  {
   "cell_type": "code",
   "execution_count": null,
   "metadata": {},
   "outputs": [],
   "source": []
  },
  {
   "cell_type": "code",
   "execution_count": null,
   "metadata": {},
   "outputs": [],
   "source": []
  },
  {
   "cell_type": "code",
   "execution_count": null,
   "metadata": {},
   "outputs": [],
   "source": []
  },
  {
   "cell_type": "code",
   "execution_count": null,
   "metadata": {},
   "outputs": [],
   "source": []
  },
  {
   "cell_type": "code",
   "execution_count": 1,
   "metadata": {},
   "outputs": [
    {
     "data": {
      "image/png": "[encoded data removed]",
      "text/plain": [
       "<IPython.core.display.Image object>"
      ]
     },
     "execution_count": 1,
     "metadata": {},
     "output_type": "execute_result"
    }
   ],
   "source": [
    "from IPython.display import Image\n",
    "Image(filename='filename-interpretation.png') "
   ]
  },
  {
   "cell_type": "markdown",
   "metadata": {},
   "source": [
    "Filename [counts/convert_csv_to_dataframe.ipynb](counts/convert_csv_to_dataframe.ipynb) was used\n",
    "to merge and convert the `csv` files into a [bcolz](https://github.com/Blosc/bcolz) dataset\n",
    "saved at folder **counts/introns.bcolz**.\n",
    "\n",
    "Filename [[counts/compute_unique_values.ipynb](counts/compute_unique_values.ipynb)] pre-computes the\n",
    "unique values for *gene*, *assay*, *person_id*, and *lab_id* columns. This is just\n",
    "for speeding up purposes.\n",
    "\n",
    "Filename [[counts/create_position_dataset.ipynb](counts/create_position_dataset.ipynb)] creates\n",
    "a dictionary of start and ending positions for each gene-intron pair."
   ]
  },
  {
   "cell_type": "markdown",
   "metadata": {},
   "source": [
    "## How do I use use the dataset?"
   ]
  },
  {
   "cell_type": "code",
   "execution_count": 2,
   "metadata": {},
   "outputs": [
    {
     "name": "stdout",
     "output_type": "stream",
     "text": [
      "# unique genes: 30692\n",
      "# unique assays: 571\n",
      "# unique labs: 7\n",
      "# unique persons: 464\n"
     ]
    }
   ],
   "source": [
    "import sys\n",
    "assert sys.version_info >= (3, 5)\n",
    "import bcolz\n",
    "import numpy as np\n",
    "\n",
    "ugene = bcolz.open(rootdir='counts/ugene.bcolz')\n",
    "print(\"# unique genes: %d\" % ugene.shape[0])\n",
    "\n",
    "uassay = bcolz.open(rootdir='counts/uassay.bcolz')\n",
    "print(\"# unique assays: %d\" % uassay.shape[0])\n",
    "\n",
    "ulab_id = bcolz.open(rootdir='counts/ulab_id.bcolz')\n",
    "print(\"# unique labs: %d\" % ulab_id.shape[0])\n",
    "\n",
    "uperson_id = bcolz.open(rootdir='counts/uperson_id.bcolz')\n",
    "print(\"# unique persons: %d\" % uperson_id.shape[0])"
   ]
  },
  {
   "cell_type": "code",
   "execution_count": 3,
   "metadata": {},
   "outputs": [
    {
     "name": "stdout",
     "output_type": "stream",
     "text": [
      "Gene b'ENSG00000013588', intron 1: [13044609, 13061166]\n",
      "Window size: 16557\n"
     ]
    }
   ],
   "source": [
    "import msgpack\n",
    "import blosc\n",
    "from toolz import first\n",
    "\n",
    "with open('counts/positions.msg.blosc', 'rb') as f:\n",
    "    positions = msgpack.unpackb(blosc.decompress(f.read()))\n",
    "\n",
    "gene = first(positions.keys())\n",
    "intron = first(positions[gene].keys())\n",
    "start_pos = positions[gene][intron][b'start_pos']\n",
    "end_post = positions[gene][intron][b'end_pos']\n",
    "\n",
    "print(\"Gene %s, intron %s: [%d, %d]\" % (gene, intron, start_pos, end_post))\n",
    "print(\"Window size: %d\" % (end_post - start_pos))"
   ]
  },
  {
   "cell_type": "code",
   "execution_count": 4,
   "metadata": {},
   "outputs": [],
   "source": [
    "data = bcolz.open(rootdir='counts/introns.bcolz')\n",
    "subdata = data.fetchwhere(\"(gene == '%s') & (intron == %d)\" % (gene.decode(), intron))"
   ]
  },
  {
   "cell_type": "code",
   "execution_count": 5,
   "metadata": {},
   "outputs": [
    {
     "data": {
      "text/plain": [
       "['gene', 'intron', 'assay', 'person_id', 'lab_id', 'nsuccesses', 'ntrials']"
      ]
     },
     "execution_count": 5,
     "metadata": {},
     "output_type": "execute_result"
    }
   ],
   "source": [
    "subdata.cols.names"
   ]
  },
  {
   "cell_type": "code",
   "execution_count": 6,
   "metadata": {},
   "outputs": [
    {
     "data": {
      "text/html": [
       "<div>\n",
       "<table border=\"1\" class=\"dataframe\">\n",
       "  <thead>\n",
       "    <tr style=\"text-align: right;\">\n",
       "      <th></th>\n",
       "      <th>gene</th>\n",
       "      <th>intron</th>\n",
       "      <th>assay</th>\n",
       "      <th>person_id</th>\n",
       "      <th>lab_id</th>\n",
       "      <th>nsuccesses</th>\n",
       "      <th>ntrials</th>\n",
       "    </tr>\n",
       "  </thead>\n",
       "  <tbody>\n",
       "    <tr>\n",
       "      <th>0</th>\n",
       "      <td>ENSG00000013588</td>\n",
       "      <td>1</td>\n",
       "      <td>HG00273.3.M_120202_7</td>\n",
       "      <td>HG00273</td>\n",
       "      <td>3</td>\n",
       "      <td>0</td>\n",
       "      <td>20</td>\n",
       "    </tr>\n",
       "    <tr>\n",
       "      <th>1</th>\n",
       "      <td>ENSG00000013588</td>\n",
       "      <td>1</td>\n",
       "      <td>HG00112.6.M_120119_2</td>\n",
       "      <td>HG00112</td>\n",
       "      <td>6</td>\n",
       "      <td>2</td>\n",
       "      <td>20</td>\n",
       "    </tr>\n",
       "    <tr>\n",
       "      <th>2</th>\n",
       "      <td>ENSG00000013588</td>\n",
       "      <td>1</td>\n",
       "      <td>HG00262.2.M_111215_8</td>\n",
       "      <td>HG00262</td>\n",
       "      <td>2</td>\n",
       "      <td>2</td>\n",
       "      <td>35</td>\n",
       "    </tr>\n",
       "    <tr>\n",
       "      <th>3</th>\n",
       "      <td>ENSG00000013588</td>\n",
       "      <td>1</td>\n",
       "      <td>NA12004.4.M_120208_5</td>\n",
       "      <td>NA12004</td>\n",
       "      <td>4</td>\n",
       "      <td>0</td>\n",
       "      <td>2</td>\n",
       "    </tr>\n",
       "    <tr>\n",
       "      <th>4</th>\n",
       "      <td>ENSG00000013588</td>\n",
       "      <td>1</td>\n",
       "      <td>NA20528.2.M_120131_1</td>\n",
       "      <td>NA20528</td>\n",
       "      <td>2</td>\n",
       "      <td>1</td>\n",
       "      <td>13</td>\n",
       "    </tr>\n",
       "    <tr>\n",
       "      <th>5</th>\n",
       "      <td>ENSG00000013588</td>\n",
       "      <td>1</td>\n",
       "      <td>HG00308.3.M_120202_3</td>\n",
       "      <td>HG00308</td>\n",
       "      <td>3</td>\n",
       "      <td>0</td>\n",
       "      <td>4</td>\n",
       "    </tr>\n",
       "    <tr>\n",
       "      <th>6</th>\n",
       "      <td>ENSG00000013588</td>\n",
       "      <td>1</td>\n",
       "      <td>NA19095.2.M_120131_2</td>\n",
       "      <td>NA19095</td>\n",
       "      <td>2</td>\n",
       "      <td>0</td>\n",
       "      <td>2</td>\n",
       "    </tr>\n",
       "    <tr>\n",
       "      <th>7</th>\n",
       "      <td>ENSG00000013588</td>\n",
       "      <td>1</td>\n",
       "      <td>NA12400.2.M_111216_2</td>\n",
       "      <td>NA12400</td>\n",
       "      <td>2</td>\n",
       "      <td>2</td>\n",
       "      <td>17</td>\n",
       "    </tr>\n",
       "    <tr>\n",
       "      <th>8</th>\n",
       "      <td>ENSG00000013588</td>\n",
       "      <td>1</td>\n",
       "      <td>NA19189.5.M_120131_7</td>\n",
       "      <td>NA19189</td>\n",
       "      <td>5</td>\n",
       "      <td>0</td>\n",
       "      <td>17</td>\n",
       "    </tr>\n",
       "    <tr>\n",
       "      <th>9</th>\n",
       "      <td>ENSG00000013588</td>\n",
       "      <td>1</td>\n",
       "      <td>NA20804.4.M_120208_1</td>\n",
       "      <td>NA20804</td>\n",
       "      <td>4</td>\n",
       "      <td>0</td>\n",
       "      <td>2</td>\n",
       "    </tr>\n",
       "    <tr>\n",
       "      <th>10</th>\n",
       "      <td>ENSG00000013588</td>\n",
       "      <td>1</td>\n",
       "      <td>NA12761.1.M_120209_3</td>\n",
       "      <td>NA12761</td>\n",
       "      <td>1</td>\n",
       "      <td>0</td>\n",
       "      <td>4</td>\n",
       "    </tr>\n",
       "    <tr>\n",
       "      <th>11</th>\n",
       "      <td>ENSG00000013588</td>\n",
       "      <td>1</td>\n",
       "      <td>HG00380.3.M_120202_8</td>\n",
       "      <td>HG00380</td>\n",
       "      <td>3</td>\n",
       "      <td>7</td>\n",
       "      <td>40</td>\n",
       "    </tr>\n",
       "    <tr>\n",
       "      <th>12</th>\n",
       "      <td>ENSG00000013588</td>\n",
       "      <td>1</td>\n",
       "      <td>NA12763.1.M_120209_5</td>\n",
       "      <td>NA12763</td>\n",
       "      <td>1</td>\n",
       "      <td>2</td>\n",
       "      <td>2</td>\n",
       "    </tr>\n",
       "    <tr>\n",
       "      <th>13</th>\n",
       "      <td>ENSG00000013588</td>\n",
       "      <td>1</td>\n",
       "      <td>NA18499.1.M_111124_2</td>\n",
       "      <td>NA18499</td>\n",
       "      <td>1</td>\n",
       "      <td>0</td>\n",
       "      <td>4</td>\n",
       "    </tr>\n",
       "    <tr>\n",
       "      <th>14</th>\n",
       "      <td>ENSG00000013588</td>\n",
       "      <td>1</td>\n",
       "      <td>NA12889.3.M_120223_7</td>\n",
       "      <td>NA12889</td>\n",
       "      <td>3</td>\n",
       "      <td>0</td>\n",
       "      <td>8</td>\n",
       "    </tr>\n",
       "    <tr>\n",
       "      <th>15</th>\n",
       "      <td>ENSG00000013588</td>\n",
       "      <td>1</td>\n",
       "      <td>NA11832.1.M_120209_7</td>\n",
       "      <td>NA11832</td>\n",
       "      <td>1</td>\n",
       "      <td>2</td>\n",
       "      <td>16</td>\n",
       "    </tr>\n",
       "    <tr>\n",
       "      <th>16</th>\n",
       "      <td>ENSG00000013588</td>\n",
       "      <td>1</td>\n",
       "      <td>NA10851.4.M_120208_1</td>\n",
       "      <td>NA10851</td>\n",
       "      <td>4</td>\n",
       "      <td>4</td>\n",
       "      <td>13</td>\n",
       "    </tr>\n",
       "    <tr>\n",
       "      <th>17</th>\n",
       "      <td>ENSG00000013588</td>\n",
       "      <td>1</td>\n",
       "      <td>NA06984.1.M_111124_4</td>\n",
       "      <td>NA06984</td>\n",
       "      <td>1</td>\n",
       "      <td>0</td>\n",
       "      <td>14</td>\n",
       "    </tr>\n",
       "    <tr>\n",
       "      <th>18</th>\n",
       "      <td>ENSG00000013588</td>\n",
       "      <td>1</td>\n",
       "      <td>HG00361.7.M_120219_5</td>\n",
       "      <td>HG00361</td>\n",
       "      <td>7</td>\n",
       "      <td>3</td>\n",
       "      <td>7</td>\n",
       "    </tr>\n",
       "    <tr>\n",
       "      <th>19</th>\n",
       "      <td>ENSG00000013588</td>\n",
       "      <td>1</td>\n",
       "      <td>NA19257.6.M_120119_2</td>\n",
       "      <td>NA19257</td>\n",
       "      <td>6</td>\n",
       "      <td>2</td>\n",
       "      <td>143</td>\n",
       "    </tr>\n",
       "    <tr>\n",
       "      <th>20</th>\n",
       "      <td>ENSG00000013588</td>\n",
       "      <td>1</td>\n",
       "      <td>HG00119.1.M_120209_3</td>\n",
       "      <td>HG00119</td>\n",
       "      <td>1</td>\n",
       "      <td>2</td>\n",
       "      <td>25</td>\n",
       "    </tr>\n",
       "    <tr>\n",
       "      <th>21</th>\n",
       "      <td>ENSG00000013588</td>\n",
       "      <td>1</td>\n",
       "      <td>HG00138.5.M_120131_5</td>\n",
       "      <td>HG00138</td>\n",
       "      <td>5</td>\n",
       "      <td>0</td>\n",
       "      <td>11</td>\n",
       "    </tr>\n",
       "    <tr>\n",
       "      <th>22</th>\n",
       "      <td>ENSG00000013588</td>\n",
       "      <td>1</td>\n",
       "      <td>NA12762.4.M_120208_3</td>\n",
       "      <td>NA12762</td>\n",
       "      <td>4</td>\n",
       "      <td>0</td>\n",
       "      <td>8</td>\n",
       "    </tr>\n",
       "    <tr>\n",
       "      <th>23</th>\n",
       "      <td>ENSG00000013588</td>\n",
       "      <td>1</td>\n",
       "      <td>NA11840.6.M_120119_5</td>\n",
       "      <td>NA11840</td>\n",
       "      <td>6</td>\n",
       "      <td>0</td>\n",
       "      <td>5</td>\n",
       "    </tr>\n",
       "    <tr>\n",
       "      <th>24</th>\n",
       "      <td>ENSG00000013588</td>\n",
       "      <td>1</td>\n",
       "      <td>HG00114.1.M_120209_3</td>\n",
       "      <td>HG00114</td>\n",
       "      <td>1</td>\n",
       "      <td>1</td>\n",
       "      <td>29</td>\n",
       "    </tr>\n",
       "    <tr>\n",
       "      <th>25</th>\n",
       "      <td>ENSG00000013588</td>\n",
       "      <td>1</td>\n",
       "      <td>HG00343.1.M_111124_5</td>\n",
       "      <td>HG00343</td>\n",
       "      <td>1</td>\n",
       "      <td>13</td>\n",
       "      <td>95</td>\n",
       "    </tr>\n",
       "    <tr>\n",
       "      <th>26</th>\n",
       "      <td>ENSG00000013588</td>\n",
       "      <td>1</td>\n",
       "      <td>HG00271.2.M_111215_7</td>\n",
       "      <td>HG00271</td>\n",
       "      <td>2</td>\n",
       "      <td>0</td>\n",
       "      <td>43</td>\n",
       "    </tr>\n",
       "    <tr>\n",
       "      <th>27</th>\n",
       "      <td>ENSG00000013588</td>\n",
       "      <td>1</td>\n",
       "      <td>HG00174.4.M_120208_3</td>\n",
       "      <td>HG00174</td>\n",
       "      <td>4</td>\n",
       "      <td>0</td>\n",
       "      <td>40</td>\n",
       "    </tr>\n",
       "    <tr>\n",
       "      <th>28</th>\n",
       "      <td>ENSG00000013588</td>\n",
       "      <td>1</td>\n",
       "      <td>NA12814.1.M_120209_3</td>\n",
       "      <td>NA12814</td>\n",
       "      <td>1</td>\n",
       "      <td>1</td>\n",
       "      <td>5</td>\n",
       "    </tr>\n",
       "    <tr>\n",
       "      <th>29</th>\n",
       "      <td>ENSG00000013588</td>\n",
       "      <td>1</td>\n",
       "      <td>NA12829.7.M_120219_4</td>\n",
       "      <td>NA12829</td>\n",
       "      <td>7</td>\n",
       "      <td>5</td>\n",
       "      <td>20</td>\n",
       "    </tr>\n",
       "    <tr>\n",
       "      <th>...</th>\n",
       "      <td>...</td>\n",
       "      <td>...</td>\n",
       "      <td>...</td>\n",
       "      <td>...</td>\n",
       "      <td>...</td>\n",
       "      <td>...</td>\n",
       "      <td>...</td>\n",
       "    </tr>\n",
       "    <tr>\n",
       "      <th>541</th>\n",
       "      <td>ENSG00000013588</td>\n",
       "      <td>1</td>\n",
       "      <td>NA19200.2.M_111216_1</td>\n",
       "      <td>NA19200</td>\n",
       "      <td>2</td>\n",
       "      <td>1</td>\n",
       "      <td>1</td>\n",
       "    </tr>\n",
       "    <tr>\n",
       "      <th>542</th>\n",
       "      <td>ENSG00000013588</td>\n",
       "      <td>1</td>\n",
       "      <td>NA18908.1.M_120209_8</td>\n",
       "      <td>NA18908</td>\n",
       "      <td>1</td>\n",
       "      <td>0</td>\n",
       "      <td>15</td>\n",
       "    </tr>\n",
       "    <tr>\n",
       "      <th>543</th>\n",
       "      <td>ENSG00000013588</td>\n",
       "      <td>1</td>\n",
       "      <td>HG00117.1.M_111124_2</td>\n",
       "      <td>HG00117</td>\n",
       "      <td>1</td>\n",
       "      <td>7</td>\n",
       "      <td>85</td>\n",
       "    </tr>\n",
       "    <tr>\n",
       "      <th>544</th>\n",
       "      <td>ENSG00000013588</td>\n",
       "      <td>1</td>\n",
       "      <td>HG00369.5.M_120131_1</td>\n",
       "      <td>HG00369</td>\n",
       "      <td>5</td>\n",
       "      <td>2</td>\n",
       "      <td>37</td>\n",
       "    </tr>\n",
       "    <tr>\n",
       "      <th>545</th>\n",
       "      <td>ENSG00000013588</td>\n",
       "      <td>1</td>\n",
       "      <td>NA18502.7.M_120219_8</td>\n",
       "      <td>NA18502</td>\n",
       "      <td>7</td>\n",
       "      <td>1</td>\n",
       "      <td>5</td>\n",
       "    </tr>\n",
       "    <tr>\n",
       "      <th>546</th>\n",
       "      <td>ENSG00000013588</td>\n",
       "      <td>1</td>\n",
       "      <td>NA12413.2.M_111215_6</td>\n",
       "      <td>NA12413</td>\n",
       "      <td>2</td>\n",
       "      <td>0</td>\n",
       "      <td>16</td>\n",
       "    </tr>\n",
       "    <tr>\n",
       "      <th>547</th>\n",
       "      <td>ENSG00000013588</td>\n",
       "      <td>1</td>\n",
       "      <td>NA18489.2.M_111216_1</td>\n",
       "      <td>NA18489</td>\n",
       "      <td>2</td>\n",
       "      <td>1</td>\n",
       "      <td>47</td>\n",
       "    </tr>\n",
       "    <tr>\n",
       "      <th>548</th>\n",
       "      <td>ENSG00000013588</td>\n",
       "      <td>1</td>\n",
       "      <td>NA18520.1.M_111124_1</td>\n",
       "      <td>NA18520</td>\n",
       "      <td>1</td>\n",
       "      <td>0</td>\n",
       "      <td>25</td>\n",
       "    </tr>\n",
       "    <tr>\n",
       "      <th>549</th>\n",
       "      <td>ENSG00000013588</td>\n",
       "      <td>1</td>\n",
       "      <td>HG00330.1.M_120209_2</td>\n",
       "      <td>HG00330</td>\n",
       "      <td>1</td>\n",
       "      <td>2</td>\n",
       "      <td>31</td>\n",
       "    </tr>\n",
       "    <tr>\n",
       "      <th>550</th>\n",
       "      <td>ENSG00000013588</td>\n",
       "      <td>1</td>\n",
       "      <td>NA12006.5.M_120131_1</td>\n",
       "      <td>NA12006</td>\n",
       "      <td>5</td>\n",
       "      <td>0</td>\n",
       "      <td>2</td>\n",
       "    </tr>\n",
       "    <tr>\n",
       "      <th>551</th>\n",
       "      <td>ENSG00000013588</td>\n",
       "      <td>1</td>\n",
       "      <td>NA20756.2.M_111216_6</td>\n",
       "      <td>NA20756</td>\n",
       "      <td>2</td>\n",
       "      <td>2</td>\n",
       "      <td>16</td>\n",
       "    </tr>\n",
       "    <tr>\n",
       "      <th>552</th>\n",
       "      <td>ENSG00000013588</td>\n",
       "      <td>1</td>\n",
       "      <td>NA20543.2.M_111215_5</td>\n",
       "      <td>NA20543</td>\n",
       "      <td>2</td>\n",
       "      <td>2</td>\n",
       "      <td>15</td>\n",
       "    </tr>\n",
       "    <tr>\n",
       "      <th>553</th>\n",
       "      <td>ENSG00000013588</td>\n",
       "      <td>1</td>\n",
       "      <td>HG00115.6.M_120119_1</td>\n",
       "      <td>HG00115</td>\n",
       "      <td>6</td>\n",
       "      <td>2</td>\n",
       "      <td>34</td>\n",
       "    </tr>\n",
       "    <tr>\n",
       "      <th>554</th>\n",
       "      <td>ENSG00000013588</td>\n",
       "      <td>1</td>\n",
       "      <td>NA20816.3.M_120202_7</td>\n",
       "      <td>NA20816</td>\n",
       "      <td>3</td>\n",
       "      <td>6</td>\n",
       "      <td>131</td>\n",
       "    </tr>\n",
       "    <tr>\n",
       "      <th>555</th>\n",
       "      <td>ENSG00000013588</td>\n",
       "      <td>1</td>\n",
       "      <td>HG02215.1.M_111124_4</td>\n",
       "      <td>HG02215</td>\n",
       "      <td>1</td>\n",
       "      <td>0</td>\n",
       "      <td>3</td>\n",
       "    </tr>\n",
       "    <tr>\n",
       "      <th>556</th>\n",
       "      <td>ENSG00000013588</td>\n",
       "      <td>1</td>\n",
       "      <td>NA20806.3.M_120202_5</td>\n",
       "      <td>NA20806</td>\n",
       "      <td>3</td>\n",
       "      <td>6</td>\n",
       "      <td>34</td>\n",
       "    </tr>\n",
       "    <tr>\n",
       "      <th>557</th>\n",
       "      <td>ENSG00000013588</td>\n",
       "      <td>1</td>\n",
       "      <td>HG01791.2.M_111216_5</td>\n",
       "      <td>HG01791</td>\n",
       "      <td>2</td>\n",
       "      <td>2</td>\n",
       "      <td>32</td>\n",
       "    </tr>\n",
       "    <tr>\n",
       "      <th>558</th>\n",
       "      <td>ENSG00000013588</td>\n",
       "      <td>1</td>\n",
       "      <td>HG00353.1.M_111124_6</td>\n",
       "      <td>HG00353</td>\n",
       "      <td>1</td>\n",
       "      <td>0</td>\n",
       "      <td>7</td>\n",
       "    </tr>\n",
       "    <tr>\n",
       "      <th>559</th>\n",
       "      <td>ENSG00000013588</td>\n",
       "      <td>1</td>\n",
       "      <td>NA20801.7.M_120219_5</td>\n",
       "      <td>NA20801</td>\n",
       "      <td>7</td>\n",
       "      <td>6</td>\n",
       "      <td>60</td>\n",
       "    </tr>\n",
       "    <tr>\n",
       "      <th>560</th>\n",
       "      <td>ENSG00000013588</td>\n",
       "      <td>1</td>\n",
       "      <td>HG00157.5.M_120131_3</td>\n",
       "      <td>HG00157</td>\n",
       "      <td>5</td>\n",
       "      <td>1</td>\n",
       "      <td>7</td>\n",
       "    </tr>\n",
       "    <tr>\n",
       "      <th>561</th>\n",
       "      <td>ENSG00000013588</td>\n",
       "      <td>1</td>\n",
       "      <td>NA18858.2.M_111216_8</td>\n",
       "      <td>NA18858</td>\n",
       "      <td>2</td>\n",
       "      <td>0</td>\n",
       "      <td>6</td>\n",
       "    </tr>\n",
       "    <tr>\n",
       "      <th>562</th>\n",
       "      <td>ENSG00000013588</td>\n",
       "      <td>1</td>\n",
       "      <td>HG00111.1.M_120209_8</td>\n",
       "      <td>HG00111</td>\n",
       "      <td>1</td>\n",
       "      <td>2</td>\n",
       "      <td>15</td>\n",
       "    </tr>\n",
       "    <tr>\n",
       "      <th>563</th>\n",
       "      <td>ENSG00000013588</td>\n",
       "      <td>1</td>\n",
       "      <td>HG00315.2.M_111215_5</td>\n",
       "      <td>HG00315</td>\n",
       "      <td>2</td>\n",
       "      <td>6</td>\n",
       "      <td>66</td>\n",
       "    </tr>\n",
       "    <tr>\n",
       "      <th>564</th>\n",
       "      <td>ENSG00000013588</td>\n",
       "      <td>1</td>\n",
       "      <td>HG00116.2.M_120131_1</td>\n",
       "      <td>HG00116</td>\n",
       "      <td>2</td>\n",
       "      <td>0</td>\n",
       "      <td>37</td>\n",
       "    </tr>\n",
       "    <tr>\n",
       "      <th>565</th>\n",
       "      <td>ENSG00000013588</td>\n",
       "      <td>1</td>\n",
       "      <td>NA12873.1.M_120209_7</td>\n",
       "      <td>NA12873</td>\n",
       "      <td>1</td>\n",
       "      <td>0</td>\n",
       "      <td>4</td>\n",
       "    </tr>\n",
       "    <tr>\n",
       "      <th>566</th>\n",
       "      <td>ENSG00000013588</td>\n",
       "      <td>1</td>\n",
       "      <td>NA12144.1.M_120209_3</td>\n",
       "      <td>NA12144</td>\n",
       "      <td>1</td>\n",
       "      <td>0</td>\n",
       "      <td>0</td>\n",
       "    </tr>\n",
       "    <tr>\n",
       "      <th>567</th>\n",
       "      <td>ENSG00000013588</td>\n",
       "      <td>1</td>\n",
       "      <td>NA20819.3.M_120202_2</td>\n",
       "      <td>NA20819</td>\n",
       "      <td>3</td>\n",
       "      <td>0</td>\n",
       "      <td>15</td>\n",
       "    </tr>\n",
       "    <tr>\n",
       "      <th>568</th>\n",
       "      <td>ENSG00000013588</td>\n",
       "      <td>1</td>\n",
       "      <td>NA20521.7.M_120219_7</td>\n",
       "      <td>NA20521</td>\n",
       "      <td>7</td>\n",
       "      <td>2</td>\n",
       "      <td>6</td>\n",
       "    </tr>\n",
       "    <tr>\n",
       "      <th>569</th>\n",
       "      <td>ENSG00000013588</td>\n",
       "      <td>1</td>\n",
       "      <td>NA18870.6.M_120119_4</td>\n",
       "      <td>NA18870</td>\n",
       "      <td>6</td>\n",
       "      <td>0</td>\n",
       "      <td>2</td>\n",
       "    </tr>\n",
       "    <tr>\n",
       "      <th>570</th>\n",
       "      <td>ENSG00000013588</td>\n",
       "      <td>1</td>\n",
       "      <td>NA20790.2.M_111215_6</td>\n",
       "      <td>NA20790</td>\n",
       "      <td>2</td>\n",
       "      <td>2</td>\n",
       "      <td>28</td>\n",
       "    </tr>\n",
       "  </tbody>\n",
       "</table>\n",
       "<p>571 rows × 7 columns</p>\n",
       "</div>"
      ],
      "text/plain": [
       "                gene  intron                 assay person_id  lab_id  \\\n",
       "0    ENSG00000013588       1  HG00273.3.M_120202_7   HG00273       3   \n",
       "1    ENSG00000013588       1  HG00112.6.M_120119_2   HG00112       6   \n",
       "2    ENSG00000013588       1  HG00262.2.M_111215_8   HG00262       2   \n",
       "3    ENSG00000013588       1  NA12004.4.M_120208_5   NA12004       4   \n",
       "4    ENSG00000013588       1  NA20528.2.M_120131_1   NA20528       2   \n",
       "5    ENSG00000013588       1  HG00308.3.M_120202_3   HG00308       3   \n",
       "6    ENSG00000013588       1  NA19095.2.M_120131_2   NA19095       2   \n",
       "7    ENSG00000013588       1  NA12400.2.M_111216_2   NA12400       2   \n",
       "8    ENSG00000013588       1  NA19189.5.M_120131_7   NA19189       5   \n",
       "9    ENSG00000013588       1  NA20804.4.M_120208_1   NA20804       4   \n",
       "10   ENSG00000013588       1  NA12761.1.M_120209_3   NA12761       1   \n",
       "11   ENSG00000013588       1  HG00380.3.M_120202_8   HG00380       3   \n",
       "12   ENSG00000013588       1  NA12763.1.M_120209_5   NA12763       1   \n",
       "13   ENSG00000013588       1  NA18499.1.M_111124_2   NA18499       1   \n",
       "14   ENSG00000013588       1  NA12889.3.M_120223_7   NA12889       3   \n",
       "15   ENSG00000013588       1  NA11832.1.M_120209_7   NA11832       1   \n",
       "16   ENSG00000013588       1  NA10851.4.M_120208_1   NA10851       4   \n",
       "17   ENSG00000013588       1  NA06984.1.M_111124_4   NA06984       1   \n",
       "18   ENSG00000013588       1  HG00361.7.M_120219_5   HG00361       7   \n",
       "19   ENSG00000013588       1  NA19257.6.M_120119_2   NA19257       6   \n",
       "20   ENSG00000013588       1  HG00119.1.M_120209_3   HG00119       1   \n",
       "21   ENSG00000013588       1  HG00138.5.M_120131_5   HG00138       5   \n",
       "22   ENSG00000013588       1  NA12762.4.M_120208_3   NA12762       4   \n",
       "23   ENSG00000013588       1  NA11840.6.M_120119_5   NA11840       6   \n",
       "24   ENSG00000013588       1  HG00114.1.M_120209_3   HG00114       1   \n",
       "25   ENSG00000013588       1  HG00343.1.M_111124_5   HG00343       1   \n",
       "26   ENSG00000013588       1  HG00271.2.M_111215_7   HG00271       2   \n",
       "27   ENSG00000013588       1  HG00174.4.M_120208_3   HG00174       4   \n",
       "28   ENSG00000013588       1  NA12814.1.M_120209_3   NA12814       1   \n",
       "29   ENSG00000013588       1  NA12829.7.M_120219_4   NA12829       7   \n",
       "..               ...     ...                   ...       ...     ...   \n",
       "541  ENSG00000013588       1  NA19200.2.M_111216_1   NA19200       2   \n",
       "542  ENSG00000013588       1  NA18908.1.M_120209_8   NA18908       1   \n",
       "543  ENSG00000013588       1  HG00117.1.M_111124_2   HG00117       1   \n",
       "544  ENSG00000013588       1  HG00369.5.M_120131_1   HG00369       5   \n",
       "545  ENSG00000013588       1  NA18502.7.M_120219_8   NA18502       7   \n",
       "546  ENSG00000013588       1  NA12413.2.M_111215_6   NA12413       2   \n",
       "547  ENSG00000013588       1  NA18489.2.M_111216_1   NA18489       2   \n",
       "548  ENSG00000013588       1  NA18520.1.M_111124_1   NA18520       1   \n",
       "549  ENSG00000013588       1  HG00330.1.M_120209_2   HG00330       1   \n",
       "550  ENSG00000013588       1  NA12006.5.M_120131_1   NA12006       5   \n",
       "551  ENSG00000013588       1  NA20756.2.M_111216_6   NA20756       2   \n",
       "552  ENSG00000013588       1  NA20543.2.M_111215_5   NA20543       2   \n",
       "553  ENSG00000013588       1  HG00115.6.M_120119_1   HG00115       6   \n",
       "554  ENSG00000013588       1  NA20816.3.M_120202_7   NA20816       3   \n",
       "555  ENSG00000013588       1  HG02215.1.M_111124_4   HG02215       1   \n",
       "556  ENSG00000013588       1  NA20806.3.M_120202_5   NA20806       3   \n",
       "557  ENSG00000013588       1  HG01791.2.M_111216_5   HG01791       2   \n",
       "558  ENSG00000013588       1  HG00353.1.M_111124_6   HG00353       1   \n",
       "559  ENSG00000013588       1  NA20801.7.M_120219_5   NA20801       7   \n",
       "560  ENSG00000013588       1  HG00157.5.M_120131_3   HG00157       5   \n",
       "561  ENSG00000013588       1  NA18858.2.M_111216_8   NA18858       2   \n",
       "562  ENSG00000013588       1  HG00111.1.M_120209_8   HG00111       1   \n",
       "563  ENSG00000013588       1  HG00315.2.M_111215_5   HG00315       2   \n",
       "564  ENSG00000013588       1  HG00116.2.M_120131_1   HG00116       2   \n",
       "565  ENSG00000013588       1  NA12873.1.M_120209_7   NA12873       1   \n",
       "566  ENSG00000013588       1  NA12144.1.M_120209_3   NA12144       1   \n",
       "567  ENSG00000013588       1  NA20819.3.M_120202_2   NA20819       3   \n",
       "568  ENSG00000013588       1  NA20521.7.M_120219_7   NA20521       7   \n",
       "569  ENSG00000013588       1  NA18870.6.M_120119_4   NA18870       6   \n",
       "570  ENSG00000013588       1  NA20790.2.M_111215_6   NA20790       2   \n",
       "\n",
       "     nsuccesses  ntrials  \n",
       "0             0       20  \n",
       "1             2       20  \n",
       "2             2       35  \n",
       "3             0        2  \n",
       "4             1       13  \n",
       "5             0        4  \n",
       "6             0        2  \n",
       "7             2       17  \n",
       "8             0       17  \n",
       "9             0        2  \n",
       "10            0        4  \n",
       "11            7       40  \n",
       "12            2        2  \n",
       "13            0        4  \n",
       "14            0        8  \n",
       "15            2       16  \n",
       "16            4       13  \n",
       "17            0       14  \n",
       "18            3        7  \n",
       "19            2      143  \n",
       "20            2       25  \n",
       "21            0       11  \n",
       "22            0        8  \n",
       "23            0        5  \n",
       "24            1       29  \n",
       "25           13       95  \n",
       "26            0       43  \n",
       "27            0       40  \n",
       "28            1        5  \n",
       "29            5       20  \n",
       "..          ...      ...  \n",
       "541           1        1  \n",
       "542           0       15  \n",
       "543           7       85  \n",
       "544           2       37  \n",
       "545           1        5  \n",
       "546           0       16  \n",
       "547           1       47  \n",
       "548           0       25  \n",
       "549           2       31  \n",
       "550           0        2  \n",
       "551           2       16  \n",
       "552           2       15  \n",
       "553           2       34  \n",
       "554           6      131  \n",
       "555           0        3  \n",
       "556           6       34  \n",
       "557           2       32  \n",
       "558           0        7  \n",
       "559           6       60  \n",
       "560           1        7  \n",
       "561           0        6  \n",
       "562           2       15  \n",
       "563           6       66  \n",
       "564           0       37  \n",
       "565           0        4  \n",
       "566           0        0  \n",
       "567           0       15  \n",
       "568           2        6  \n",
       "569           0        2  \n",
       "570           2       28  \n",
       "\n",
       "[571 rows x 7 columns]"
      ]
     },
     "execution_count": 6,
     "metadata": {},
     "output_type": "execute_result"
    }
   ],
   "source": [
    "df = subdata.todataframe()\n",
    "df"
   ]
  },
  {
   "cell_type": "markdown",
   "metadata": {},
   "source": [
    "# Copy and paste code"
   ]
  },
  {
   "cell_type": "code",
   "execution_count": 1,
   "metadata": {},
   "outputs": [],
   "source": [
    "class Dataset(object):\n",
    "    _root = '/hps/nobackup/stegle/users/horta/dataset/intron/quant_splicing/transcript-qtls/'\n",
    "    def __init__(self):\n",
    "        import sys\n",
    "        import bcolz\n",
    "        import numpy as np\n",
    "        import msgpack\n",
    "        import blosc\n",
    "        from toolz import first\n",
    "        from numpy import asarray\n",
    "    \n",
    "        self.ugene = asarray(bcolz.open(rootdir=self._path('counts/ugene.bcolz')))\n",
    "        print(\"# unique genes: %d\" % self.ugene.shape[0])\n",
    "\n",
    "        self.uassay = asarray(bcolz.open(rootdir=self._path('counts/uassay.bcolz')))\n",
    "        print(\"# unique assays: %d\" % self.uassay.shape[0])\n",
    "\n",
    "        self.ulab_id = asarray(bcolz.open(rootdir=self._path('counts/ulab_id.bcolz')))\n",
    "        print(\"# unique labs: %d\" % self.ulab_id.shape[0])\n",
    "\n",
    "        self.uperson_id = asarray(bcolz.open(rootdir=self._path('counts/uperson_id.bcolz')))\n",
    "        print(\"# unique persons: %d\" % self.uperson_id.shape[0])\n",
    "        \n",
    "        with open(self._path('counts/positions.msg.blosc'), 'rb') as f:\n",
    "            self.positions = msgpack.unpackb(blosc.decompress(f.read()))\n",
    "    \n",
    "    def _path(self, p):\n",
    "        from os.path import join\n",
    "        return join(self._root, p)\n",
    "\n",
    "    def phenotype(self, gene, intron):\n",
    "        import bcolz\n",
    "        intron = int(intron)\n",
    "        data = bcolz.open(rootdir=self._path('counts/introns.bcolz'))\n",
    "        return data.fetchwhere(\"(gene == '%s') & (intron == %d)\" % (gene, intron))\n",
    "    \n",
    "    def columns(self):\n",
    "        import bcolz\n",
    "        return bcolz.open(rootdir=self._path('counts/introns.bcolz')).cols.names\n",
    "    \n",
    "    def introns(self, gene):\n",
    "        gene = gene.encode()\n",
    "        return list(self.positions[gene].keys())\n",
    "    \n",
    "    def window(self, gene, intron):\n",
    "        intron = int(intron)\n",
    "        gene = gene.encode()\n",
    "        return self.positions[gene][intron]"
   ]
  },
  {
   "cell_type": "code",
   "execution_count": 2,
   "metadata": {},
   "outputs": [
    {
     "name": "stdout",
     "output_type": "stream",
     "text": [
      "# unique genes: 30692\n",
      "# unique assays: 571\n",
      "# unique labs: 7\n",
      "# unique persons: 464\n"
     ]
    }
   ],
   "source": [
    "d = Dataset()"
   ]
  },
  {
   "cell_type": "code",
   "execution_count": 3,
   "metadata": {},
   "outputs": [
    {
     "name": "stdout",
     "output_type": "stream",
     "text": [
      "ENSG00000000003 [1, 2, 3, 4, 5, 6, 7]\n"
     ]
    }
   ],
   "source": [
    "print(d.ugene[0], d.introns('ENSG00000000003'))"
   ]
  },
  {
   "cell_type": "code",
   "execution_count": 4,
   "metadata": {},
   "outputs": [
    {
     "name": "stdout",
     "output_type": "stream",
     "text": [
      "{b'end_pos': 99885745, b'start_pos': 99884994}\n"
     ]
    }
   ],
   "source": [
    "print(d.window(d.ugene[0], 1))"
   ]
  },
  {
   "cell_type": "code",
   "execution_count": 5,
   "metadata": {},
   "outputs": [
    {
     "ename": "KeyboardInterrupt",
     "evalue": "",
     "output_type": "error",
     "traceback": [
      "\u001b[0;31m---------------------------------------------------------------------------\u001b[0m",
      "\u001b[0;31mKeyboardInterrupt\u001b[0m                         Traceback (most recent call last)",
      "\u001b[0;32m<ipython-input-5-947e72e4bb6e>\u001b[0m in \u001b[0;36m<module>\u001b[0;34m()\u001b[0m\n\u001b[0;32m----> 1\u001b[0;31m \u001b[0mprint\u001b[0m\u001b[0;34m(\u001b[0m\u001b[0md\u001b[0m\u001b[0;34m.\u001b[0m\u001b[0mphenotype\u001b[0m\u001b[0;34m(\u001b[0m\u001b[0md\u001b[0m\u001b[0;34m.\u001b[0m\u001b[0mugene\u001b[0m\u001b[0;34m[\u001b[0m\u001b[0;36m0\u001b[0m\u001b[0;34m]\u001b[0m\u001b[0;34m,\u001b[0m \u001b[0;36m1\u001b[0m\u001b[0;34m)\u001b[0m\u001b[0;34m)\u001b[0m\u001b[0;34m\u001b[0m\u001b[0m\n\u001b[0m",
      "\u001b[0;32m<ipython-input-1-357327e54bec>\u001b[0m in \u001b[0;36mphenotype\u001b[0;34m(self, gene, intron)\u001b[0m\n\u001b[1;32m     33\u001b[0m         \u001b[0mintron\u001b[0m \u001b[0;34m=\u001b[0m \u001b[0mint\u001b[0m\u001b[0;34m(\u001b[0m\u001b[0mintron\u001b[0m\u001b[0;34m)\u001b[0m\u001b[0;34m\u001b[0m\u001b[0m\n\u001b[1;32m     34\u001b[0m         \u001b[0mdata\u001b[0m \u001b[0;34m=\u001b[0m \u001b[0mbcolz\u001b[0m\u001b[0;34m.\u001b[0m\u001b[0mopen\u001b[0m\u001b[0;34m(\u001b[0m\u001b[0mrootdir\u001b[0m\u001b[0;34m=\u001b[0m\u001b[0mself\u001b[0m\u001b[0;34m.\u001b[0m\u001b[0m_path\u001b[0m\u001b[0;34m(\u001b[0m\u001b[0;34m'counts/introns.bcolz'\u001b[0m\u001b[0;34m)\u001b[0m\u001b[0;34m)\u001b[0m\u001b[0;34m\u001b[0m\u001b[0m\n\u001b[0;32m---> 35\u001b[0;31m         \u001b[0;32mreturn\u001b[0m \u001b[0mdata\u001b[0m\u001b[0;34m.\u001b[0m\u001b[0mfetchwhere\u001b[0m\u001b[0;34m(\u001b[0m\u001b[0;34m\"(gene == '%s') & (intron == %d)\"\u001b[0m \u001b[0;34m%\u001b[0m \u001b[0;34m(\u001b[0m\u001b[0mgene\u001b[0m\u001b[0;34m,\u001b[0m \u001b[0mintron\u001b[0m\u001b[0;34m)\u001b[0m\u001b[0;34m)\u001b[0m\u001b[0;34m\u001b[0m\u001b[0m\n\u001b[0m\u001b[1;32m     36\u001b[0m \u001b[0;34m\u001b[0m\u001b[0m\n\u001b[1;32m     37\u001b[0m     \u001b[0;32mdef\u001b[0m \u001b[0mcolumns\u001b[0m\u001b[0;34m(\u001b[0m\u001b[0mself\u001b[0m\u001b[0;34m)\u001b[0m\u001b[0;34m:\u001b[0m\u001b[0;34m\u001b[0m\u001b[0m\n",
      "\u001b[0;32m/nfs/software/stegle/users/horta/conda-envs/data/lib/python3.5/site-packages/bcolz/ctable.py\u001b[0m in \u001b[0;36mfetchwhere\u001b[0;34m(self, expression, outcols, limit, skip, out_flavor, user_dict, vm, **kwargs)\u001b[0m\n\u001b[1;32m   1004\u001b[0m                             \u001b[0mout_flavor\u001b[0m\u001b[0;34m=\u001b[0m\u001b[0mtuple\u001b[0m\u001b[0;34m,\u001b[0m \u001b[0muser_dict\u001b[0m\u001b[0;34m=\u001b[0m\u001b[0mself\u001b[0m\u001b[0;34m.\u001b[0m\u001b[0m_ud\u001b[0m\u001b[0;34m(\u001b[0m\u001b[0muser_dict\u001b[0m\u001b[0;34m)\u001b[0m\u001b[0;34m,\u001b[0m\u001b[0;34m\u001b[0m\u001b[0m\n\u001b[1;32m   1005\u001b[0m                             vm=vm)\n\u001b[0;32m-> 1006\u001b[0;31m             \u001b[0mct\u001b[0m \u001b[0;34m=\u001b[0m \u001b[0mbcolz\u001b[0m\u001b[0;34m.\u001b[0m\u001b[0mfromiter\u001b[0m\u001b[0;34m(\u001b[0m\u001b[0mit\u001b[0m\u001b[0;34m,\u001b[0m \u001b[0mdtype\u001b[0m\u001b[0;34m,\u001b[0m \u001b[0mcount\u001b[0m\u001b[0;34m=\u001b[0m\u001b[0;34m-\u001b[0m\u001b[0;36m1\u001b[0m\u001b[0;34m,\u001b[0m \u001b[0;34m**\u001b[0m\u001b[0mkwargs\u001b[0m\u001b[0;34m)\u001b[0m\u001b[0;34m\u001b[0m\u001b[0m\n\u001b[0m\u001b[1;32m   1007\u001b[0m             \u001b[0mct\u001b[0m\u001b[0;34m.\u001b[0m\u001b[0mflush\u001b[0m\u001b[0;34m(\u001b[0m\u001b[0;34m)\u001b[0m\u001b[0;34m\u001b[0m\u001b[0m\n\u001b[1;32m   1008\u001b[0m             \u001b[0;32mreturn\u001b[0m \u001b[0mct\u001b[0m\u001b[0;34m\u001b[0m\u001b[0m\n",
      "\u001b[0;32m/nfs/software/stegle/users/horta/conda-envs/data/lib/python3.5/site-packages/bcolz/toplevel.py\u001b[0m in \u001b[0;36mfromiter\u001b[0;34m(iterable, dtype, count, **kwargs)\u001b[0m\n\u001b[1;32m    202\u001b[0m     \u001b[0;31m# Then fill it\u001b[0m\u001b[0;34m\u001b[0m\u001b[0;34m\u001b[0m\u001b[0m\n\u001b[1;32m    203\u001b[0m     \u001b[0;32mwhile\u001b[0m \u001b[0;32mTrue\u001b[0m\u001b[0;34m:\u001b[0m\u001b[0;34m\u001b[0m\u001b[0m\n\u001b[0;32m--> 204\u001b[0;31m         \u001b[0mchunk\u001b[0m \u001b[0;34m=\u001b[0m \u001b[0mnp\u001b[0m\u001b[0;34m.\u001b[0m\u001b[0mfromiter\u001b[0m\u001b[0;34m(\u001b[0m\u001b[0mit\u001b[0m\u001b[0;34m.\u001b[0m\u001b[0mislice\u001b[0m\u001b[0;34m(\u001b[0m\u001b[0miterable\u001b[0m\u001b[0;34m,\u001b[0m \u001b[0mchunklen\u001b[0m\u001b[0;34m)\u001b[0m\u001b[0;34m,\u001b[0m \u001b[0mdtype\u001b[0m\u001b[0;34m=\u001b[0m\u001b[0mdtype\u001b[0m\u001b[0;34m)\u001b[0m\u001b[0;34m\u001b[0m\u001b[0m\n\u001b[0m\u001b[1;32m    205\u001b[0m         \u001b[0;32mif\u001b[0m \u001b[0mlen\u001b[0m\u001b[0;34m(\u001b[0m\u001b[0mchunk\u001b[0m\u001b[0;34m)\u001b[0m \u001b[0;34m==\u001b[0m \u001b[0;36m0\u001b[0m\u001b[0;34m:\u001b[0m\u001b[0;34m\u001b[0m\u001b[0m\n\u001b[1;32m    206\u001b[0m             \u001b[0;31m# Iterable has been exhausted\u001b[0m\u001b[0;34m\u001b[0m\u001b[0;34m\u001b[0m\u001b[0m\n",
      "\u001b[0;32mbcolz/carray_ext.pyx\u001b[0m in \u001b[0;36mbcolz.carray_ext.carray.__next__ (bcolz/carray_ext.c:34423)\u001b[0;34m()\u001b[0m\n",
      "\u001b[0;32mbcolz/carray_ext.pyx\u001b[0m in \u001b[0;36mbcolz.carray_ext.carray.__getitem__ (bcolz/carray_ext.c:28207)\u001b[0;34m()\u001b[0m\n",
      "\u001b[0;32mbcolz/carray_ext.pyx\u001b[0m in \u001b[0;36mbcolz.carray_ext.chunks.__getitem__ (bcolz/carray_ext.c:11428)\u001b[0;34m()\u001b[0m\n",
      "\u001b[0;32mbcolz/carray_ext.pyx\u001b[0m in \u001b[0;36mbcolz.carray_ext.chunks.read_chunk (bcolz/carray_ext.c:10643)\u001b[0;34m()\u001b[0m\n",
      "\u001b[0;32mbcolz/carray_ext.pyx\u001b[0m in \u001b[0;36mbcolz.carray_ext.chunks._chunk_file_name (bcolz/carray_ext.c:10528)\u001b[0;34m()\u001b[0m\n",
      "\u001b[0;32mbcolz/carray_ext.pyx\u001b[0m in \u001b[0;36mbcolz.carray_ext.chunks.datadir.__get__ (bcolz/carray_ext.c:9936)\u001b[0;34m()\u001b[0m\n",
      "\u001b[0;32m/nfs/software/stegle/users/horta/conda-envs/data/lib/python3.5/posixpath.py\u001b[0m in \u001b[0;36mjoin\u001b[0;34m(a, *p)\u001b[0m\n\u001b[1;32m     69\u001b[0m \u001b[0;31m# Insert a '/' unless the first part is empty or already ends in '/'.\u001b[0m\u001b[0;34m\u001b[0m\u001b[0;34m\u001b[0m\u001b[0m\n\u001b[1;32m     70\u001b[0m \u001b[0;34m\u001b[0m\u001b[0m\n\u001b[0;32m---> 71\u001b[0;31m \u001b[0;32mdef\u001b[0m \u001b[0mjoin\u001b[0m\u001b[0;34m(\u001b[0m\u001b[0ma\u001b[0m\u001b[0;34m,\u001b[0m \u001b[0;34m*\u001b[0m\u001b[0mp\u001b[0m\u001b[0;34m)\u001b[0m\u001b[0;34m:\u001b[0m\u001b[0;34m\u001b[0m\u001b[0m\n\u001b[0m\u001b[1;32m     72\u001b[0m     \"\"\"Join two or more pathname components, inserting '/' as needed.\n\u001b[1;32m     73\u001b[0m     \u001b[0mIf\u001b[0m \u001b[0many\u001b[0m \u001b[0mcomponent\u001b[0m \u001b[0;32mis\u001b[0m \u001b[0man\u001b[0m \u001b[0mabsolute\u001b[0m \u001b[0mpath\u001b[0m\u001b[0;34m,\u001b[0m \u001b[0mall\u001b[0m \u001b[0mprevious\u001b[0m \u001b[0mpath\u001b[0m \u001b[0mcomponents\u001b[0m\u001b[0;34m\u001b[0m\u001b[0m\n",
      "\u001b[0;31mKeyboardInterrupt\u001b[0m: "
     ]
    }
   ],
   "source": [
    "print(d.phenotype(d.ugene[0], 1))"
   ]
  },
  {
   "cell_type": "code",
   "execution_count": 2,
   "metadata": {},
   "outputs": [],
   "source": [
    "import bcolz\n",
    "data = bcolz.open(rootdir='counts/introns.bcolz')"
   ]
  },
  {
   "cell_type": "code",
   "execution_count": 6,
   "metadata": {},
   "outputs": [
    {
     "ename": "KeyboardInterrupt",
     "evalue": "",
     "output_type": "error",
     "traceback": [
      "\u001b[0;31m---------------------------------------------------------------------------\u001b[0m",
      "\u001b[0;31mKeyboardInterrupt\u001b[0m                         Traceback (most recent call last)",
      "\u001b[0;32m<ipython-input-6-e283b2bdeab0>\u001b[0m in \u001b[0;36m<module>\u001b[0;34m()\u001b[0m\n\u001b[0;32m----> 1\u001b[0;31m \u001b[0mdf\u001b[0m \u001b[0;34m=\u001b[0m \u001b[0mdata\u001b[0m\u001b[0;34m.\u001b[0m\u001b[0mtodataframe\u001b[0m\u001b[0;34m(\u001b[0m\u001b[0;34m[\u001b[0m\u001b[0;34m'gene'\u001b[0m\u001b[0;34m,\u001b[0m \u001b[0;34m'intron'\u001b[0m\u001b[0;34m]\u001b[0m\u001b[0;34m,\u001b[0m \u001b[0morient\u001b[0m\u001b[0;34m=\u001b[0m\u001b[0;34m'index'\u001b[0m\u001b[0;34m)\u001b[0m\u001b[0;34m\u001b[0m\u001b[0m\n\u001b[0m",
      "\u001b[0;32m/nfs/software/stegle/users/horta/conda-envs/data/lib/python3.5/site-packages/bcolz/ctable.py\u001b[0m in \u001b[0;36mtodataframe\u001b[0;34m(self, columns, orient)\u001b[0m\n\u001b[1;32m    785\u001b[0m         df = pd.DataFrame.from_items(\n\u001b[1;32m    786\u001b[0m             \u001b[0;34m(\u001b[0m\u001b[0;34m(\u001b[0m\u001b[0mkey\u001b[0m\u001b[0;34m,\u001b[0m \u001b[0mself\u001b[0m\u001b[0;34m[\u001b[0m\u001b[0mkey\u001b[0m\u001b[0;34m]\u001b[0m\u001b[0;34m[\u001b[0m\u001b[0;34m:\u001b[0m\u001b[0;34m]\u001b[0m\u001b[0;34m)\u001b[0m \u001b[0;32mfor\u001b[0m \u001b[0mkey\u001b[0m \u001b[0;32min\u001b[0m \u001b[0mself\u001b[0m\u001b[0;34m.\u001b[0m\u001b[0mnames\u001b[0m\u001b[0;34m)\u001b[0m\u001b[0;34m,\u001b[0m\u001b[0;34m\u001b[0m\u001b[0m\n\u001b[0;32m--> 787\u001b[0;31m             columns=columns, orient=orient)\n\u001b[0m\u001b[1;32m    788\u001b[0m         \u001b[0;32mreturn\u001b[0m \u001b[0mdf\u001b[0m\u001b[0;34m\u001b[0m\u001b[0m\n\u001b[1;32m    789\u001b[0m \u001b[0;34m\u001b[0m\u001b[0m\n",
      "\u001b[0;32m/nfs/software/stegle/users/horta/conda-envs/data/lib/python3.5/site-packages/pandas/core/frame.py\u001b[0m in \u001b[0;36mfrom_items\u001b[0;34m(cls, items, columns, orient)\u001b[0m\n\u001b[1;32m   1136\u001b[0m         \u001b[0mframe\u001b[0m \u001b[0;34m:\u001b[0m \u001b[0mDataFrame\u001b[0m\u001b[0;34m\u001b[0m\u001b[0m\n\u001b[1;32m   1137\u001b[0m         \"\"\"\n\u001b[0;32m-> 1138\u001b[0;31m         \u001b[0mkeys\u001b[0m\u001b[0;34m,\u001b[0m \u001b[0mvalues\u001b[0m \u001b[0;34m=\u001b[0m \u001b[0mlzip\u001b[0m\u001b[0;34m(\u001b[0m\u001b[0;34m*\u001b[0m\u001b[0mitems\u001b[0m\u001b[0;34m)\u001b[0m\u001b[0;34m\u001b[0m\u001b[0m\n\u001b[0m\u001b[1;32m   1139\u001b[0m \u001b[0;34m\u001b[0m\u001b[0m\n\u001b[1;32m   1140\u001b[0m         \u001b[0;32mif\u001b[0m \u001b[0morient\u001b[0m \u001b[0;34m==\u001b[0m \u001b[0;34m'columns'\u001b[0m\u001b[0;34m:\u001b[0m\u001b[0;34m\u001b[0m\u001b[0m\n",
      "\u001b[0;32m/nfs/software/stegle/users/horta/conda-envs/data/lib/python3.5/site-packages/bcolz/ctable.py\u001b[0m in \u001b[0;36m<genexpr>\u001b[0;34m(.0)\u001b[0m\n\u001b[1;32m    784\u001b[0m         \u001b[0;31m# existing simultaneously in-memory\u001b[0m\u001b[0;34m\u001b[0m\u001b[0;34m\u001b[0m\u001b[0m\n\u001b[1;32m    785\u001b[0m         df = pd.DataFrame.from_items(\n\u001b[0;32m--> 786\u001b[0;31m             \u001b[0;34m(\u001b[0m\u001b[0;34m(\u001b[0m\u001b[0mkey\u001b[0m\u001b[0;34m,\u001b[0m \u001b[0mself\u001b[0m\u001b[0;34m[\u001b[0m\u001b[0mkey\u001b[0m\u001b[0;34m]\u001b[0m\u001b[0;34m[\u001b[0m\u001b[0;34m:\u001b[0m\u001b[0;34m]\u001b[0m\u001b[0;34m)\u001b[0m \u001b[0;32mfor\u001b[0m \u001b[0mkey\u001b[0m \u001b[0;32min\u001b[0m \u001b[0mself\u001b[0m\u001b[0;34m.\u001b[0m\u001b[0mnames\u001b[0m\u001b[0;34m)\u001b[0m\u001b[0;34m,\u001b[0m\u001b[0;34m\u001b[0m\u001b[0m\n\u001b[0m\u001b[1;32m    787\u001b[0m             columns=columns, orient=orient)\n\u001b[1;32m    788\u001b[0m         \u001b[0;32mreturn\u001b[0m \u001b[0mdf\u001b[0m\u001b[0;34m\u001b[0m\u001b[0m\n",
      "\u001b[0;32mbcolz/carray_ext.pyx\u001b[0m in \u001b[0;36mbcolz.carray_ext.carray.__getitem__ (bcolz/carray_ext.c:28207)\u001b[0;34m()\u001b[0m\n",
      "\u001b[0;32mbcolz/carray_ext.pyx\u001b[0m in \u001b[0;36mbcolz.carray_ext.chunks.__getitem__ (bcolz/carray_ext.c:11428)\u001b[0;34m()\u001b[0m\n",
      "\u001b[0;32mbcolz/carray_ext.pyx\u001b[0m in \u001b[0;36mbcolz.carray_ext.chunks.read_chunk (bcolz/carray_ext.c:10643)\u001b[0;34m()\u001b[0m\n",
      "\u001b[0;32mbcolz/carray_ext.pyx\u001b[0m in \u001b[0;36mbcolz.carray_ext.chunks._chunk_file_name (bcolz/carray_ext.c:10528)\u001b[0;34m()\u001b[0m\n",
      "\u001b[0;32mbcolz/carray_ext.pyx\u001b[0m in \u001b[0;36mbcolz.carray_ext.chunks.datadir.__get__ (bcolz/carray_ext.c:9936)\u001b[0;34m()\u001b[0m\n",
      "\u001b[0;32m/nfs/software/stegle/users/horta/conda-envs/data/lib/python3.5/posixpath.py\u001b[0m in \u001b[0;36mjoin\u001b[0;34m(a, *p)\u001b[0m\n\u001b[1;32m     69\u001b[0m \u001b[0;31m# Insert a '/' unless the first part is empty or already ends in '/'.\u001b[0m\u001b[0;34m\u001b[0m\u001b[0;34m\u001b[0m\u001b[0m\n\u001b[1;32m     70\u001b[0m \u001b[0;34m\u001b[0m\u001b[0m\n\u001b[0;32m---> 71\u001b[0;31m \u001b[0;32mdef\u001b[0m \u001b[0mjoin\u001b[0m\u001b[0;34m(\u001b[0m\u001b[0ma\u001b[0m\u001b[0;34m,\u001b[0m \u001b[0;34m*\u001b[0m\u001b[0mp\u001b[0m\u001b[0;34m)\u001b[0m\u001b[0;34m:\u001b[0m\u001b[0;34m\u001b[0m\u001b[0m\n\u001b[0m\u001b[1;32m     72\u001b[0m     \"\"\"Join two or more pathname components, inserting '/' as needed.\n\u001b[1;32m     73\u001b[0m     \u001b[0mIf\u001b[0m \u001b[0many\u001b[0m \u001b[0mcomponent\u001b[0m \u001b[0;32mis\u001b[0m \u001b[0man\u001b[0m \u001b[0mabsolute\u001b[0m \u001b[0mpath\u001b[0m\u001b[0;34m,\u001b[0m \u001b[0mall\u001b[0m \u001b[0mprevious\u001b[0m \u001b[0mpath\u001b[0m \u001b[0mcomponents\u001b[0m\u001b[0;34m\u001b[0m\u001b[0m\n",
      "\u001b[0;31mKeyboardInterrupt\u001b[0m: "
     ]
    }
   ],
   "source": [
    "df = data.todataframe(['gene', 'intron'], orient='index')"
   ]
  },
  {
   "cell_type": "code",
   "execution_count": null,
   "metadata": {},
   "outputs": [],
   "source": [
    "# df.set_index()"
   ]
  },
  {
   "cell_type": "code",
   "execution_count": null,
   "metadata": {},
   "outputs": [],
   "source": [
    "df.to_hdf('introns.hdf', 'root', mode='w', complib='blosc', format='table')"
   ]
  },
  {
   "cell_type": "code",
   "execution_count": 5,
   "metadata": {},
   "outputs": [
    {
     "data": {
      "text/plain": [
       "['gene', 'intron', 'assay', 'person_id', 'lab_id', 'nsuccesses', 'ntrials']"
      ]
     },
     "execution_count": 5,
     "metadata": {},
     "output_type": "execute_result"
    }
   ],
   "source": [
    "data.cols.names"
   ]
  },
  {
   "cell_type": "code",
   "execution_count": null,
   "metadata": {},
   "outputs": [],
   "source": []
  }
 ],
 "metadata": {
  "kernelspec": {
   "display_name": "Python [conda env:data27]",
   "language": "python",
   "name": "conda-env-data27-py"
  },
  "language_info": {
   "codemirror_mode": {
    "name": "ipython",
    "version": 2
   },
   "file_extension": ".py",
   "mimetype": "text/x-python",
   "name": "python",
   "nbconvert_exporter": "python",
   "pygments_lexer": "ipython2",
   "version": "2.7.12"
  }
 },
 "nbformat": 4,
 "nbformat_minor": 1
}
