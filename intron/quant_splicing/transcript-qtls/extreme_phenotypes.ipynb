{
 "cells": [
  {
   "cell_type": "markdown",
   "metadata": {},
   "source": [
    "# Introduction\n",
    "\n",
    "The purpose of this Notebook is to illustrate some extreme phenotypes we have\n",
    "of alternative splicing, which prompts to maybe filter those out before\n",
    "reasonable analysis can be performed"
   ]
  },
  {
   "cell_type": "markdown",
   "metadata": {},
   "source": [
    "Couple of imports first"
   ]
  },
  {
   "cell_type": "code",
   "execution_count": 1,
   "metadata": {},
   "outputs": [],
   "source": [
    "from __future__ import division\n",
    "import bokeh as bk\n",
    "%matplotlib inline\n",
    "import matplotlib\n",
    "matplotlib.style.use('ggplot')\n",
    "import pandas as pd\n",
    "import msgpack\n",
    "import toolz\n",
    "import scipy.stats as st\n",
    "import matplotlib.pylab as plt\n",
    "import numpy as np\n",
    "from multiprocessing import Pool"
   ]
  },
  {
   "cell_type": "markdown",
   "metadata": {},
   "source": [
    "Function that retrieves all the genes we have."
   ]
  },
  {
   "cell_type": "code",
   "execution_count": 2,
   "metadata": {},
   "outputs": [],
   "source": [
    "def get_genes():\n",
    "    with open('genes.msg', 'rb') as f:\n",
    "        return set(msgpack.unpackb(f.read()))"
   ]
  },
  {
   "cell_type": "markdown",
   "metadata": {},
   "source": [
    "Notice how fast we can retrieve then:"
   ]
  },
  {
   "cell_type": "code",
   "execution_count": 3,
   "metadata": {},
   "outputs": [
    {
     "name": "stdout",
     "output_type": "stream",
     "text": [
      "CPU times: user 4.55 ms, sys: 3.86 ms, total: 8.41 ms\n",
      "Wall time: 8.17 ms\n"
     ]
    }
   ],
   "source": [
    "%%time\n",
    "genes = get_genes()"
   ]
  },
  {
   "cell_type": "markdown",
   "metadata": {},
   "source": [
    "We also load ``{gene -> intron}`` map. Each gene usually has around\n",
    "300 intron retention sites, but some of them has only one."
   ]
  },
  {
   "cell_type": "code",
   "execution_count": 4,
   "metadata": {},
   "outputs": [],
   "source": [
    "def get_gene_map_intron():\n",
    "    with open('gene_map_intron.msg', 'rb') as f:\n",
    "        return dict(msgpack.unpackb(f.read()))"
   ]
  },
  {
   "cell_type": "code",
   "execution_count": 5,
   "metadata": {},
   "outputs": [
    {
     "name": "stdout",
     "output_type": "stream",
     "text": [
      "CPU times: user 255 ms, sys: 88.9 ms, total: 344 ms\n",
      "Wall time: 343 ms\n"
     ]
    }
   ],
   "source": [
    "%%time\n",
    "gene_map_intron = get_gene_map_intron()"
   ]
  },
  {
   "cell_type": "code",
   "execution_count": 6,
   "metadata": {},
   "outputs": [],
   "source": [
    "def read_gene(gene):\n",
    "    df = pd.read_hdf('introns_events_3.h5', 'df', where=\"(gene == '%s')\" % (gene,))\n",
    "    df['nsuc'] = df['nread0']\n",
    "    df['ntri'] = df['nread0'] + df['nread1']\n",
    "    del df['nread0']\n",
    "    del df['nread1']\n",
    "    df = df.reset_index()\n",
    "    del df['gene']\n",
    "    del df['assay']\n",
    "    df.name = gene\n",
    "    return df\n",
    "\n",
    "def frequency_data(df):\n",
    "    return df.groupby(['intron', 'ntri']).size().unstack(level=0)\n",
    "\n",
    "def valid_ones(x):\n",
    "    x = np.asarray(x)\n",
    "    return x[np.isfinite(x)]"
   ]
  },
  {
   "cell_type": "markdown",
   "metadata": {},
   "source": [
    "We now compute per-gene the average skewness of ntrials frequency curve\n",
    "(ntrials on x-axis vs sample frequency on y-axis) across intron sites."
   ]
  },
  {
   "cell_type": "code",
   "execution_count": 7,
   "metadata": {},
   "outputs": [],
   "source": [
    "def compute_ntri_freq_skew(gene):\n",
    "    df = read_gene(gene)\n",
    "    data = frequency_data(df)\n",
    "    return data.apply(lambda x: st.skew(valid_ones(x))).mean()\n",
    "\n",
    "p = Pool(20)\n",
    "ntri_freq_skew = p.map(compute_ntri_freq_skew, genes)"
   ]
  },
  {
   "cell_type": "markdown",
   "metadata": {},
   "source": [
    "Let gets the two extrema cases."
   ]
  },
  {
   "cell_type": "code",
   "execution_count": 12,
   "metadata": {},
   "outputs": [],
   "source": [
    "imin, imax = np.argmin(ntri_freq_skew), np.argmax(ntri_freq_skew)"
   ]
  },
  {
   "cell_type": "code",
   "execution_count": 21,
   "metadata": {},
   "outputs": [],
   "source": [
    "def get_freq_data(gene):\n",
    "    df = read_gene(gene)\n",
    "    return df.groupby(['intron', 'ntri']).size().unstack(level=0)\n",
    "\n",
    "def plot_frequencies(gene):\n",
    "    def get_extremes(x):\n",
    "        x = np.asarray(x).ravel()\n",
    "        x = x[~np.isnan(x)]\n",
    "\n",
    "        return np.min(x), np.percentile(x, 99.5), np.max(x)\n",
    "\n",
    "\n",
    "    \n",
    "    f, ((ax00, ax01), (ax10, ax11)) = plt.subplots(2, 2, facecolor='w',\n",
    "                                                  sharex='col', sharey='row',\n",
    "                                                  figsize=(10,5))\n",
    "    data = get_freq_data(gene)\n",
    "    df = read_gene(gene).groupby(['intron', 'ntri']).size().unstack(level=0)\n",
    "\n",
    "    ax00 = data.plot(ax=ax00, legend=False, title=None)\n",
    "    ax01 = data.plot(ax=ax01, legend=False, title=None)\n",
    "\n",
    "    ax10 = data.plot(ax=ax10, legend=False, title=None)\n",
    "    ax11 = data.plot(ax=ax11, legend=False, title=None)\n",
    "\n",
    "    x0, x1, x2 = get_extremes(df['ntri'])\n",
    "    y0, y1, y2 = get_extremes(data)\n",
    "\n",
    "    ax00.set_ylim(y1, y2)\n",
    "    ax00.set_xlim(x0, x1)\n",
    "\n",
    "    ax01.set_ylim(y1, y2)\n",
    "    ax01.set_xlim(x1, x2)\n",
    "\n",
    "    ax10.set_ylim(y0, y1)\n",
    "    ax10.set_xlim(x0, x1)\n",
    "\n",
    "    ax11.set_ylim(y0, y1)\n",
    "    ax11.set_xlim(x1, x2)\n",
    "\n",
    "    ax00.set_ylabel('Frequency');\n",
    "    ax10.set_ylabel('Frequency');\n",
    "\n",
    "    return f.suptitle(gene0, fontsize=16)"
   ]
  },
  {
   "cell_type": "code",
   "execution_count": 14,
   "metadata": {},
   "outputs": [],
   "source": [
    "gene_min, gene_max = list(genes)[imin], list(genes)[imax]"
   ]
  },
  {
   "cell_type": "markdown",
   "metadata": {},
   "source": [
    "# Gene with the smallest skew"
   ]
  },
  {
   "cell_type": "code",
   "execution_count": 15,
   "metadata": {},
   "outputs": [
    {
     "name": "stdout",
     "output_type": "stream",
     "text": [
      "GENE: ENSG00000225815\n"
     ]
    },
    {
     "data": {
      "text/html": [
       "<div>\n",
       "<table border=\"1\" class=\"dataframe\">\n",
       "  <thead>\n",
       "    <tr style=\"text-align: right;\">\n",
       "      <th>intron</th>\n",
       "      <th>1</th>\n",
       "    </tr>\n",
       "    <tr>\n",
       "      <th>ntri</th>\n",
       "      <th></th>\n",
       "    </tr>\n",
       "  </thead>\n",
       "  <tbody>\n",
       "    <tr>\n",
       "      <th>0</th>\n",
       "      <td>569</td>\n",
       "    </tr>\n",
       "    <tr>\n",
       "      <th>2</th>\n",
       "      <td>2</td>\n",
       "    </tr>\n",
       "  </tbody>\n",
       "</table>\n",
       "</div>"
      ],
      "text/plain": [
       "intron    1\n",
       "ntri       \n",
       "0       569\n",
       "2         2"
      ]
     },
     "execution_count": 15,
     "metadata": {},
     "output_type": "execute_result"
    }
   ],
   "source": [
    "print(\"GENE: %s\" % gene_min)\n",
    "get_freq_data(gene_min)"
   ]
  },
  {
   "cell_type": "markdown",
   "metadata": {},
   "source": [
    "Notice in the above table that this particular gene\n",
    "has only one intron, and has only two unique number of trials:\n",
    "zero and two, where 569 of the assays have number of trials\n",
    "equal to zero."
   ]
  },
  {
   "cell_type": "markdown",
   "metadata": {},
   "source": [
    "# Gene with the biggest skew"
   ]
  },
  {
   "cell_type": "code",
   "execution_count": 16,
   "metadata": {},
   "outputs": [
    {
     "name": "stdout",
     "output_type": "stream",
     "text": [
      "GENE: ENSG00000166710\n"
     ]
    },
    {
     "data": {
      "text/html": [
       "<div>\n",
       "<table border=\"1\" class=\"dataframe\">\n",
       "  <thead>\n",
       "    <tr style=\"text-align: right;\">\n",
       "      <th>intron</th>\n",
       "      <th>1</th>\n",
       "      <th>2</th>\n",
       "    </tr>\n",
       "    <tr>\n",
       "      <th>ntri</th>\n",
       "      <th></th>\n",
       "      <th></th>\n",
       "    </tr>\n",
       "  </thead>\n",
       "  <tbody>\n",
       "    <tr>\n",
       "      <th>1646</th>\n",
       "      <td>1.0</td>\n",
       "      <td>NaN</td>\n",
       "    </tr>\n",
       "    <tr>\n",
       "      <th>2128</th>\n",
       "      <td>NaN</td>\n",
       "      <td>1.0</td>\n",
       "    </tr>\n",
       "    <tr>\n",
       "      <th>27525</th>\n",
       "      <td>1.0</td>\n",
       "      <td>NaN</td>\n",
       "    </tr>\n",
       "    <tr>\n",
       "      <th>28008</th>\n",
       "      <td>1.0</td>\n",
       "      <td>NaN</td>\n",
       "    </tr>\n",
       "    <tr>\n",
       "      <th>28026</th>\n",
       "      <td>1.0</td>\n",
       "      <td>NaN</td>\n",
       "    </tr>\n",
       "  </tbody>\n",
       "</table>\n",
       "</div>"
      ],
      "text/plain": [
       "intron    1    2\n",
       "ntri            \n",
       "1646    1.0  NaN\n",
       "2128    NaN  1.0\n",
       "27525   1.0  NaN\n",
       "28008   1.0  NaN\n",
       "28026   1.0  NaN"
      ]
     },
     "execution_count": 16,
     "metadata": {},
     "output_type": "execute_result"
    }
   ],
   "source": [
    "print(\"GENE: %s\" % gene_max)\n",
    "get_freq_data(gene_max).sort_index().head()"
   ]
  },
  {
   "cell_type": "code",
   "execution_count": 17,
   "metadata": {},
   "outputs": [
    {
     "data": {
      "text/html": [
       "<div>\n",
       "<table border=\"1\" class=\"dataframe\">\n",
       "  <thead>\n",
       "    <tr style=\"text-align: right;\">\n",
       "      <th>intron</th>\n",
       "      <th>1</th>\n",
       "      <th>2</th>\n",
       "    </tr>\n",
       "    <tr>\n",
       "      <th>ntri</th>\n",
       "      <th></th>\n",
       "      <th></th>\n",
       "    </tr>\n",
       "  </thead>\n",
       "  <tbody>\n",
       "    <tr>\n",
       "      <th>441784</th>\n",
       "      <td>NaN</td>\n",
       "      <td>1.0</td>\n",
       "    </tr>\n",
       "    <tr>\n",
       "      <th>449537</th>\n",
       "      <td>NaN</td>\n",
       "      <td>1.0</td>\n",
       "    </tr>\n",
       "    <tr>\n",
       "      <th>470593</th>\n",
       "      <td>NaN</td>\n",
       "      <td>1.0</td>\n",
       "    </tr>\n",
       "    <tr>\n",
       "      <th>474911</th>\n",
       "      <td>NaN</td>\n",
       "      <td>1.0</td>\n",
       "    </tr>\n",
       "    <tr>\n",
       "      <th>587359</th>\n",
       "      <td>NaN</td>\n",
       "      <td>1.0</td>\n",
       "    </tr>\n",
       "  </tbody>\n",
       "</table>\n",
       "</div>"
      ],
      "text/plain": [
       "intron   1    2\n",
       "ntri           \n",
       "441784 NaN  1.0\n",
       "449537 NaN  1.0\n",
       "470593 NaN  1.0\n",
       "474911 NaN  1.0\n",
       "587359 NaN  1.0"
      ]
     },
     "execution_count": 17,
     "metadata": {},
     "output_type": "execute_result"
    }
   ],
   "source": [
    "get_freq_data(gene_max).sort_index().tail()"
   ]
  },
  {
   "cell_type": "markdown",
   "metadata": {},
   "source": [
    "The above gene has only two introns and the number of trials\n",
    "is extremely large.\n",
    "Lets see that in more detail."
   ]
  },
  {
   "cell_type": "code",
   "execution_count": 35,
   "metadata": {},
   "outputs": [
    {
     "name": "stdout",
     "output_type": "stream",
     "text": [
      "GENE: ENSG00000166710\n"
     ]
    },
    {
     "data": {
      "text/html": [
       "<div>\n",
       "<table border=\"1\" class=\"dataframe\">\n",
       "  <thead>\n",
       "    <tr style=\"text-align: right;\">\n",
       "      <th></th>\n",
       "      <th></th>\n",
       "      <th>nsuc</th>\n",
       "      <th>ntri</th>\n",
       "    </tr>\n",
       "    <tr>\n",
       "      <th>intron</th>\n",
       "      <th></th>\n",
       "      <th></th>\n",
       "      <th></th>\n",
       "    </tr>\n",
       "  </thead>\n",
       "  <tbody>\n",
       "    <tr>\n",
       "      <th rowspan=\"8\" valign=\"top\">1</th>\n",
       "      <th>count</th>\n",
       "      <td>571.0</td>\n",
       "      <td>571.0</td>\n",
       "    </tr>\n",
       "    <tr>\n",
       "      <th>mean</th>\n",
       "      <td>204.8</td>\n",
       "      <td>101305.1</td>\n",
       "    </tr>\n",
       "    <tr>\n",
       "      <th>std</th>\n",
       "      <td>132.0</td>\n",
       "      <td>42767.0</td>\n",
       "    </tr>\n",
       "    <tr>\n",
       "      <th>min</th>\n",
       "      <td>19.0</td>\n",
       "      <td>1646.0</td>\n",
       "    </tr>\n",
       "    <tr>\n",
       "      <th>25%</th>\n",
       "      <td>112.0</td>\n",
       "      <td>70312.0</td>\n",
       "    </tr>\n",
       "    <tr>\n",
       "      <th>50%</th>\n",
       "      <td>178.0</td>\n",
       "      <td>98978.0</td>\n",
       "    </tr>\n",
       "    <tr>\n",
       "      <th>75%</th>\n",
       "      <td>263.5</td>\n",
       "      <td>127952.5</td>\n",
       "    </tr>\n",
       "    <tr>\n",
       "      <th>max</th>\n",
       "      <td>1124.0</td>\n",
       "      <td>318779.0</td>\n",
       "    </tr>\n",
       "    <tr>\n",
       "      <th rowspan=\"8\" valign=\"top\">2</th>\n",
       "      <th>count</th>\n",
       "      <td>571.0</td>\n",
       "      <td>571.0</td>\n",
       "    </tr>\n",
       "    <tr>\n",
       "      <th>mean</th>\n",
       "      <td>727.7</td>\n",
       "      <td>188759.5</td>\n",
       "    </tr>\n",
       "    <tr>\n",
       "      <th>std</th>\n",
       "      <td>406.9</td>\n",
       "      <td>79093.1</td>\n",
       "    </tr>\n",
       "    <tr>\n",
       "      <th>min</th>\n",
       "      <td>12.0</td>\n",
       "      <td>2128.0</td>\n",
       "    </tr>\n",
       "    <tr>\n",
       "      <th>25%</th>\n",
       "      <td>432.0</td>\n",
       "      <td>131241.0</td>\n",
       "    </tr>\n",
       "    <tr>\n",
       "      <th>50%</th>\n",
       "      <td>655.0</td>\n",
       "      <td>184894.0</td>\n",
       "    </tr>\n",
       "    <tr>\n",
       "      <th>75%</th>\n",
       "      <td>934.0</td>\n",
       "      <td>236099.5</td>\n",
       "    </tr>\n",
       "    <tr>\n",
       "      <th>max</th>\n",
       "      <td>2835.0</td>\n",
       "      <td>587359.0</td>\n",
       "    </tr>\n",
       "  </tbody>\n",
       "</table>\n",
       "</div>"
      ],
      "text/plain": [
       "                nsuc      ntri\n",
       "intron                        \n",
       "1      count   571.0     571.0\n",
       "       mean    204.8  101305.1\n",
       "       std     132.0   42767.0\n",
       "       min      19.0    1646.0\n",
       "       25%     112.0   70312.0\n",
       "       50%     178.0   98978.0\n",
       "       75%     263.5  127952.5\n",
       "       max    1124.0  318779.0\n",
       "2      count   571.0     571.0\n",
       "       mean    727.7  188759.5\n",
       "       std     406.9   79093.1\n",
       "       min      12.0    2128.0\n",
       "       25%     432.0  131241.0\n",
       "       50%     655.0  184894.0\n",
       "       75%     934.0  236099.5\n",
       "       max    2835.0  587359.0"
      ]
     },
     "execution_count": 35,
     "metadata": {},
     "output_type": "execute_result"
    }
   ],
   "source": [
    "df = read_gene(gene_max)\n",
    "pd.set_option('display.precision', 1)\n",
    "print(\"GENE: %s\" % gene_max)\n",
    "df.groupby('intron').describe()"
   ]
  },
  {
   "cell_type": "code",
   "execution_count": null,
   "metadata": {},
   "outputs": [],
   "source": []
  }
 ],
 "metadata": {
  "kernelspec": {
   "display_name": "Python [conda env:data27]",
   "language": "python",
   "name": "conda-env-data27-py"
  },
  "language_info": {
   "codemirror_mode": {
    "name": "ipython",
    "version": 2
   },
   "file_extension": ".py",
   "mimetype": "text/x-python",
   "name": "python",
   "nbconvert_exporter": "python",
   "pygments_lexer": "ipython2",
   "version": "2.7.12"
  }
 },
 "nbformat": 4,
 "nbformat_minor": 1
}
