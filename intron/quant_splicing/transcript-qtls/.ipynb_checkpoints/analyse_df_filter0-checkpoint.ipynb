{
 "cells": [
  {
   "cell_type": "code",
   "execution_count": null,
   "metadata": {},
   "outputs": [],
   "source": [
    "from __future__ import division\n",
    "import bokeh as bk\n",
    "%matplotlib inline\n",
    "import matplotlib\n",
    "matplotlib.style.use('ggplot')\n",
    "import pandas as pd\n",
    "import msgpack\n",
    "import toolz\n",
    "import scipy.stats as st\n",
    "import matplotlib.pylab as plt\n",
    "import numpy as np\n",
    "from multiprocessing import Pool\n",
    "from tqdm import tqdm\n",
    "import blosc\n",
    "import cPickle as pkl\n",
    "import random"
   ]
  },
  {
   "cell_type": "code",
   "execution_count": null,
   "metadata": {},
   "outputs": [],
   "source": [
    "def get_genes():\n",
    "    with open('genes.msg', 'rb') as f:\n",
    "        return set(msgpack.unpackb(f.read()))\n",
    "\n",
    "def get_gene_map_intron():\n",
    "    with open('gene_map_intron.msg', 'rb') as f:\n",
    "        return dict(msgpack.unpackb(f.read()))\n",
    "\n",
    "def nice_df(df):\n",
    "    df['nsuc'] = df['nread0']\n",
    "    df['ntri'] = df['nread0'] + df['nread1']\n",
    "    del df['nread0']\n",
    "    del df['nread1']\n",
    "    return df\n",
    "\n",
    "def load_entire_file():\n",
    "    with open('intron_events_filter0.pkl.blp', 'rb') as f:\n",
    "        return pkl.loads(blosc.decompress(f.read()))\n",
    "\n",
    "def plot_frequencies(df, title):\n",
    "    def get_extremes(x):\n",
    "        x = np.asarray(x).ravel()\n",
    "        x = x[~np.isnan(x)]\n",
    "\n",
    "        return np.min(x), np.percentile(x, 99.5), np.max(x)\n",
    "\n",
    "\n",
    "    \n",
    "    f, ((ax00, ax01), (ax10, ax11)) = plt.subplots(2, 2, facecolor='w',\n",
    "                                                  sharex='col', sharey='row',\n",
    "                                                  figsize=(10,5))\n",
    "#     data = df.groupby(['intron', 'ntri']).size().unstack(level=0)\n",
    "    data = df.groupby('ntri').size()\n",
    "\n",
    "    ax00 = data.plot(ax=ax00, legend=False, title=None)\n",
    "    ax01 = data.plot(ax=ax01, legend=False, title=None)\n",
    "\n",
    "    ax10 = data.plot(ax=ax10, legend=False, title=None)\n",
    "    ax11 = data.plot(ax=ax11, legend=False, title=None)\n",
    "\n",
    "    x0, x1, x2 = get_extremes(df['ntri'])\n",
    "    y0, y1, y2 = get_extremes(data)\n",
    "\n",
    "    ax00.set_ylim(y1, y2)\n",
    "    ax00.set_xlim(x0, x1)\n",
    "\n",
    "    ax01.set_ylim(y1, y2)\n",
    "    ax01.set_xlim(x1, x2)\n",
    "\n",
    "    ax10.set_ylim(y0, y1)\n",
    "    ax10.set_xlim(x0, x1)\n",
    "\n",
    "    ax11.set_ylim(y0, y1)\n",
    "    ax11.set_xlim(x1, x2)\n",
    "\n",
    "    ax00.set_ylabel('Frequency');\n",
    "    ax10.set_ylabel('Frequency');\n",
    "\n",
    "    return f.suptitle(title, fontsize=16)"
   ]
  },
  {
   "cell_type": "code",
   "execution_count": null,
   "metadata": {},
   "outputs": [],
   "source": [
    "genes = get_genes()\n",
    "gene_map_intron = get_gene_map_intron()\n",
    "gi = gene_map_intron\n",
    "gene_intron = [(k, v) for k in gi.keys() for v in gi[k]]\n",
    "df = load_entire_file()"
   ]
  },
  {
   "cell_type": "code",
   "execution_count": null,
   "metadata": {},
   "outputs": [],
   "source": [
    "while True:\n",
    "    gi0 = list(random.sample(gene_intron, 1)[0])\n",
    "    try:\n",
    "        df0 = df.loc[gi0,['ntri']]\n",
    "    except KeyError:\n",
    "        continue\n",
    "    plot_frequencies(df0, '%s/%d' % tuple(gi0))"
   ]
  }
 ],
 "metadata": {
  "kernelspec": {
   "display_name": "Python [conda env:new27]",
   "language": "python",
   "name": "conda-env-new27-py"
  },
  "language_info": {
   "codemirror_mode": {
    "name": "ipython",
    "version": 2
   },
   "file_extension": ".py",
   "mimetype": "text/x-python",
   "name": "python",
   "nbconvert_exporter": "python",
   "pygments_lexer": "ipython2",
   "version": "2.7.12"
  }
 },
 "nbformat": 4,
 "nbformat_minor": 1
}
