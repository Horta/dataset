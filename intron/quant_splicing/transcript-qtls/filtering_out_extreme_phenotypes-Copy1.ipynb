{
 "cells": [
  {
   "cell_type": "code",
   "execution_count": 1,
   "metadata": {},
   "outputs": [],
   "source": [
    "from __future__ import division\n",
    "import bokeh as bk\n",
    "%matplotlib inline\n",
    "import matplotlib\n",
    "matplotlib.style.use('ggplot')\n",
    "import pandas as pd\n",
    "import msgpack\n",
    "import toolz\n",
    "import scipy.stats as st\n",
    "import matplotlib.pylab as plt\n",
    "import numpy as np\n",
    "from multiprocessing import Pool\n",
    "from tqdm import tqdm\n",
    "import blosc\n",
    "import cPickle as pkl"
   ]
  },
  {
   "cell_type": "code",
   "execution_count": 2,
   "metadata": {},
   "outputs": [],
   "source": [
    "def get_genes():\n",
    "    with open('genes.msg', 'rb') as f:\n",
    "        return set(msgpack.unpackb(f.read()))\n",
    "\n",
    "def get_gene_map_intron():\n",
    "    with open('gene_map_intron.msg', 'rb') as f:\n",
    "        return dict(msgpack.unpackb(f.read()))\n",
    "\n",
    "def read_gene(gene):\n",
    "    df = pd.read_hdf('intron_events.h5', 'df', where=\"(gene == '%s')\" % (gene,))\n",
    "    df['nsuc'] = df['nread0']\n",
    "    df['ntri'] = df['nread0'] + df['nread1']\n",
    "    del df['nread0']\n",
    "    del df['nread1']\n",
    "    df = df.reset_index()\n",
    "    del df['gene']\n",
    "    del df['assay']\n",
    "    df.name = gene\n",
    "    return df\n",
    "\n",
    "def read_gene_intron(gene_intron):\n",
    "    gene, intron = gene_intron\n",
    "    df = pd.read_hdf('intron_events.h5', 'df',\n",
    "                     where=\"(gene == '%s') & (intron == %d)\" % (gene, intron))\n",
    "    df['nsuc'] = df['nread0']\n",
    "    df['ntri'] = df['nread0'] + df['nread1']\n",
    "    del df['nread0']\n",
    "    del df['nread1']\n",
    "    df = df.reset_index()\n",
    "    del df['gene']\n",
    "    del df['assay']\n",
    "    df.name = gene\n",
    "    return df\n",
    "\n",
    "def load_entire_file():\n",
    "    with open('intron_events.pkl.blp', 'rb') as f:\n",
    "        return pkl.loads(blosc.decompress(f.read()))\n",
    "\n",
    "def save_pickle():\n",
    "    with open('intron_events.pkl.blp', 'wb') as f:\n",
    "        f.write(blosc.compress(pkl.dumps(df, -1)))"
   ]
  },
  {
   "cell_type": "code",
   "execution_count": 3,
   "metadata": {},
   "outputs": [
    {
     "name": "stdout",
     "output_type": "stream",
     "text": [
      "CPU times: user 267 ms, sys: 79 ms, total: 346 ms\n",
      "Wall time: 357 ms\n"
     ]
    }
   ],
   "source": [
    "%%time\n",
    "genes = get_genes()\n",
    "gene_map_intron = get_gene_map_intron()"
   ]
  },
  {
   "cell_type": "markdown",
   "metadata": {},
   "source": [
    "Get all pair of gene-intron in a generator."
   ]
  },
  {
   "cell_type": "code",
   "execution_count": 4,
   "metadata": {},
   "outputs": [
    {
     "name": "stdout",
     "output_type": "stream",
     "text": [
      "CPU times: user 286 µs, sys: 0 ns, total: 286 µs\n",
      "Wall time: 372 µs\n"
     ]
    }
   ],
   "source": [
    "%%time\n",
    "gi = gene_map_intron\n",
    "gene_intron = ((k, v) for k in gi.keys() for v in gi[k])"
   ]
  },
  {
   "cell_type": "code",
   "execution_count": 5,
   "metadata": {},
   "outputs": [
    {
     "name": "stdout",
     "output_type": "stream",
     "text": [
      "CPU times: user 1.22 s, sys: 952 ms, total: 2.17 s\n",
      "Wall time: 1.47 s\n"
     ]
    }
   ],
   "source": [
    "%%time\n",
    "df = load_entire_file()"
   ]
  },
  {
   "cell_type": "code",
   "execution_count": 13,
   "metadata": {},
   "outputs": [],
   "source": []
  },
  {
   "cell_type": "code",
   "execution_count": 14,
   "metadata": {},
   "outputs": [],
   "source": []
  },
  {
   "cell_type": "code",
   "execution_count": 15,
   "metadata": {},
   "outputs": [
    {
     "data": {
      "text/html": [
       "<div>\n",
       "<table border=\"1\" class=\"dataframe\">\n",
       "  <thead>\n",
       "    <tr style=\"text-align: right;\">\n",
       "      <th></th>\n",
       "      <th></th>\n",
       "      <th>assay</th>\n",
       "      <th>nread0</th>\n",
       "      <th>nread1</th>\n",
       "    </tr>\n",
       "    <tr>\n",
       "      <th>gene</th>\n",
       "      <th>intron</th>\n",
       "      <th></th>\n",
       "      <th></th>\n",
       "      <th></th>\n",
       "    </tr>\n",
       "  </thead>\n",
       "  <tbody>\n",
       "    <tr>\n",
       "      <th rowspan=\"5\" valign=\"top\">ENSG00000000003</th>\n",
       "      <th>1</th>\n",
       "      <td>HG00096.1.M_111124_6</td>\n",
       "      <td>0</td>\n",
       "      <td>2</td>\n",
       "    </tr>\n",
       "    <tr>\n",
       "      <th>1</th>\n",
       "      <td>HG00097.7.M_120219_2</td>\n",
       "      <td>0</td>\n",
       "      <td>2</td>\n",
       "    </tr>\n",
       "    <tr>\n",
       "      <th>1</th>\n",
       "      <td>HG00099.1.M_120209_6</td>\n",
       "      <td>0</td>\n",
       "      <td>0</td>\n",
       "    </tr>\n",
       "    <tr>\n",
       "      <th>1</th>\n",
       "      <td>HG00099.5.M_120131_3</td>\n",
       "      <td>0</td>\n",
       "      <td>2</td>\n",
       "    </tr>\n",
       "    <tr>\n",
       "      <th>1</th>\n",
       "      <td>HG00100.2.M_111215_8</td>\n",
       "      <td>0</td>\n",
       "      <td>0</td>\n",
       "    </tr>\n",
       "  </tbody>\n",
       "</table>\n",
       "</div>"
      ],
      "text/plain": [
       "                                       assay  nread0  nread1\n",
       "gene            intron                                      \n",
       "ENSG00000000003 1       HG00096.1.M_111124_6       0       2\n",
       "                1       HG00097.7.M_120219_2       0       2\n",
       "                1       HG00099.1.M_120209_6       0       0\n",
       "                1       HG00099.5.M_120131_3       0       2\n",
       "                1       HG00100.2.M_111215_8       0       0"
      ]
     },
     "execution_count": 15,
     "metadata": {},
     "output_type": "execute_result"
    }
   ],
   "source": [
    "df.head()"
   ]
  },
  {
   "cell_type": "markdown",
   "metadata": {},
   "source": [
    "Load the entire DataFrame into memory"
   ]
  },
  {
   "cell_type": "code",
   "execution_count": 10,
   "metadata": {},
   "outputs": [
    {
     "ename": "error",
     "evalue": "Error 211049427 : not a Blosc buffer or header info is corrupted",
     "output_type": "error",
     "traceback": [
      "\u001b[0;31m---------------------------------------------------------------------------\u001b[0m",
      "\u001b[0;31merror\u001b[0m                                     Traceback (most recent call last)",
      "\u001b[0;32m<ipython-input-10-c63a989ecfb0>\u001b[0m in \u001b[0;36m<module>\u001b[0;34m()\u001b[0m\n\u001b[0;32m----> 1\u001b[0;31m \u001b[0mget_ipython\u001b[0m\u001b[0;34m(\u001b[0m\u001b[0;34m)\u001b[0m\u001b[0;34m.\u001b[0m\u001b[0mrun_cell_magic\u001b[0m\u001b[0;34m(\u001b[0m\u001b[0;34mu'time'\u001b[0m\u001b[0;34m,\u001b[0m \u001b[0;34mu''\u001b[0m\u001b[0;34m,\u001b[0m \u001b[0;34mu'df = load_entire_file()'\u001b[0m\u001b[0;34m)\u001b[0m\u001b[0;34m\u001b[0m\u001b[0m\n\u001b[0m",
      "\u001b[0;32m/nfs/software/stegle/users/horta/conda-envs/new27/lib/python2.7/site-packages/IPython/core/interactiveshell.pyc\u001b[0m in \u001b[0;36mrun_cell_magic\u001b[0;34m(self, magic_name, line, cell)\u001b[0m\n\u001b[1;32m   2113\u001b[0m             \u001b[0mmagic_arg_s\u001b[0m \u001b[0;34m=\u001b[0m \u001b[0mself\u001b[0m\u001b[0;34m.\u001b[0m\u001b[0mvar_expand\u001b[0m\u001b[0;34m(\u001b[0m\u001b[0mline\u001b[0m\u001b[0;34m,\u001b[0m \u001b[0mstack_depth\u001b[0m\u001b[0;34m)\u001b[0m\u001b[0;34m\u001b[0m\u001b[0m\n\u001b[1;32m   2114\u001b[0m             \u001b[0;32mwith\u001b[0m \u001b[0mself\u001b[0m\u001b[0;34m.\u001b[0m\u001b[0mbuiltin_trap\u001b[0m\u001b[0;34m:\u001b[0m\u001b[0;34m\u001b[0m\u001b[0m\n\u001b[0;32m-> 2115\u001b[0;31m                 \u001b[0mresult\u001b[0m \u001b[0;34m=\u001b[0m \u001b[0mfn\u001b[0m\u001b[0;34m(\u001b[0m\u001b[0mmagic_arg_s\u001b[0m\u001b[0;34m,\u001b[0m \u001b[0mcell\u001b[0m\u001b[0;34m)\u001b[0m\u001b[0;34m\u001b[0m\u001b[0m\n\u001b[0m\u001b[1;32m   2116\u001b[0m             \u001b[0;32mreturn\u001b[0m \u001b[0mresult\u001b[0m\u001b[0;34m\u001b[0m\u001b[0m\n\u001b[1;32m   2117\u001b[0m \u001b[0;34m\u001b[0m\u001b[0m\n",
      "\u001b[0;32m<decorator-gen-59>\u001b[0m in \u001b[0;36mtime\u001b[0;34m(self, line, cell, local_ns)\u001b[0m\n",
      "\u001b[0;32m/nfs/software/stegle/users/horta/conda-envs/new27/lib/python2.7/site-packages/IPython/core/magic.pyc\u001b[0m in \u001b[0;36m<lambda>\u001b[0;34m(f, *a, **k)\u001b[0m\n\u001b[1;32m    186\u001b[0m     \u001b[0;31m# but it's overkill for just that one bit of state.\u001b[0m\u001b[0;34m\u001b[0m\u001b[0;34m\u001b[0m\u001b[0m\n\u001b[1;32m    187\u001b[0m     \u001b[0;32mdef\u001b[0m \u001b[0mmagic_deco\u001b[0m\u001b[0;34m(\u001b[0m\u001b[0marg\u001b[0m\u001b[0;34m)\u001b[0m\u001b[0;34m:\u001b[0m\u001b[0;34m\u001b[0m\u001b[0m\n\u001b[0;32m--> 188\u001b[0;31m         \u001b[0mcall\u001b[0m \u001b[0;34m=\u001b[0m \u001b[0;32mlambda\u001b[0m \u001b[0mf\u001b[0m\u001b[0;34m,\u001b[0m \u001b[0;34m*\u001b[0m\u001b[0ma\u001b[0m\u001b[0;34m,\u001b[0m \u001b[0;34m**\u001b[0m\u001b[0mk\u001b[0m\u001b[0;34m:\u001b[0m \u001b[0mf\u001b[0m\u001b[0;34m(\u001b[0m\u001b[0;34m*\u001b[0m\u001b[0ma\u001b[0m\u001b[0;34m,\u001b[0m \u001b[0;34m**\u001b[0m\u001b[0mk\u001b[0m\u001b[0;34m)\u001b[0m\u001b[0;34m\u001b[0m\u001b[0m\n\u001b[0m\u001b[1;32m    189\u001b[0m \u001b[0;34m\u001b[0m\u001b[0m\n\u001b[1;32m    190\u001b[0m         \u001b[0;32mif\u001b[0m \u001b[0mcallable\u001b[0m\u001b[0;34m(\u001b[0m\u001b[0marg\u001b[0m\u001b[0;34m)\u001b[0m\u001b[0;34m:\u001b[0m\u001b[0;34m\u001b[0m\u001b[0m\n",
      "\u001b[0;32m/nfs/software/stegle/users/horta/conda-envs/new27/lib/python2.7/site-packages/IPython/core/magics/execution.pyc\u001b[0m in \u001b[0;36mtime\u001b[0;34m(self, line, cell, local_ns)\u001b[0m\n\u001b[1;32m   1178\u001b[0m         \u001b[0;32melse\u001b[0m\u001b[0;34m:\u001b[0m\u001b[0;34m\u001b[0m\u001b[0m\n\u001b[1;32m   1179\u001b[0m             \u001b[0mst\u001b[0m \u001b[0;34m=\u001b[0m \u001b[0mclock2\u001b[0m\u001b[0;34m(\u001b[0m\u001b[0;34m)\u001b[0m\u001b[0;34m\u001b[0m\u001b[0m\n\u001b[0;32m-> 1180\u001b[0;31m             \u001b[0;32mexec\u001b[0m\u001b[0;34m(\u001b[0m\u001b[0mcode\u001b[0m\u001b[0;34m,\u001b[0m \u001b[0mglob\u001b[0m\u001b[0;34m,\u001b[0m \u001b[0mlocal_ns\u001b[0m\u001b[0;34m)\u001b[0m\u001b[0;34m\u001b[0m\u001b[0m\n\u001b[0m\u001b[1;32m   1181\u001b[0m             \u001b[0mend\u001b[0m \u001b[0;34m=\u001b[0m \u001b[0mclock2\u001b[0m\u001b[0;34m(\u001b[0m\u001b[0;34m)\u001b[0m\u001b[0;34m\u001b[0m\u001b[0m\n\u001b[1;32m   1182\u001b[0m             \u001b[0mout\u001b[0m \u001b[0;34m=\u001b[0m \u001b[0mNone\u001b[0m\u001b[0;34m\u001b[0m\u001b[0m\n",
      "\u001b[0;32m<timed exec>\u001b[0m in \u001b[0;36m<module>\u001b[0;34m()\u001b[0m\n",
      "\u001b[0;32m<ipython-input-6-4e109662d51d>\u001b[0m in \u001b[0;36mload_entire_file\u001b[0;34m()\u001b[0m\n\u001b[1;32m     39\u001b[0m     \u001b[0;32mwith\u001b[0m \u001b[0mopen\u001b[0m\u001b[0;34m(\u001b[0m\u001b[0;34m'intron_events.pkl.blp'\u001b[0m\u001b[0;34m,\u001b[0m \u001b[0;34m'rb'\u001b[0m\u001b[0;34m)\u001b[0m \u001b[0;32mas\u001b[0m \u001b[0mf\u001b[0m\u001b[0;34m:\u001b[0m\u001b[0;34m\u001b[0m\u001b[0m\n\u001b[1;32m     40\u001b[0m         \u001b[0mmsg\u001b[0m \u001b[0;34m=\u001b[0m \u001b[0mf\u001b[0m\u001b[0;34m.\u001b[0m\u001b[0mread\u001b[0m\u001b[0;34m(\u001b[0m\u001b[0;34m)\u001b[0m\u001b[0;34m\u001b[0m\u001b[0m\n\u001b[0;32m---> 41\u001b[0;31m     \u001b[0;32mreturn\u001b[0m \u001b[0mpkl\u001b[0m\u001b[0;34m.\u001b[0m\u001b[0mloads\u001b[0m\u001b[0;34m(\u001b[0m\u001b[0mblosc\u001b[0m\u001b[0;34m.\u001b[0m\u001b[0mdecompress\u001b[0m\u001b[0;34m(\u001b[0m\u001b[0mmsg\u001b[0m\u001b[0;34m)\u001b[0m\u001b[0;34m)\u001b[0m\u001b[0;34m\u001b[0m\u001b[0m\n\u001b[0m\u001b[1;32m     42\u001b[0m \u001b[0;34m\u001b[0m\u001b[0m\n",
      "\u001b[0;32m/nfs/software/stegle/users/horta/conda-envs/new27/lib/python2.7/site-packages/blosc-1.4.4-py2.7-linux-x86_64.egg/blosc/toplevel.pyc\u001b[0m in \u001b[0;36mdecompress\u001b[0;34m(bytesobj, as_bytearray)\u001b[0m\n\u001b[1;32m    506\u001b[0m     \"\"\"\n\u001b[1;32m    507\u001b[0m \u001b[0;34m\u001b[0m\u001b[0m\n\u001b[0;32m--> 508\u001b[0;31m     \u001b[0;32mreturn\u001b[0m \u001b[0m_ext\u001b[0m\u001b[0;34m.\u001b[0m\u001b[0mdecompress\u001b[0m\u001b[0;34m(\u001b[0m\u001b[0mbytesobj\u001b[0m\u001b[0;34m,\u001b[0m \u001b[0mas_bytearray\u001b[0m\u001b[0;34m)\u001b[0m\u001b[0;34m\u001b[0m\u001b[0m\n\u001b[0m\u001b[1;32m    509\u001b[0m \u001b[0;34m\u001b[0m\u001b[0m\n\u001b[1;32m    510\u001b[0m \u001b[0;34m\u001b[0m\u001b[0m\n",
      "\u001b[0;31merror\u001b[0m: Error 211049427 : not a Blosc buffer or header info is corrupted"
     ]
    }
   ],
   "source": [
    "%%time\n",
    "df = load_entire_file()"
   ]
  },
  {
   "cell_type": "code",
   "execution_count": null,
   "metadata": {},
   "outputs": [],
   "source": [
    "blosc.compress"
   ]
  },
  {
   "cell_type": "code",
   "execution_count": 8,
   "metadata": {},
   "outputs": [],
   "source": [
    "gene0 = toolz.first(genes)"
   ]
  },
  {
   "cell_type": "code",
   "execution_count": 14,
   "metadata": {},
   "outputs": [
    {
     "name": "stdout",
     "output_type": "stream",
     "text": [
      "CPU times: user 877 ms, sys: 1.71 s, total: 2.58 s\n",
      "Wall time: 2.58 s\n"
     ]
    }
   ],
   "source": [
    "%%time\n",
    "dfv = df.loc[gene0]"
   ]
  },
  {
   "cell_type": "code",
   "execution_count": 22,
   "metadata": {},
   "outputs": [
    {
     "name": "stdout",
     "output_type": "stream",
     "text": [
      "CPU times: user 2.13 s, sys: 2.53 s, total: 4.66 s\n",
      "Wall time: 4.66 s\n"
     ]
    }
   ],
   "source": [
    "%%time\n",
    "dfv = df.loc[gene0, 30]"
   ]
  },
  {
   "cell_type": "code",
   "execution_count": 23,
   "metadata": {},
   "outputs": [
    {
     "data": {
      "text/html": [
       "<div>\n",
       "<table border=\"1\" class=\"dataframe\">\n",
       "  <thead>\n",
       "    <tr style=\"text-align: right;\">\n",
       "      <th></th>\n",
       "      <th></th>\n",
       "      <th>assay</th>\n",
       "      <th>nread0</th>\n",
       "      <th>nread1</th>\n",
       "    </tr>\n",
       "    <tr>\n",
       "      <th>gene</th>\n",
       "      <th>intron</th>\n",
       "      <th></th>\n",
       "      <th></th>\n",
       "      <th></th>\n",
       "    </tr>\n",
       "  </thead>\n",
       "  <tbody>\n",
       "    <tr>\n",
       "      <th rowspan=\"5\" valign=\"top\">ENSG00000110514</th>\n",
       "      <th>30</th>\n",
       "      <td>HG00096.1.M_111124_6</td>\n",
       "      <td>6</td>\n",
       "      <td>107</td>\n",
       "    </tr>\n",
       "    <tr>\n",
       "      <th>30</th>\n",
       "      <td>HG00097.7.M_120219_2</td>\n",
       "      <td>8</td>\n",
       "      <td>188</td>\n",
       "    </tr>\n",
       "    <tr>\n",
       "      <th>30</th>\n",
       "      <td>HG00099.1.M_120209_6</td>\n",
       "      <td>3</td>\n",
       "      <td>142</td>\n",
       "    </tr>\n",
       "    <tr>\n",
       "      <th>30</th>\n",
       "      <td>HG00099.5.M_120131_3</td>\n",
       "      <td>0</td>\n",
       "      <td>141</td>\n",
       "    </tr>\n",
       "    <tr>\n",
       "      <th>30</th>\n",
       "      <td>HG00100.2.M_111215_8</td>\n",
       "      <td>4</td>\n",
       "      <td>118</td>\n",
       "    </tr>\n",
       "  </tbody>\n",
       "</table>\n",
       "</div>"
      ],
      "text/plain": [
       "                                       assay  nread0  nread1\n",
       "gene            intron                                      \n",
       "ENSG00000110514 30      HG00096.1.M_111124_6       6     107\n",
       "                30      HG00097.7.M_120219_2       8     188\n",
       "                30      HG00099.1.M_120209_6       3     142\n",
       "                30      HG00099.5.M_120131_3       0     141\n",
       "                30      HG00100.2.M_111215_8       4     118"
      ]
     },
     "execution_count": 23,
     "metadata": {},
     "output_type": "execute_result"
    }
   ],
   "source": [
    "dfv.head()"
   ]
  },
  {
   "cell_type": "code",
   "execution_count": null,
   "metadata": {},
   "outputs": [],
   "source": []
  },
  {
   "cell_type": "code",
   "execution_count": null,
   "metadata": {},
   "outputs": [],
   "source": []
  },
  {
   "cell_type": "markdown",
   "metadata": {},
   "source": [
    "Acceptance criterion"
   ]
  },
  {
   "cell_type": "code",
   "execution_count": 6,
   "metadata": {},
   "outputs": [],
   "source": [
    "def accept(df):\n",
    "    return np.percentile(df['ntri'].values, 90) < 1000"
   ]
  },
  {
   "cell_type": "code",
   "execution_count": 56,
   "metadata": {},
   "outputs": [
    {
     "ename": "IndexError",
     "evalue": "cannot do a non-empty take from an empty axes.",
     "output_type": "error",
     "traceback": [
      "\u001b[0;31m---------------------------------------------------------------------------\u001b[0m",
      "\u001b[0;31mIndexError\u001b[0m                                Traceback (most recent call last)",
      "\u001b[0;32m<ipython-input-56-691f7ec4a1e2>\u001b[0m in \u001b[0;36m<module>\u001b[0;34m()\u001b[0m\n\u001b[1;32m      1\u001b[0m \u001b[0mp\u001b[0m \u001b[0;34m=\u001b[0m \u001b[0mPool\u001b[0m\u001b[0;34m(\u001b[0m\u001b[0;36m20\u001b[0m\u001b[0;34m)\u001b[0m\u001b[0;34m\u001b[0m\u001b[0m\n\u001b[0;32m----> 2\u001b[0;31m \u001b[0mok\u001b[0m \u001b[0;34m=\u001b[0m \u001b[0mp\u001b[0m\u001b[0;34m.\u001b[0m\u001b[0mmap\u001b[0m\u001b[0;34m(\u001b[0m\u001b[0mtoolz\u001b[0m\u001b[0;34m.\u001b[0m\u001b[0mcompose\u001b[0m\u001b[0;34m(\u001b[0m\u001b[0maccept\u001b[0m\u001b[0;34m,\u001b[0m \u001b[0mread_gene_intron\u001b[0m\u001b[0;34m)\u001b[0m\u001b[0;34m,\u001b[0m \u001b[0mgene_intron\u001b[0m\u001b[0;34m)\u001b[0m\u001b[0;34m\u001b[0m\u001b[0m\n\u001b[0m",
      "\u001b[0;32m/nfs/software/stegle/users/horta/conda-envs/data27/lib/python2.7/multiprocessing/pool.pyc\u001b[0m in \u001b[0;36mmap\u001b[0;34m(self, func, iterable, chunksize)\u001b[0m\n\u001b[1;32m    249\u001b[0m         '''\n\u001b[1;32m    250\u001b[0m         \u001b[0;32massert\u001b[0m \u001b[0mself\u001b[0m\u001b[0;34m.\u001b[0m\u001b[0m_state\u001b[0m \u001b[0;34m==\u001b[0m \u001b[0mRUN\u001b[0m\u001b[0;34m\u001b[0m\u001b[0m\n\u001b[0;32m--> 251\u001b[0;31m         \u001b[0;32mreturn\u001b[0m \u001b[0mself\u001b[0m\u001b[0;34m.\u001b[0m\u001b[0mmap_async\u001b[0m\u001b[0;34m(\u001b[0m\u001b[0mfunc\u001b[0m\u001b[0;34m,\u001b[0m \u001b[0miterable\u001b[0m\u001b[0;34m,\u001b[0m \u001b[0mchunksize\u001b[0m\u001b[0;34m)\u001b[0m\u001b[0;34m.\u001b[0m\u001b[0mget\u001b[0m\u001b[0;34m(\u001b[0m\u001b[0;34m)\u001b[0m\u001b[0;34m\u001b[0m\u001b[0m\n\u001b[0m\u001b[1;32m    252\u001b[0m \u001b[0;34m\u001b[0m\u001b[0m\n\u001b[1;32m    253\u001b[0m     \u001b[0;32mdef\u001b[0m \u001b[0mimap\u001b[0m\u001b[0;34m(\u001b[0m\u001b[0mself\u001b[0m\u001b[0;34m,\u001b[0m \u001b[0mfunc\u001b[0m\u001b[0;34m,\u001b[0m \u001b[0miterable\u001b[0m\u001b[0;34m,\u001b[0m \u001b[0mchunksize\u001b[0m\u001b[0;34m=\u001b[0m\u001b[0;36m1\u001b[0m\u001b[0;34m)\u001b[0m\u001b[0;34m:\u001b[0m\u001b[0;34m\u001b[0m\u001b[0m\n",
      "\u001b[0;32m/nfs/software/stegle/users/horta/conda-envs/data27/lib/python2.7/multiprocessing/pool.pyc\u001b[0m in \u001b[0;36mget\u001b[0;34m(self, timeout)\u001b[0m\n\u001b[1;32m    565\u001b[0m             \u001b[0;32mreturn\u001b[0m \u001b[0mself\u001b[0m\u001b[0;34m.\u001b[0m\u001b[0m_value\u001b[0m\u001b[0;34m\u001b[0m\u001b[0m\n\u001b[1;32m    566\u001b[0m         \u001b[0;32melse\u001b[0m\u001b[0;34m:\u001b[0m\u001b[0;34m\u001b[0m\u001b[0m\n\u001b[0;32m--> 567\u001b[0;31m             \u001b[0;32mraise\u001b[0m \u001b[0mself\u001b[0m\u001b[0;34m.\u001b[0m\u001b[0m_value\u001b[0m\u001b[0;34m\u001b[0m\u001b[0m\n\u001b[0m\u001b[1;32m    568\u001b[0m \u001b[0;34m\u001b[0m\u001b[0m\n\u001b[1;32m    569\u001b[0m     \u001b[0;32mdef\u001b[0m \u001b[0m_set\u001b[0m\u001b[0;34m(\u001b[0m\u001b[0mself\u001b[0m\u001b[0;34m,\u001b[0m \u001b[0mi\u001b[0m\u001b[0;34m,\u001b[0m \u001b[0mobj\u001b[0m\u001b[0;34m)\u001b[0m\u001b[0;34m:\u001b[0m\u001b[0;34m\u001b[0m\u001b[0m\n",
      "\u001b[0;31mIndexError\u001b[0m: cannot do a non-empty take from an empty axes."
     ]
    }
   ],
   "source": [
    "p = Pool(20)\n",
    "ok = p.map(toolz.compose(accept, read_gene_intron), gene_intron)"
   ]
  },
  {
   "cell_type": "code",
   "execution_count": null,
   "metadata": {},
   "outputs": [],
   "source": []
  },
  {
   "cell_type": "code",
   "execution_count": 7,
   "metadata": {},
   "outputs": [],
   "source": [
    "def does_it_return(gene_intron):\n",
    "    try:\n",
    "        gene, intron = gene_intron\n",
    "        df = pd.read_hdf('intron_events.h5', 'df',\n",
    "                         where=\"(gene == '%s') & (intron == %d)\" % (gene, intron))\n",
    "        df['nsuc'] = df['nread0']\n",
    "        df['ntri'] = df['nread0'] + df['nread1']\n",
    "        del df['nread0']\n",
    "        del df['nread1']\n",
    "        df = df.reset_index()\n",
    "        del df['gene']\n",
    "        del df['assay']\n",
    "        df.name = gene\n",
    "    except:\n",
    "        return (gene, intron, False)\n",
    "    return (gene, intron, True)"
   ]
  },
  {
   "cell_type": "code",
   "execution_count": null,
   "metadata": {},
   "outputs": [
    {
     "name": "stderr",
     "output_type": "stream",
     "text": [
      "\r",
      "0it [00:00, ?it/s]\r",
      "9001it [01:00, 148.49it/s]\r",
      "29001it [02:00, 178.06it/s]\r",
      "48001it [03:00, 204.94it/s]\r",
      "68001it [04:02, 230.59it/s]\r",
      "88001it [05:06, 249.71it/s]\r",
      "109001it [06:07, 272.46it/s]\r",
      "128001it [07:12, 277.56it/s]\r",
      "149001it [08:17, 290.93it/s]\r",
      "169001it [09:19, 299.11it/s]\r",
      "189001it [10:21, 305.54it/s]\r",
      "210001it [11:25, 312.70it/s]\r",
      "230001it [12:29, 312.81it/s]\r",
      "250001it [13:30, 316.32it/s]\r",
      "271001it [14:30, 325.57it/s]\r",
      "290641it [15:31, 325.44it/s]\r",
      "310242it [16:35, 319.40it/s]\r",
      "331001it [17:36, 325.40it/s]\r",
      "352001it [18:36, 331.69it/s]\r",
      "374001it [19:36, 341.39it/s]\r",
      "395001it [20:39, 338.47it/s]\r",
      "415374it [21:41, 335.42it/s]\r",
      "436001it [22:45, 332.51it/s]\r",
      "457001it [23:49, 330.64it/s]\r",
      "478001it [25:00, 319.44it/s]\r",
      "500001it [26:02, 328.68it/s]\r",
      "519811it [27:11, 315.14it/s]\r",
      "539001it [28:12, 316.14it/s]\r",
      "562001it [29:12, 332.61it/s]\r",
      "582161it [30:15, 329.77it/s]\r",
      "604001it [31:15, 338.14it/s]\r",
      "624423it [32:17, 335.72it/s]\r",
      "644662it [33:19, 334.09it/s]\r",
      "666001it [34:21, 336.49it/s]\r",
      "686241it [35:23, 332.68it/s]\r",
      "706243it [36:26, 328.12it/s]\r",
      "726001it [37:30, 323.12it/s]\r",
      "746001it [38:34, 320.00it/s]\r",
      "768001it [39:39, 324.03it/s]\r",
      "788001it [40:40, 325.92it/s]\r",
      "810001it [41:40, 336.38it/s]\r",
      "830250it [42:45, 328.97it/s]\r",
      "852001it [43:48, 333.69it/s]\r",
      "873001it [44:49, 336.35it/s]\r",
      "893226it [45:50, 334.97it/s]\r",
      "913356it [46:55, 327.94it/s]\r",
      "933074it [47:57, 325.33it/s]\r",
      "953001it [48:57, 326.33it/s]\r",
      "975001it [49:58, 336.37it/s]\r",
      "995246it [51:02, 330.11it/s]\r",
      "1015112it [52:04, 327.50it/s]\r",
      "1036001it [53:09, 324.36it/s]\r",
      "1057001it [54:12, 327.14it/s]\r",
      "1077001it [55:13, 328.40it/s]\r",
      "1098001it [56:19, 325.06it/s]\r",
      "1118001it [57:20, 324.97it/s]\r",
      "1138001it [58:24, 322.14it/s]\r",
      "1159001it [59:25, 328.60it/s]\r",
      "1179001it [1:00:29, 322.68it/s]\r",
      "1200001it [1:01:30, 329.08it/s]\r",
      "1221001it [1:02:31, 334.08it/s]\r",
      "1243001it [1:03:32, 341.75it/s]\r",
      "1263561it [1:04:33, 339.49it/s]\r",
      "1283971it [1:05:33, 339.57it/s]\r",
      "1304374it [1:06:40, 328.16it/s]\r",
      "1324133it [1:07:42, 326.01it/s]\r",
      "1345001it [1:08:46, 325.83it/s]\r",
      "1365001it [1:09:47, 326.40it/s]\r",
      "1386001it [1:10:50, 328.55it/s]\r",
      "1407001it [1:11:53, 330.44it/s]\r",
      "1428001it [1:12:54, 334.13it/s]\r",
      "1448066it [1:14:00, 323.97it/s]\r",
      "1469001it [1:15:05, 323.24it/s]\r",
      "1492001it [1:16:07, 336.95it/s]\r",
      "1512335it [1:17:11, 331.37it/s]\r",
      "1534001it [1:18:15, 332.79it/s]\r",
      "1555001it [1:19:18, 333.26it/s]\r",
      "1576001it [1:20:18, 336.97it/s]\r",
      "1596258it [1:21:22, 331.47it/s]\r",
      "1616186it [1:22:23, 330.03it/s]\r",
      "1637001it [1:23:24, 333.62it/s]\r",
      "1659001it [1:24:25, 340.52it/s]\r",
      "1680001it [1:25:28, 339.04it/s]\r",
      "1700372it [1:26:34, 329.76it/s]\r",
      "1720211it [1:27:39, 320.54it/s]\r",
      "1742001it [1:28:49, 318.72it/s]\r",
      "1763001it [1:29:50, 326.30it/s]\r",
      "1787001it [1:30:53, 339.81it/s]\r",
      "1808001it [1:32:01, 329.98it/s]\r",
      "1830001it [1:33:04, 335.55it/s]\r",
      "1850238it [1:34:06, 333.14it/s]\r",
      "1870302it [1:35:06, 332.79it/s]\r",
      "1890322it [1:36:07, 331.42it/s]\r",
      "1910246it [1:37:13, 323.08it/s]\r",
      "1930001it [1:38:13, 324.66it/s]\r",
      "1951001it [1:39:13, 331.22it/s]\r",
      "1971001it [1:40:14, 330.73it/s]\r",
      "1991001it [1:41:14, 330.67it/s]\r",
      "2011001it [1:42:17, 327.36it/s]\r",
      "2032001it [1:43:23, 324.21it/s]\r",
      "2054001it [1:44:23, 335.45it/s]\r",
      "2074201it [1:45:24, 334.26it/s]\r",
      "2094308it [1:46:27, 330.99it/s]\r",
      "2114208it [1:47:31, 324.64it/s]\r",
      "2134001it [1:48:31, 325.75it/s]\r",
      "2154001it [1:49:37, 317.96it/s]\r",
      "2174001it [1:50:39, 319.52it/s]\r",
      "2195001it [1:51:40, 327.53it/s]\r",
      "2217001it [1:52:43, 333.73it/s]\r",
      "2238001it [1:53:45, 334.52it/s]\r",
      "2259001it [1:54:47, 335.07it/s]\r",
      "2280001it [1:55:58, 323.27it/s]\r",
      "2301001it [1:57:05, 320.34it/s]\r",
      "2321001it [1:58:08, 318.70it/s]\r",
      "2343001it [1:59:09, 331.00it/s]\r",
      "2364001it [2:00:12, 330.84it/s]\r",
      "2386001it [2:01:13, 338.80it/s]\r",
      "2407001it [2:02:18, 334.23it/s]\r",
      "2429001it [2:03:22, 338.19it/s]\r",
      "2451001it [2:04:25, 340.68it/s]\r",
      "2472001it [2:05:28, 339.11it/s]\r",
      "2492376it [2:06:29, 336.97it/s]\r",
      "2512616it [2:07:31, 332.86it/s]\r",
      "2532610it [2:08:35, 327.12it/s]\r",
      "2553001it [2:09:37, 327.25it/s]\r",
      "2573001it [2:10:43, 320.50it/s]\r",
      "2593001it [2:11:45, 321.22it/s]\r",
      "2615001it [2:12:51, 323.99it/s]\r",
      "2636001it [2:13:54, 327.62it/s]\r",
      "2658001it [2:14:55, 335.73it/s]\r",
      "2678189it [2:15:58, 332.14it/s]\r",
      "2698154it [2:17:00, 328.17it/s]\r",
      "2717876it [2:18:02, 326.09it/s]\r",
      "2737465it [2:19:03, 323.76it/s]\r",
      "2756910it [2:20:04, 322.24it/s]\r",
      "2778001it [2:21:06, 327.02it/s]\r",
      "2802001it [2:22:11, 339.68it/s]\r",
      "2822472it [2:23:13, 335.95it/s]\r",
      "2844001it [2:24:14, 340.54it/s]\r",
      "2864490it [2:25:19, 333.23it/s]\r",
      "2885001it [2:26:23, 329.60it/s]\r",
      "2904825it [2:27:24, 327.05it/s]\r",
      "2927001it [2:28:25, 337.57it/s]\r",
      "2947332it [2:29:28, 332.63it/s]\r",
      "2967354it [2:30:29, 331.93it/s]\r",
      "2987315it [2:31:31, 328.25it/s]\r",
      "3007047it [2:32:34, 324.74it/s]\r",
      "3027001it [2:33:34, 326.04it/s]\r",
      "3048001it [2:34:36, 330.71it/s]\r",
      "3069001it [2:35:39, 330.24it/s]\r",
      "3089001it [2:36:43, 324.89it/s]\r",
      "3109001it [2:37:45, 325.52it/s]\r",
      "3128550it [2:38:47, 322.39it/s]\r",
      "3149001it [2:39:47, 326.48it/s]\r",
      "3169001it [2:40:48, 327.95it/s]\r",
      "3190001it [2:41:54, 324.51it/s]\r",
      "3211001it [2:42:58, 325.45it/s]\r",
      "3232001it [2:44:01, 328.12it/s]\r",
      "3253001it [2:45:03, 330.98it/s]\r",
      "3273001it [2:46:03, 331.54it/s]\r",
      "3292902it [2:47:10, 321.21it/s]\r",
      "3313001it [2:48:10, 325.04it/s]\r",
      "3333001it [2:49:11, 325.86it/s]\r",
      "3353001it [2:50:11, 327.74it/s]\r",
      "3373001it [2:51:12, 328.01it/s]\r",
      "3394001it [2:52:13, 332.66it/s]\r",
      "3414001it [2:53:13, 332.31it/s]\r",
      "3435001it [2:54:15, 334.05it/s]\r",
      "3456001it [2:55:20, 331.34it/s]\r",
      "3476001it [2:56:21, 329.54it/s]\r",
      "3497001it [2:57:27, 325.63it/s]\r",
      "3519001it [2:58:31, 331.70it/s]\r",
      "3540001it [2:59:38, 325.68it/s]\r",
      "3561001it [3:00:45, 322.40it/s]\r",
      "3582001it [3:01:47, 326.36it/s]\r",
      "3604001it [3:02:51, 331.29it/s]\r",
      "3625001it [3:03:51, 336.48it/s]\r",
      "3645222it [3:04:57, 328.04it/s]\r",
      "3667001it [3:05:57, 337.69it/s]\r",
      "3687341it [3:07:03, 328.55it/s]\r",
      "3707142it [3:08:05, 325.32it/s]\r",
      "3727001it [3:09:08, 321.37it/s]\r",
      "3747001it [3:10:09, 324.63it/s]\r",
      "3769001it [3:11:14, 328.63it/s]\r",
      "3789001it [3:12:14, 328.63it/s]\r",
      "3808744it [3:13:15, 328.02it/s]\r",
      "3828443it [3:14:16, 326.17it/s]\r",
      "3848027it [3:15:18, 323.18it/s]\r",
      "3867432it [3:16:19, 321.88it/s]\r",
      "3887001it [3:17:23, 316.79it/s]\r",
      "3907001it [3:18:24, 320.58it/s]\r",
      "3929001it [3:19:27, 327.65it/s]\r",
      "3950001it [3:20:29, 330.78it/s]\r",
      "3970001it [3:21:31, 328.77it/s]\r",
      "3991001it [3:22:36, 326.30it/s]\r",
      "4011001it [3:23:38, 326.25it/s]\r",
      "4030589it [3:24:38, 325.99it/s]\r",
      "4050158it [3:25:39, 324.38it/s]\r",
      "4069629it [3:26:42, 319.39it/s]\r",
      "4089001it [3:27:44, 317.61it/s]\r",
      "4108070it [3:28:45, 315.56it/s]\r",
      "4127014it [3:29:46, 314.96it/s]\r",
      "4147001it [3:30:46, 320.06it/s]\r",
      "4167001it [3:31:48, 320.39it/s]\r",
      "4187001it [3:32:51, 319.60it/s]\r",
      "4207001it [3:33:52, 321.97it/s]\r",
      "4228001it [3:34:55, 325.66it/s]\r",
      "4250001it [3:35:58, 332.42it/s]\r",
      "4269976it [3:36:59, 329.88it/s]\r",
      "4289792it [3:38:00, 329.82it/s]\r",
      "4309598it [3:39:00, 328.79it/s]\r",
      "4329338it [3:40:05, 321.18it/s]\r",
      "4350001it [3:41:09, 322.23it/s]\r",
      "4369358it [3:42:09, 321.28it/s]\r",
      "4389001it [3:43:11, 320.93it/s]\r",
      "4410001it [3:44:11, 328.89it/s]\r",
      "4429772it [3:45:15, 321.82it/s]\r",
      "4449128it [3:46:16, 320.92it/s]\r",
      "4469001it [3:47:19, 318.59it/s]\r",
      "4489001it [3:48:20, 322.07it/s]\r",
      "4509001it [3:49:21, 324.43it/s]\r",
      "4530001it [3:50:25, 324.92it/s]\r",
      "4550001it [3:51:31, 318.76it/s]\r",
      "4570001it [3:52:31, 322.75it/s]\r",
      "4592001it [3:53:35, 328.77it/s]\r",
      "4612001it [3:54:38, 324.76it/s]\r",
      "4634001it [3:55:41, 332.31it/s]\r",
      "4653987it [3:56:41, 331.56it/s]\r",
      "4673914it [3:57:44, 326.92it/s]\r",
      "4695001it [3:58:47, 328.75it/s]\r",
      "4714750it [3:59:50, 325.15it/s]\r",
      "4735001it [4:00:50, 328.62it/s]\r",
      "4756001it [4:01:54, 327.51it/s]\r",
      "4776001it [4:02:55, 327.64it/s]\r",
      "4797001it [4:03:56, 333.71it/s]\r",
      "4818001it [4:04:57, 335.77it/s]\r",
      "4838166it [4:05:58, 335.02it/s]\r",
      "4858281it [4:07:05, 323.27it/s]\r",
      "4878001it [4:08:05, 324.69it/s]\r",
      "4899001it [4:09:07, 329.72it/s]\r",
      "4918827it [4:10:08, 327.58it/s]\r",
      "4939001it [4:11:14, 320.70it/s]\r",
      "4960001it [4:12:17, 324.01it/s]\r",
      "4980001it [4:13:17, 326.73it/s]\r",
      "5001001it [4:14:18, 333.03it/s]\r",
      "5021020it [4:15:20, 328.87it/s]\r",
      "5040785it [4:16:23, 324.83it/s]\r",
      "5060305it [4:17:26, 320.02it/s]\r",
      "5080001it [4:18:27, 320.71it/s]\r",
      "5103001it [4:19:35, 325.76it/s]\r",
      "5125001it [4:20:36, 335.45it/s]\r",
      "5146001it [4:21:37, 338.24it/s]\r",
      "5166342it [4:22:37, 337.87it/s]\r",
      "5186648it [4:23:42, 329.79it/s]\r",
      "5208001it [4:24:48, 327.92it/s]\r",
      "5229001it [4:25:55, 324.41it/s]\r",
      "5249001it [4:26:56, 325.08it/s]\r",
      "5269001it [4:27:56, 327.27it/s]\r",
      "5290001it [4:29:05, 319.79it/s]\r",
      "5311001it [4:30:06, 326.35it/s]\r",
      "5331001it [4:31:09, 323.96it/s]\r",
      "5351001it [4:32:12, 322.33it/s]\r",
      "5371001it [4:33:14, 321.72it/s]\r",
      "5393001it [4:34:16, 331.47it/s]\r",
      "5414001it [4:35:23, 325.30it/s]\r",
      "5434001it [4:36:32, 314.53it/s]\r",
      "5454001it [4:37:39, 309.31it/s]\r",
      "5472631it [4:38:40, 308.47it/s]\r",
      "5491190it [4:39:58, 282.72it/s]\r",
      "5508441it [4:41:21, 255.33it/s]\r",
      "5524265it [4:42:33, 243.86it/s]\r",
      "5543001it [4:43:48, 245.33it/s]\r",
      "5559001it [4:44:48, 251.17it/s]\r",
      "5574298it [4:45:52, 247.45it/s]\r",
      "5589311it [4:47:07, 231.59it/s]\r",
      "5605001it [4:48:08, 238.77it/s]\r",
      "5624001it [4:49:14, 251.39it/s]\r",
      "5643001it [4:50:16, 265.17it/s]\r",
      "5663001it [4:51:17, 281.42it/s]\r",
      "5685001it [4:52:19, 300.35it/s]\r",
      "5706001it [4:53:24, 307.38it/s]\r",
      "5727001it [4:54:25, 316.75it/s]\r",
      "5747001it [4:55:26, 320.77it/s]\r",
      "5766458it [4:56:27, 319.49it/s]\r",
      "5786001it [4:57:28, 320.98it/s]\r",
      "5807001it [4:58:29, 326.77it/s]\r",
      "5827001it [4:59:30, 327.56it/s]\r",
      "5847001it [5:00:37, 318.37it/s]\r",
      "5867001it [5:01:40, 318.08it/s]\r",
      "5887001it [5:02:41, 320.19it/s]\r",
      "5908001it [5:03:42, 326.67it/s]\r",
      "5928001it [5:04:43, 327.36it/s]\r",
      "5949001it [5:05:49, 324.90it/s]\r",
      "5969001it [5:06:53, 321.40it/s]\r",
      "5990001it [5:07:55, 325.69it/s]\r",
      "6011001it [5:08:55, 332.61it/s]\r",
      "6032001it [5:09:58, 333.59it/s]\r",
      "6053001it [5:10:59, 336.74it/s]\r",
      "6073229it [5:12:02, 331.84it/s]\r",
      "6093166it [5:13:03, 329.37it/s]\r",
      "6114001it [5:14:06, 330.37it/s]\r",
      "6134001it [5:15:09, 326.00it/s]\r",
      "6154001it [5:16:17, 316.29it/s]\r",
      "6173030it [5:17:19, 312.76it/s]\r",
      "6194001it [5:18:20, 322.46it/s]\r",
      "6215001it [5:19:24, 324.06it/s]\r",
      "6234498it [5:20:26, 320.99it/s]\r",
      "6253799it [5:21:28, 318.44it/s]\r",
      "6273001it [5:22:31, 313.30it/s]\r",
      "6293001it [5:23:34, 314.16it/s]\r",
      "6313001it [5:24:40, 311.26it/s]\r",
      "6333001it [5:25:47, 307.32it/s]\r",
      "6352001it [5:26:48, 308.37it/s]\r",
      "6372001it [5:28:02, 295.99it/s]\r",
      "6392001it [5:29:11, 294.50it/s]\r",
      "6412001it [5:30:13, 301.98it/s]\r",
      "6432001it [5:31:13, 310.45it/s]\r",
      "6453001it [5:32:18, 314.74it/s]\r",
      "6473001it [5:33:20, 316.40it/s]\r",
      "6493001it [5:34:25, 314.13it/s]\r",
      "6515001it [5:35:27, 325.42it/s]\r",
      "6534613it [5:36:28, 324.66it/s]\r",
      "6554154it [5:37:29, 322.93it/s]\r",
      "6574001it [5:38:33, 319.43it/s]\r",
      "6596001it [5:39:35, 329.32it/s]\r",
      "6617001it [5:40:42, 324.44it/s]\r",
      "6637001it [5:41:42, 327.02it/s]\r",
      "6657001it [5:42:42, 327.81it/s]\r",
      "6678001it [5:43:43, 332.44it/s]\r",
      "6699001it [5:44:46, 333.43it/s]\r",
      "6721001it [5:45:52, 332.60it/s]\r",
      "6741001it [5:46:59, 321.72it/s]\r",
      "6762001it [5:48:03, 324.53it/s]\r",
      "6783001it [5:49:07, 324.99it/s]\r",
      "6804001it [5:50:13, 323.59it/s]\r",
      "6825001it [5:51:15, 327.53it/s]\r",
      "6847001it [5:52:19, 331.78it/s]\r",
      "6868001it [5:53:25, 328.22it/s]\r",
      "6889001it [5:54:26, 332.42it/s]\r",
      "6911001it [5:55:30, 335.57it/s]\r",
      "6931156it [5:56:31, 334.67it/s]\r",
      "6951251it [5:57:33, 331.56it/s]\r",
      "6971160it [5:58:38, 323.86it/s]\r",
      "6992001it [5:59:45, 319.37it/s]\r",
      "7013001it [6:00:48, 323.19it/s]\r",
      "7034001it [6:01:53, 322.76it/s]\r",
      "7055001it [6:02:58, 323.06it/s]\r",
      "7077001it [6:04:03, 328.11it/s]\r",
      "7097001it [6:05:06, 325.34it/s]\r",
      "7118001it [6:06:07, 330.31it/s]\r",
      "7138001it [6:07:11, 325.18it/s]\r",
      "7159001it [6:08:14, 327.48it/s]\r",
      "7180001it [6:09:16, 329.55it/s]\r",
      "7201001it [6:10:33, 311.16it/s]\r",
      "7222001it [6:11:33, 320.87it/s]\r",
      "7244001it [6:12:40, 323.51it/s]\r",
      "7266001it [6:13:49, 322.83it/s]\r",
      "7288001it [6:14:56, 323.23it/s]\r",
      "7310001it [6:15:57, 334.21it/s]\r",
      "7330146it [6:16:59, 330.88it/s]\r",
      "7350069it [6:18:01, 329.36it/s]\r",
      "7370001it [6:19:05, 322.66it/s]"
     ]
    }
   ],
   "source": [
    "pool = Pool(20)\n",
    "results = []\n",
    "for result in tqdm(pool.imap_unordered(does_it_return, gene_intron, chunksize=1000), mininterval=60, maxinterval=300):\n",
    "    results.append(result)"
   ]
  },
  {
   "cell_type": "code",
   "execution_count": null,
   "metadata": {},
   "outputs": [],
   "source": []
  },
  {
   "cell_type": "code",
   "execution_count": null,
   "metadata": {},
   "outputs": [],
   "source": []
  },
  {
   "cell_type": "code",
   "execution_count": null,
   "metadata": {},
   "outputs": [],
   "source": []
  },
  {
   "cell_type": "code",
   "execution_count": 62,
   "metadata": {},
   "outputs": [],
   "source": [
    "cagado = [i for i in gene_intron if len(i) == 0 or len(i) == 1]"
   ]
  },
  {
   "cell_type": "code",
   "execution_count": 63,
   "metadata": {},
   "outputs": [
    {
     "data": {
      "text/plain": [
       "0"
      ]
     },
     "execution_count": 63,
     "metadata": {},
     "output_type": "execute_result"
    }
   ],
   "source": [
    "len(cagado)"
   ]
  },
  {
   "cell_type": "code",
   "execution_count": null,
   "metadata": {},
   "outputs": [],
   "source": []
  },
  {
   "cell_type": "code",
   "execution_count": null,
   "metadata": {},
   "outputs": [],
   "source": []
  },
  {
   "cell_type": "code",
   "execution_count": null,
   "metadata": {},
   "outputs": [],
   "source": []
  },
  {
   "cell_type": "code",
   "execution_count": null,
   "metadata": {},
   "outputs": [],
   "source": []
  },
  {
   "cell_type": "code",
   "execution_count": null,
   "metadata": {},
   "outputs": [],
   "source": []
  },
  {
   "cell_type": "code",
   "execution_count": null,
   "metadata": {},
   "outputs": [],
   "source": []
  },
  {
   "cell_type": "code",
   "execution_count": null,
   "metadata": {},
   "outputs": [],
   "source": []
  },
  {
   "cell_type": "code",
   "execution_count": 10,
   "metadata": {},
   "outputs": [
    {
     "data": {
      "text/html": [
       "<div>\n",
       "<table border=\"1\" class=\"dataframe\">\n",
       "  <thead>\n",
       "    <tr style=\"text-align: right;\">\n",
       "      <th></th>\n",
       "      <th>intron</th>\n",
       "      <th>nsuc</th>\n",
       "      <th>ntri</th>\n",
       "    </tr>\n",
       "  </thead>\n",
       "  <tbody>\n",
       "    <tr>\n",
       "      <th>0</th>\n",
       "      <td>1</td>\n",
       "      <td>1</td>\n",
       "      <td>3</td>\n",
       "    </tr>\n",
       "    <tr>\n",
       "      <th>1</th>\n",
       "      <td>1</td>\n",
       "      <td>0</td>\n",
       "      <td>3</td>\n",
       "    </tr>\n",
       "    <tr>\n",
       "      <th>2</th>\n",
       "      <td>1</td>\n",
       "      <td>0</td>\n",
       "      <td>4</td>\n",
       "    </tr>\n",
       "    <tr>\n",
       "      <th>3</th>\n",
       "      <td>1</td>\n",
       "      <td>0</td>\n",
       "      <td>3</td>\n",
       "    </tr>\n",
       "    <tr>\n",
       "      <th>4</th>\n",
       "      <td>1</td>\n",
       "      <td>0</td>\n",
       "      <td>2</td>\n",
       "    </tr>\n",
       "  </tbody>\n",
       "</table>\n",
       "</div>"
      ],
      "text/plain": [
       "   intron  nsuc  ntri\n",
       "0       1     1     3\n",
       "1       1     0     3\n",
       "2       1     0     4\n",
       "3       1     0     3\n",
       "4       1     0     2"
      ]
     },
     "execution_count": 10,
     "metadata": {},
     "output_type": "execute_result"
    }
   ],
   "source": [
    "df = read_gene(gene0)\n",
    "df.head()"
   ]
  },
  {
   "cell_type": "code",
   "execution_count": 23,
   "metadata": {},
   "outputs": [],
   "source": []
  },
  {
   "cell_type": "code",
   "execution_count": 27,
   "metadata": {},
   "outputs": [],
   "source": [
    "p = Pool(20)\n",
    "ok = p.map(toolz.compose(accept, read_gene), genes)"
   ]
  },
  {
   "cell_type": "code",
   "execution_count": 30,
   "metadata": {},
   "outputs": [
    {
     "name": "stdout",
     "output_type": "stream",
     "text": [
      "We have genes that have passed the 26721\n"
     ]
    }
   ],
   "source": [
    "print(\"We have genes that have passed the %d\" % sum(ok))"
   ]
  },
  {
   "cell_type": "code",
   "execution_count": null,
   "metadata": {},
   "outputs": [],
   "source": []
  }
 ],
 "metadata": {
  "kernelspec": {
   "display_name": "Python [conda env:new27]",
   "language": "python",
   "name": "conda-env-new27-py"
  },
  "language_info": {
   "codemirror_mode": {
    "name": "ipython",
    "version": 2
   },
   "file_extension": ".py",
   "mimetype": "text/x-python",
   "name": "python",
   "nbconvert_exporter": "python",
   "pygments_lexer": "ipython2",
   "version": "2.7.12"
  }
 },
 "nbformat": 4,
 "nbformat_minor": 1
}
