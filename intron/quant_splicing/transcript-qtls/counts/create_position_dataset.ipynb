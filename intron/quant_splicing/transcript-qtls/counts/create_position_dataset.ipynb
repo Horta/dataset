{
 "cells": [
  {
   "cell_type": "code",
   "execution_count": 1,
   "metadata": {},
   "outputs": [],
   "source": [
    "import pandas as pd\n",
    "import tqdm\n",
    "pd.set_option('display.width', 10000)\n",
    "filename = '../annotations/geuvadis/Homo_sapiens.GRCh37.050815.cds_introns.gff3'"
   ]
  },
  {
   "cell_type": "code",
   "execution_count": 2,
   "metadata": {},
   "outputs": [
    {
     "data": {
      "text/html": [
       "<div>\n",
       "<table border=\"1\" class=\"dataframe\">\n",
       "  <thead>\n",
       "    <tr style=\"text-align: right;\">\n",
       "      <th></th>\n",
       "      <th>start_pos</th>\n",
       "      <th>end_pos</th>\n",
       "      <th>gene</th>\n",
       "    </tr>\n",
       "  </thead>\n",
       "  <tbody>\n",
       "    <tr>\n",
       "      <th>0</th>\n",
       "      <td>99884994</td>\n",
       "      <td>99885745</td>\n",
       "      <td>Parent=ENSG00000000003; gene_id=ENSG0000000000...</td>\n",
       "    </tr>\n",
       "    <tr>\n",
       "      <th>1</th>\n",
       "      <td>99885874</td>\n",
       "      <td>99887471</td>\n",
       "      <td>Parent=ENSG00000000003; gene_id=ENSG0000000000...</td>\n",
       "    </tr>\n",
       "    <tr>\n",
       "      <th>2</th>\n",
       "      <td>99887576</td>\n",
       "      <td>99888391</td>\n",
       "      <td>Parent=ENSG00000000003; gene_id=ENSG0000000000...</td>\n",
       "    </tr>\n",
       "    <tr>\n",
       "      <th>3</th>\n",
       "      <td>99888547</td>\n",
       "      <td>99888917</td>\n",
       "      <td>Parent=ENSG00000000003; gene_id=ENSG0000000000...</td>\n",
       "    </tr>\n",
       "    <tr>\n",
       "      <th>4</th>\n",
       "      <td>99889037</td>\n",
       "      <td>99890164</td>\n",
       "      <td>Parent=ENSG00000000003; gene_id=ENSG0000000000...</td>\n",
       "    </tr>\n",
       "  </tbody>\n",
       "</table>\n",
       "</div>"
      ],
      "text/plain": [
       "   start_pos   end_pos                                               gene\n",
       "0   99884994  99885745  Parent=ENSG00000000003; gene_id=ENSG0000000000...\n",
       "1   99885874  99887471  Parent=ENSG00000000003; gene_id=ENSG0000000000...\n",
       "2   99887576  99888391  Parent=ENSG00000000003; gene_id=ENSG0000000000...\n",
       "3   99888547  99888917  Parent=ENSG00000000003; gene_id=ENSG0000000000...\n",
       "4   99889037  99890164  Parent=ENSG00000000003; gene_id=ENSG0000000000..."
      ]
     },
     "execution_count": 2,
     "metadata": {},
     "output_type": "execute_result"
    }
   ],
   "source": [
    "df = pd.read_csv(filename, sep='\\t', skiprows=3, header=None)\n",
    "df.rename(columns={3:'start_pos', 4:'end_pos', 8:'gene'}, inplace=True)\n",
    "del df[0]\n",
    "del df[1]\n",
    "del df[2]\n",
    "del df[5]\n",
    "del df[6]\n",
    "del df[7]\n",
    "df.head()"
   ]
  },
  {
   "cell_type": "code",
   "execution_count": 3,
   "metadata": {},
   "outputs": [
    {
     "data": {
      "text/html": [
       "<div>\n",
       "<table border=\"1\" class=\"dataframe\">\n",
       "  <thead>\n",
       "    <tr style=\"text-align: right;\">\n",
       "      <th></th>\n",
       "      <th>start_pos</th>\n",
       "      <th>end_pos</th>\n",
       "      <th>gene</th>\n",
       "      <th>intron</th>\n",
       "    </tr>\n",
       "  </thead>\n",
       "  <tbody>\n",
       "    <tr>\n",
       "      <th>0</th>\n",
       "      <td>99884994</td>\n",
       "      <td>99885745</td>\n",
       "      <td>ENSG00000000003</td>\n",
       "      <td>1</td>\n",
       "    </tr>\n",
       "    <tr>\n",
       "      <th>1</th>\n",
       "      <td>99885874</td>\n",
       "      <td>99887471</td>\n",
       "      <td>ENSG00000000003</td>\n",
       "      <td>2</td>\n",
       "    </tr>\n",
       "    <tr>\n",
       "      <th>2</th>\n",
       "      <td>99887576</td>\n",
       "      <td>99888391</td>\n",
       "      <td>ENSG00000000003</td>\n",
       "      <td>3</td>\n",
       "    </tr>\n",
       "    <tr>\n",
       "      <th>3</th>\n",
       "      <td>99888547</td>\n",
       "      <td>99888917</td>\n",
       "      <td>ENSG00000000003</td>\n",
       "      <td>4</td>\n",
       "    </tr>\n",
       "    <tr>\n",
       "      <th>4</th>\n",
       "      <td>99889037</td>\n",
       "      <td>99890164</td>\n",
       "      <td>ENSG00000000003</td>\n",
       "      <td>5</td>\n",
       "    </tr>\n",
       "  </tbody>\n",
       "</table>\n",
       "</div>"
      ],
      "text/plain": [
       "   start_pos   end_pos             gene  intron\n",
       "0   99884994  99885745  ENSG00000000003       1\n",
       "1   99885874  99887471  ENSG00000000003       2\n",
       "2   99887576  99888391  ENSG00000000003       3\n",
       "3   99888547  99888917  ENSG00000000003       4\n",
       "4   99889037  99890164  ENSG00000000003       5"
      ]
     },
     "execution_count": 3,
     "metadata": {},
     "output_type": "execute_result"
    }
   ],
   "source": [
    "df['intron'] = df['gene'].apply(lambda x: int(x.split('; ')[2].split('_')[2]))\n",
    "df['gene'] = df['gene'].apply(lambda x: x.split('; ')[1].replace('gene_id=', ''))\n",
    "df.head()"
   ]
  },
  {
   "cell_type": "code",
   "execution_count": 4,
   "metadata": {},
   "outputs": [
    {
     "data": {
      "text/plain": [
       "(225590, 4)"
      ]
     },
     "execution_count": 4,
     "metadata": {},
     "output_type": "execute_result"
    }
   ],
   "source": [
    "df.shape"
   ]
  },
  {
   "cell_type": "code",
   "execution_count": 5,
   "metadata": {},
   "outputs": [],
   "source": [
    "data = dict()\n",
    "for w in df.iterrows():\n",
    "    r = w[1]\n",
    "    if r[2] not in data:\n",
    "        data[r[2]] = dict()\n",
    "    data[r[2]][r[3]] = dict(start_pos=int(r[0]), end_pos=int(r[1]))\n",
    "\n",
    "import msgpack\n",
    "import blosc\n",
    "with open('positions.msg.blosc', 'wb') as f:\n",
    "    f.write(blosc.compress(msgpack.packb(data)))"
   ]
  },
  {
   "cell_type": "code",
   "execution_count": 6,
   "metadata": {},
   "outputs": [],
   "source": [
    "with open('positions.msg.blosc', 'rb') as f:\n",
    "    data = msgpack.unpackb(blosc.decompress(f.read()))"
   ]
  }
 ],
 "metadata": {
  "kernelspec": {
   "display_name": "Python [conda env:data]",
   "language": "python",
   "name": "conda-env-data-py"
  },
  "language_info": {
   "codemirror_mode": {
    "name": "ipython",
    "version": 3
   },
   "file_extension": ".py",
   "mimetype": "text/x-python",
   "name": "python",
   "nbconvert_exporter": "python",
   "pygments_lexer": "ipython3",
   "version": "3.5.2"
  }
 },
 "nbformat": 4,
 "nbformat_minor": 1
}
