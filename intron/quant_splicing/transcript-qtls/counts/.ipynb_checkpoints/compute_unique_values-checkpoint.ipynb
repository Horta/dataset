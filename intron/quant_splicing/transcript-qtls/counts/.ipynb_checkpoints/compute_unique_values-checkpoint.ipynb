{
 "cells": [
  {
   "cell_type": "code",
   "execution_count": null,
   "metadata": {},
   "outputs": [],
   "source": [
    "import bcolz\n",
    "import numpy as np\n",
    "table = bcolz.open('introns.bcolz', mode='r')\n",
    "print(table.cols.names)"
   ]
  },
  {
   "cell_type": "code",
   "execution_count": null,
   "metadata": {},
   "outputs": [],
   "source": [
    "def save_unique(table, name):\n",
    "    uarr = np.unique(np.asarray(table[name]))\n",
    "    bcolz.carray(uarr).copy(rootdir='u%s.bcolz' % name)\n",
    "\n",
    "for n in ['gene', 'assay', 'person_id', 'lab_id']:\n",
    "    save_unique(table, n)"
   ]
  }
 ],
 "metadata": {
  "kernelspec": {
   "display_name": "Python [conda root]",
   "language": "python",
   "name": "conda-root-py"
  },
  "language_info": {
   "codemirror_mode": {
    "name": "ipython",
    "version": 2
   },
   "file_extension": ".py",
   "mimetype": "text/x-python",
   "name": "python",
   "nbconvert_exporter": "python",
   "pygments_lexer": "ipython2",
   "version": "2.7.12"
  }
 },
 "nbformat": 4,
 "nbformat_minor": 1
}
