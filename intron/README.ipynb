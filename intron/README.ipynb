{
 "cells": [
  {
   "cell_type": "markdown",
   "metadata": {},
   "source": [
    "# Differential Splicing\n",
    "\n",
    "This dataset has been provided by Kaur Alasoo (<mailto:kaur.alasoo@sanger.ac.uk>).\n",
    "It is about differential splicing across genes-introns for the 465 samples from\n",
    "Link to [Geuvadis](../geuvadis/README.ipynb).\n",
    "\n",
    "# What Geuvadis is?\n",
    "\n",
    "Sequencing on about 465 (the exact number depend on the release version)\n",
    "lymphoblastoid cell line (LCL) samples from 5 populations of the 1000 Genomes\n",
    "Project: the CEPH (CEU), Finns (FIN), British (GBR), Toscani (TSI) and Yoruba (YRI).\n",
    "\n",
    "Here are the releases:\n",
    "\n",
    "- http://www.ebi.ac.uk/arrayexpress/experiments/E-GEUV-1/\n",
    "- http://www.ebi.ac.uk/arrayexpress/experiments/E-GEUV-2/\n",
    "- http://www.ebi.ac.uk/arrayexpress/experiments/E-GEUV-3/\n",
    "- http://www.ebi.ac.uk/arrayexpress/experiments/E-GEUV-4/\n",
    "- http://www.ebi.ac.uk/arrayexpress/experiments/E-GEUV-5/\n",
    "- http://www.ebi.ac.uk/arrayexpress/experiments/E-GEUV-6/\n",
    "\n",
    "We will be using the first version: E-GEUV-1"
   ]
  },
  {
   "cell_type": "markdown",
   "metadata": {},
   "source": [
    "## Directory tree context\n",
    "\n",
    "\n",
    "In **quant_splicing/transcript-qtls/** you will find the code used\n",
    "to process the dataset and the dataset itself.\n",
    "Go to [README](quant_splicing/transcript-qtls/README.ipyn) to find more\n",
    "information."
   ]
  },
  {
   "cell_type": "code",
   "execution_count": null,
   "metadata": {},
   "outputs": [],
   "source": []
  }
 ],
 "metadata": {
  "kernelspec": {
   "display_name": "Python [conda env:data]",
   "language": "python",
   "name": "conda-env-data-py"
  },
  "language_info": {
   "codemirror_mode": {
    "name": "ipython",
    "version": 3
   },
   "file_extension": ".py",
   "mimetype": "text/x-python",
   "name": "python",
   "nbconvert_exporter": "python",
   "pygments_lexer": "ipython3",
   "version": "3.5.2"
  }
 },
 "nbformat": 4,
 "nbformat_minor": 1
}
